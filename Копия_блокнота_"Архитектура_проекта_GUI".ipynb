{
  "nbformat": 4,
  "nbformat_minor": 0,
  "metadata": {
    "colab": {
      "provenance": [],
      "include_colab_link": true
    },
    "kernelspec": {
      "name": "python3",
      "display_name": "Python 3"
    },
    "language_info": {
      "name": "python"
    }
  },
  "cells": [
    {
      "cell_type": "markdown",
      "metadata": {
        "id": "view-in-github",
        "colab_type": "text"
      },
      "source": [
        "<a href=\"https://colab.research.google.com/github/teestar5/lesson00/blob/NeJron/%D0%9A%D0%BE%D0%BF%D0%B8%D1%8F_%D0%B1%D0%BB%D0%BE%D0%BA%D0%BD%D0%BE%D1%82%D0%B0_%22%D0%90%D1%80%D1%85%D0%B8%D1%82%D0%B5%D0%BA%D1%82%D1%83%D1%80%D0%B0_%D0%BF%D1%80%D0%BE%D0%B5%D0%BA%D1%82%D0%B0_GUI%22.ipynb\" target=\"_parent\"><img src=\"https://colab.research.google.com/assets/colab-badge.svg\" alt=\"Open In Colab\"/></a>"
      ]
    },
    {
      "cell_type": "code",
      "source": [
        "# подключаем гугл-диск\n",
        "from google.colab import drive\n",
        "drive.mount('/content/gdrive')"
      ],
      "metadata": {
        "id": "28ppOI9knUa1",
        "colab": {
          "base_uri": "https://localhost:8080/"
        },
        "outputId": "097fb0d5-33b0-47e2-81a4-1e41e5c030c0"
      },
      "execution_count": null,
      "outputs": [
        {
          "output_type": "stream",
          "name": "stdout",
          "text": [
            "Mounted at /content/gdrive\n"
          ]
        }
      ]
    },
    {
      "cell_type": "code",
      "execution_count": null,
      "metadata": {
        "id": "aq2ciwSxCgiQ"
      },
      "outputs": [],
      "source": [
        "# импортируем наши модули\n",
        "from gdrive.MyDrive.bakery_project.bakeryClient import new_order, cancel_order\n",
        "from gdrive.MyDrive.bakery_project.bakerySeller import get_order, add_supply"
      ]
    },
    {
      "cell_type": "markdown",
      "source": [
        "# Интерфейс клиента"
      ],
      "metadata": {
        "id": "rL0sQUNp-18E"
      }
    },
    {
      "cell_type": "code",
      "source": [
        "#@markdown # НОВЫЙ ЗАКАЗ\n",
        "#@markdown ---\n",
        "#@markdown #### Выбор магазина\n",
        "shop = '\\u0413\\u0430\\u0433\\u0430\\u0440\\u0438\\u043D\\u0430' #@param [\"Гагарина\", \"Пушкина\", \"Энгельса\", \"Каменоостровский\", \"Косыгина\"]\n",
        "\n",
        "#@markdown +\n",
        "#@markdown #### Выбор выпечки\n",
        "плюшки = 1 #@param {type:\"slider\", min:0, max:10, step:1}\n",
        "круассаны = 1 #@param {type:\"slider\", min:0, max:10, step:1}\n",
        "рогалики = 1 #@param {type:\"slider\", min:0, max:10, step:1}\n",
        "крендельки = 0 #@param {type:\"slider\", min:0, max:10, step:1}\n",
        "калачи = 1 #@param {type:\"slider\", min:0, max:10, step:1}\n",
        "пампушки = 0 #@param {type:\"slider\", min:0, max:10, step:1}\n",
        "ватрушки = 1 #@param {type:\"slider\", min:0, max:10, step:1}\n",
        "\n",
        "#@markdown +\n",
        "#@markdown #### Выбор напитков\n",
        "черный_чай = 0 #@param {type:\"slider\", min:0, max:10, step:1}\n",
        "зеленый_чай = 2 #@param {type:\"slider\", min:0, max:10, step:1}\n",
        "капучино = 0 #@param {type:\"slider\", min:0, max:10, step:1}\n",
        "латте = 1 #@param {type:\"slider\", min:0, max:10, step:1}\n",
        "эспрессо = 0 #@param {type:\"slider\", min:0, max:10, step:1}\n",
        "какао = 0 #@param {type:\"slider\", min:0, max:10, step:1}\n",
        "\n",
        "list_goods = [плюшки,\n",
        "              круассаны,\n",
        "              рогалики,\n",
        "              крендельки,\n",
        "              калачи,\n",
        "              пампушки,\n",
        "              ватрушки,\n",
        "              черный_чай,\n",
        "              зеленый_чай,\n",
        "              капучино,\n",
        "              латте,\n",
        "              эспрессо,\n",
        "              какао]\n",
        "\n",
        "list_names = ['плюшки',\n",
        "              'круассаны',\n",
        "              'рогалики',\n",
        "              'крендельки',\n",
        "              'калачи',\n",
        "              'пампушки',\n",
        "              'ватрушки',\n",
        "              'черный чай',\n",
        "              'зеленый чай',\n",
        "              'капучино',\n",
        "              'латте',\n",
        "              'эспрессо',\n",
        "              'какао']\n",
        "\n",
        "order = dict()\n",
        "num = 0\n",
        "for i in list_goods:\n",
        "  if i!=0:\n",
        "    order[list_names[num]] = i\n",
        "  num+=1\n",
        "\n",
        "new_order(shop, order)"
      ],
      "metadata": {
        "colab": {
          "base_uri": "https://localhost:8080/"
        },
        "cellView": "form",
        "id": "_YX4l2HJoQi6",
        "outputId": "52beb4e8-fde8-4c10-efbc-99722b819dc9"
      },
      "execution_count": null,
      "outputs": [
        {
          "output_type": "stream",
          "name": "stdout",
          "text": [
            "Ваш заказ успешно создан\n",
            "id вашего заказа: 309185\n"
          ]
        }
      ]
    },
    {
      "cell_type": "code",
      "source": [],
      "metadata": {
        "id": "BLz_3k8etxkC"
      },
      "execution_count": null,
      "outputs": []
    },
    {
      "cell_type": "code",
      "source": [
        "#@markdown # Отмена заказа\n",
        "#@markdown ---\n",
        "#@markdown #### Введите id заказа\n",
        "id = 504243 #@param {type:\"integer\"}\n",
        "\n",
        "cancel_order(id=id)"
      ],
      "metadata": {
        "colab": {
          "base_uri": "https://localhost:8080/"
        },
        "cellView": "form",
        "id": "gWxIFiiouQMd",
        "outputId": "c592be4f-8958-4abd-8c53-8ee6127ffed4"
      },
      "execution_count": null,
      "outputs": [
        {
          "output_type": "stream",
          "name": "stdout",
          "text": [
            "Заказ 504243 отменён\n"
          ]
        }
      ]
    },
    {
      "cell_type": "code",
      "source": [],
      "metadata": {
        "id": "A5x4Xii4-TBi"
      },
      "execution_count": null,
      "outputs": []
    },
    {
      "cell_type": "markdown",
      "source": [
        "# Интерфейс продавца"
      ],
      "metadata": {
        "id": "NESIxxEa_Gtc"
      }
    },
    {
      "cell_type": "code",
      "source": [
        "import pandas as pd\n",
        "\n",
        "# путь к файлу для мониторинга новых заказов\n",
        "path = '/content/gdrive/MyDrive/bakery_project/data/кондитерская.xlsx'\n",
        "\n",
        "#@markdown # МОНИТОРИНГ НОВЫХ ЗАКАЗОВ\n",
        "#@markdown ---\n",
        "#@markdown #### Выбор магазина\n",
        "shop = '\\u0413\\u0430\\u0433\\u0430\\u0440\\u0438\\u043D\\u0430' #@param [\"Гагарина\", \"Пушкина\", \"Энгельса\", \"Каменоостровский\", \"Косыгина\"]\n",
        "\n",
        "# подгружаем лист 'ЗАКАЗЫ'\n",
        "ords = pd.read_excel(path, sheet_name='ЗАКАЗЫ')\n",
        "ords[(ords['shop']==shop) & (ords['status']=='новый заказ')]"
      ],
      "metadata": {
        "colab": {
          "base_uri": "https://localhost:8080/",
          "height": 80
        },
        "cellView": "form",
        "id": "sgdpM03P_KAr",
        "outputId": "f7f64585-bbbb-4fcc-e043-90468f170851"
      },
      "execution_count": null,
      "outputs": [
        {
          "output_type": "execute_result",
          "data": {
            "text/plain": [
              "       id      shop                                              order  total  \\\n",
              "5  309185  Гагарина  {'плюшки': 1, 'круассаны': 1, 'рогалики': 1, '...   1780   \n",
              "\n",
              "        status  \n",
              "5  новый заказ  "
            ],
            "text/html": [
              "\n",
              "  <div id=\"df-94d46e22-362b-43e2-9465-f4fd0f7b7c30\">\n",
              "    <div class=\"colab-df-container\">\n",
              "      <div>\n",
              "<style scoped>\n",
              "    .dataframe tbody tr th:only-of-type {\n",
              "        vertical-align: middle;\n",
              "    }\n",
              "\n",
              "    .dataframe tbody tr th {\n",
              "        vertical-align: top;\n",
              "    }\n",
              "\n",
              "    .dataframe thead th {\n",
              "        text-align: right;\n",
              "    }\n",
              "</style>\n",
              "<table border=\"1\" class=\"dataframe\">\n",
              "  <thead>\n",
              "    <tr style=\"text-align: right;\">\n",
              "      <th></th>\n",
              "      <th>id</th>\n",
              "      <th>shop</th>\n",
              "      <th>order</th>\n",
              "      <th>total</th>\n",
              "      <th>status</th>\n",
              "    </tr>\n",
              "  </thead>\n",
              "  <tbody>\n",
              "    <tr>\n",
              "      <th>5</th>\n",
              "      <td>309185</td>\n",
              "      <td>Гагарина</td>\n",
              "      <td>{'плюшки': 1, 'круассаны': 1, 'рогалики': 1, '...</td>\n",
              "      <td>1780</td>\n",
              "      <td>новый заказ</td>\n",
              "    </tr>\n",
              "  </tbody>\n",
              "</table>\n",
              "</div>\n",
              "      <button class=\"colab-df-convert\" onclick=\"convertToInteractive('df-94d46e22-362b-43e2-9465-f4fd0f7b7c30')\"\n",
              "              title=\"Convert this dataframe to an interactive table.\"\n",
              "              style=\"display:none;\">\n",
              "        \n",
              "  <svg xmlns=\"http://www.w3.org/2000/svg\" height=\"24px\"viewBox=\"0 0 24 24\"\n",
              "       width=\"24px\">\n",
              "    <path d=\"M0 0h24v24H0V0z\" fill=\"none\"/>\n",
              "    <path d=\"M18.56 5.44l.94 2.06.94-2.06 2.06-.94-2.06-.94-.94-2.06-.94 2.06-2.06.94zm-11 1L8.5 8.5l.94-2.06 2.06-.94-2.06-.94L8.5 2.5l-.94 2.06-2.06.94zm10 10l.94 2.06.94-2.06 2.06-.94-2.06-.94-.94-2.06-.94 2.06-2.06.94z\"/><path d=\"M17.41 7.96l-1.37-1.37c-.4-.4-.92-.59-1.43-.59-.52 0-1.04.2-1.43.59L10.3 9.45l-7.72 7.72c-.78.78-.78 2.05 0 2.83L4 21.41c.39.39.9.59 1.41.59.51 0 1.02-.2 1.41-.59l7.78-7.78 2.81-2.81c.8-.78.8-2.07 0-2.86zM5.41 20L4 18.59l7.72-7.72 1.47 1.35L5.41 20z\"/>\n",
              "  </svg>\n",
              "      </button>\n",
              "      \n",
              "  <style>\n",
              "    .colab-df-container {\n",
              "      display:flex;\n",
              "      flex-wrap:wrap;\n",
              "      gap: 12px;\n",
              "    }\n",
              "\n",
              "    .colab-df-convert {\n",
              "      background-color: #E8F0FE;\n",
              "      border: none;\n",
              "      border-radius: 50%;\n",
              "      cursor: pointer;\n",
              "      display: none;\n",
              "      fill: #1967D2;\n",
              "      height: 32px;\n",
              "      padding: 0 0 0 0;\n",
              "      width: 32px;\n",
              "    }\n",
              "\n",
              "    .colab-df-convert:hover {\n",
              "      background-color: #E2EBFA;\n",
              "      box-shadow: 0px 1px 2px rgba(60, 64, 67, 0.3), 0px 1px 3px 1px rgba(60, 64, 67, 0.15);\n",
              "      fill: #174EA6;\n",
              "    }\n",
              "\n",
              "    [theme=dark] .colab-df-convert {\n",
              "      background-color: #3B4455;\n",
              "      fill: #D2E3FC;\n",
              "    }\n",
              "\n",
              "    [theme=dark] .colab-df-convert:hover {\n",
              "      background-color: #434B5C;\n",
              "      box-shadow: 0px 1px 3px 1px rgba(0, 0, 0, 0.15);\n",
              "      filter: drop-shadow(0px 1px 2px rgba(0, 0, 0, 0.3));\n",
              "      fill: #FFFFFF;\n",
              "    }\n",
              "  </style>\n",
              "\n",
              "      <script>\n",
              "        const buttonEl =\n",
              "          document.querySelector('#df-94d46e22-362b-43e2-9465-f4fd0f7b7c30 button.colab-df-convert');\n",
              "        buttonEl.style.display =\n",
              "          google.colab.kernel.accessAllowed ? 'block' : 'none';\n",
              "\n",
              "        async function convertToInteractive(key) {\n",
              "          const element = document.querySelector('#df-94d46e22-362b-43e2-9465-f4fd0f7b7c30');\n",
              "          const dataTable =\n",
              "            await google.colab.kernel.invokeFunction('convertToInteractive',\n",
              "                                                     [key], {});\n",
              "          if (!dataTable) return;\n",
              "\n",
              "          const docLinkHtml = 'Like what you see? Visit the ' +\n",
              "            '<a target=\"_blank\" href=https://colab.research.google.com/notebooks/data_table.ipynb>data table notebook</a>'\n",
              "            + ' to learn more about interactive tables.';\n",
              "          element.innerHTML = '';\n",
              "          dataTable['output_type'] = 'display_data';\n",
              "          await google.colab.output.renderOutput(dataTable, element);\n",
              "          const docLink = document.createElement('div');\n",
              "          docLink.innerHTML = docLinkHtml;\n",
              "          element.appendChild(docLink);\n",
              "        }\n",
              "      </script>\n",
              "    </div>\n",
              "  </div>\n",
              "  "
            ]
          },
          "metadata": {},
          "execution_count": 6
        }
      ]
    },
    {
      "cell_type": "code",
      "source": [],
      "metadata": {
        "id": "iJMHWHHAGBWq"
      },
      "execution_count": null,
      "outputs": []
    },
    {
      "cell_type": "code",
      "source": [
        "# путь к файлу для мониторинга новых заказов\n",
        "path = '/content/gdrive/MyDrive/bakery_project/data/кондитерская.xlsx'\n",
        "\n",
        "#@markdown # ВЗЯТИЕ ЗАКАЗА В РАБОТУ\n",
        "#@markdown ---\n",
        "#@markdown #### Выбор магазина\n",
        "shop = '\\u0413\\u0430\\u0433\\u0430\\u0440\\u0438\\u043D\\u0430' #@param [\"Гагарина\", \"Пушкина\", \"Энгельса\", \"Каменоостровский\", \"Косыгина\"]\n",
        "#@markdown #### Введите id заказа\n",
        "id = 309185 #@param {type:\"integer\"}\n",
        "\n",
        "get_order(shop, id)"
      ],
      "metadata": {
        "colab": {
          "base_uri": "https://localhost:8080/"
        },
        "cellView": "form",
        "id": "6FBJo-_FGBYr",
        "outputId": "ffff053a-520f-46b6-d3a7-741462de7948"
      },
      "execution_count": null,
      "outputs": [
        {
          "output_type": "stream",
          "name": "stdout",
          "text": [
            "Заказ 309185 готов к выдаче\n"
          ]
        }
      ]
    },
    {
      "cell_type": "code",
      "source": [],
      "metadata": {
        "id": "6xp5VlQeFbct"
      },
      "execution_count": null,
      "outputs": []
    },
    {
      "cell_type": "code",
      "source": [
        "import pandas as pd\n",
        "\n",
        "# путь к файлу для мониторинга новых заказов\n",
        "path = '/content/gdrive/MyDrive/bakery_project/data/кондитерская.xlsx'\n",
        "\n",
        "#@markdown # МОНИТОРИНГ ОСТАТКА ТОВАРОВ\n",
        "#@markdown ---\n",
        "#@markdown #### Выбор магазина\n",
        "shop = '\\u0413\\u0430\\u0433\\u0430\\u0440\\u0438\\u043D\\u0430' #@param [\"Гагарина\", \"Пушкина\", \"Энгельса\", \"Каменоостровский\", \"Косыгина\"]\n",
        "\n",
        "# подгружаем лист 'ЗАКАЗЫ'\n",
        "goods = pd.read_excel(path, sheet_name=shop)\n",
        "goods"
      ],
      "metadata": {
        "colab": {
          "base_uri": "https://localhost:8080/",
          "height": 457
        },
        "cellView": "form",
        "id": "P9NiZ97eFbvy",
        "outputId": "68b79c81-a9c0-4d34-a3a5-7e46e314aee7"
      },
      "execution_count": null,
      "outputs": [
        {
          "output_type": "execute_result",
          "data": {
            "text/plain": [
              "     kind         name  price  amount\n",
              "0    bake       плюшки    200      29\n",
              "1    bake    круассаны    350      29\n",
              "2    bake     рогалики    300      29\n",
              "3    bake   крендельки    280      30\n",
              "4    bake       калачи     80      29\n",
              "5    bake     пампушки     70      30\n",
              "6    bake     ватрушки    250      29\n",
              "7   drink   черный чай    150      30\n",
              "8   drink  зеленый чай    150      28\n",
              "9   drink     капучино    220      30\n",
              "10  drink        латте    300      29\n",
              "11  drink     эспрессо    260      30\n",
              "12  drink        какао    220      30"
            ],
            "text/html": [
              "\n",
              "  <div id=\"df-8df448a1-4834-4053-b342-defe3e1a3d6e\">\n",
              "    <div class=\"colab-df-container\">\n",
              "      <div>\n",
              "<style scoped>\n",
              "    .dataframe tbody tr th:only-of-type {\n",
              "        vertical-align: middle;\n",
              "    }\n",
              "\n",
              "    .dataframe tbody tr th {\n",
              "        vertical-align: top;\n",
              "    }\n",
              "\n",
              "    .dataframe thead th {\n",
              "        text-align: right;\n",
              "    }\n",
              "</style>\n",
              "<table border=\"1\" class=\"dataframe\">\n",
              "  <thead>\n",
              "    <tr style=\"text-align: right;\">\n",
              "      <th></th>\n",
              "      <th>kind</th>\n",
              "      <th>name</th>\n",
              "      <th>price</th>\n",
              "      <th>amount</th>\n",
              "    </tr>\n",
              "  </thead>\n",
              "  <tbody>\n",
              "    <tr>\n",
              "      <th>0</th>\n",
              "      <td>bake</td>\n",
              "      <td>плюшки</td>\n",
              "      <td>200</td>\n",
              "      <td>29</td>\n",
              "    </tr>\n",
              "    <tr>\n",
              "      <th>1</th>\n",
              "      <td>bake</td>\n",
              "      <td>круассаны</td>\n",
              "      <td>350</td>\n",
              "      <td>29</td>\n",
              "    </tr>\n",
              "    <tr>\n",
              "      <th>2</th>\n",
              "      <td>bake</td>\n",
              "      <td>рогалики</td>\n",
              "      <td>300</td>\n",
              "      <td>29</td>\n",
              "    </tr>\n",
              "    <tr>\n",
              "      <th>3</th>\n",
              "      <td>bake</td>\n",
              "      <td>крендельки</td>\n",
              "      <td>280</td>\n",
              "      <td>30</td>\n",
              "    </tr>\n",
              "    <tr>\n",
              "      <th>4</th>\n",
              "      <td>bake</td>\n",
              "      <td>калачи</td>\n",
              "      <td>80</td>\n",
              "      <td>29</td>\n",
              "    </tr>\n",
              "    <tr>\n",
              "      <th>5</th>\n",
              "      <td>bake</td>\n",
              "      <td>пампушки</td>\n",
              "      <td>70</td>\n",
              "      <td>30</td>\n",
              "    </tr>\n",
              "    <tr>\n",
              "      <th>6</th>\n",
              "      <td>bake</td>\n",
              "      <td>ватрушки</td>\n",
              "      <td>250</td>\n",
              "      <td>29</td>\n",
              "    </tr>\n",
              "    <tr>\n",
              "      <th>7</th>\n",
              "      <td>drink</td>\n",
              "      <td>черный чай</td>\n",
              "      <td>150</td>\n",
              "      <td>30</td>\n",
              "    </tr>\n",
              "    <tr>\n",
              "      <th>8</th>\n",
              "      <td>drink</td>\n",
              "      <td>зеленый чай</td>\n",
              "      <td>150</td>\n",
              "      <td>28</td>\n",
              "    </tr>\n",
              "    <tr>\n",
              "      <th>9</th>\n",
              "      <td>drink</td>\n",
              "      <td>капучино</td>\n",
              "      <td>220</td>\n",
              "      <td>30</td>\n",
              "    </tr>\n",
              "    <tr>\n",
              "      <th>10</th>\n",
              "      <td>drink</td>\n",
              "      <td>латте</td>\n",
              "      <td>300</td>\n",
              "      <td>29</td>\n",
              "    </tr>\n",
              "    <tr>\n",
              "      <th>11</th>\n",
              "      <td>drink</td>\n",
              "      <td>эспрессо</td>\n",
              "      <td>260</td>\n",
              "      <td>30</td>\n",
              "    </tr>\n",
              "    <tr>\n",
              "      <th>12</th>\n",
              "      <td>drink</td>\n",
              "      <td>какао</td>\n",
              "      <td>220</td>\n",
              "      <td>30</td>\n",
              "    </tr>\n",
              "  </tbody>\n",
              "</table>\n",
              "</div>\n",
              "      <button class=\"colab-df-convert\" onclick=\"convertToInteractive('df-8df448a1-4834-4053-b342-defe3e1a3d6e')\"\n",
              "              title=\"Convert this dataframe to an interactive table.\"\n",
              "              style=\"display:none;\">\n",
              "        \n",
              "  <svg xmlns=\"http://www.w3.org/2000/svg\" height=\"24px\"viewBox=\"0 0 24 24\"\n",
              "       width=\"24px\">\n",
              "    <path d=\"M0 0h24v24H0V0z\" fill=\"none\"/>\n",
              "    <path d=\"M18.56 5.44l.94 2.06.94-2.06 2.06-.94-2.06-.94-.94-2.06-.94 2.06-2.06.94zm-11 1L8.5 8.5l.94-2.06 2.06-.94-2.06-.94L8.5 2.5l-.94 2.06-2.06.94zm10 10l.94 2.06.94-2.06 2.06-.94-2.06-.94-.94-2.06-.94 2.06-2.06.94z\"/><path d=\"M17.41 7.96l-1.37-1.37c-.4-.4-.92-.59-1.43-.59-.52 0-1.04.2-1.43.59L10.3 9.45l-7.72 7.72c-.78.78-.78 2.05 0 2.83L4 21.41c.39.39.9.59 1.41.59.51 0 1.02-.2 1.41-.59l7.78-7.78 2.81-2.81c.8-.78.8-2.07 0-2.86zM5.41 20L4 18.59l7.72-7.72 1.47 1.35L5.41 20z\"/>\n",
              "  </svg>\n",
              "      </button>\n",
              "      \n",
              "  <style>\n",
              "    .colab-df-container {\n",
              "      display:flex;\n",
              "      flex-wrap:wrap;\n",
              "      gap: 12px;\n",
              "    }\n",
              "\n",
              "    .colab-df-convert {\n",
              "      background-color: #E8F0FE;\n",
              "      border: none;\n",
              "      border-radius: 50%;\n",
              "      cursor: pointer;\n",
              "      display: none;\n",
              "      fill: #1967D2;\n",
              "      height: 32px;\n",
              "      padding: 0 0 0 0;\n",
              "      width: 32px;\n",
              "    }\n",
              "\n",
              "    .colab-df-convert:hover {\n",
              "      background-color: #E2EBFA;\n",
              "      box-shadow: 0px 1px 2px rgba(60, 64, 67, 0.3), 0px 1px 3px 1px rgba(60, 64, 67, 0.15);\n",
              "      fill: #174EA6;\n",
              "    }\n",
              "\n",
              "    [theme=dark] .colab-df-convert {\n",
              "      background-color: #3B4455;\n",
              "      fill: #D2E3FC;\n",
              "    }\n",
              "\n",
              "    [theme=dark] .colab-df-convert:hover {\n",
              "      background-color: #434B5C;\n",
              "      box-shadow: 0px 1px 3px 1px rgba(0, 0, 0, 0.15);\n",
              "      filter: drop-shadow(0px 1px 2px rgba(0, 0, 0, 0.3));\n",
              "      fill: #FFFFFF;\n",
              "    }\n",
              "  </style>\n",
              "\n",
              "      <script>\n",
              "        const buttonEl =\n",
              "          document.querySelector('#df-8df448a1-4834-4053-b342-defe3e1a3d6e button.colab-df-convert');\n",
              "        buttonEl.style.display =\n",
              "          google.colab.kernel.accessAllowed ? 'block' : 'none';\n",
              "\n",
              "        async function convertToInteractive(key) {\n",
              "          const element = document.querySelector('#df-8df448a1-4834-4053-b342-defe3e1a3d6e');\n",
              "          const dataTable =\n",
              "            await google.colab.kernel.invokeFunction('convertToInteractive',\n",
              "                                                     [key], {});\n",
              "          if (!dataTable) return;\n",
              "\n",
              "          const docLinkHtml = 'Like what you see? Visit the ' +\n",
              "            '<a target=\"_blank\" href=https://colab.research.google.com/notebooks/data_table.ipynb>data table notebook</a>'\n",
              "            + ' to learn more about interactive tables.';\n",
              "          element.innerHTML = '';\n",
              "          dataTable['output_type'] = 'display_data';\n",
              "          await google.colab.output.renderOutput(dataTable, element);\n",
              "          const docLink = document.createElement('div');\n",
              "          docLink.innerHTML = docLinkHtml;\n",
              "          element.appendChild(docLink);\n",
              "        }\n",
              "      </script>\n",
              "    </div>\n",
              "  </div>\n",
              "  "
            ]
          },
          "metadata": {},
          "execution_count": 8
        }
      ]
    },
    {
      "cell_type": "code",
      "source": [],
      "metadata": {
        "id": "GmAhjUF2Kvoj"
      },
      "execution_count": null,
      "outputs": []
    },
    {
      "cell_type": "code",
      "source": [
        "import pandas as pd\n",
        "\n",
        "# путь к файлу для мониторинга новых заказов\n",
        "path = '/content/gdrive/MyDrive/bakery_project/data/кондитерская.xlsx'\n",
        "\n",
        "#@markdown # ПОСТУПЛЕНИЕ ТОВАРА\n",
        "#@markdown ---\n",
        "#@markdown #### Выбор магазина\n",
        "shop = '\\u0413\\u0430\\u0433\\u0430\\u0440\\u0438\\u043D\\u0430' #@param [\"Гагарина\", \"Пушкина\", \"Энгельса\", \"Каменоостровский\", \"Косыгина\"]\n",
        "#@markdown #### Перечень поступивших товаров\n",
        "\n",
        "плюшки = 5 #@param {type:\"slider\", min:0, max:10, step:1}\n",
        "круассаны = 5 #@param {type:\"slider\", min:0, max:10, step:1}\n",
        "рогалики = 5 #@param {type:\"slider\", min:0, max:10, step:1}\n",
        "крендельки = 5 #@param {type:\"slider\", min:0, max:10, step:1}\n",
        "калачи = 5 #@param {type:\"slider\", min:0, max:10, step:1}\n",
        "пампушки = 0 #@param {type:\"slider\", min:0, max:10, step:1}\n",
        "ватрушки = 0 #@param {type:\"slider\", min:0, max:10, step:1}\n",
        "черный_чай = 0 #@param {type:\"slider\", min:0, max:10, step:1}\n",
        "зеленый_чай = 0 #@param {type:\"slider\", min:0, max:10, step:1}\n",
        "капучино = 0 #@param {type:\"slider\", min:0, max:10, step:1}\n",
        "латте = 5 #@param {type:\"slider\", min:0, max:10, step:1}\n",
        "эспрессо = 5 #@param {type:\"slider\", min:0, max:10, step:1}\n",
        "какао = 5 #@param {type:\"slider\", min:0, max:10, step:1}\n",
        "\n",
        "list_goods = [плюшки,\n",
        "              круассаны,\n",
        "              рогалики,\n",
        "              крендельки,\n",
        "              калачи,\n",
        "              пампушки,\n",
        "              ватрушки,\n",
        "              черный_чай,\n",
        "              зеленый_чай,\n",
        "              капучино,\n",
        "              латте,\n",
        "              эспрессо,\n",
        "              какао]\n",
        "\n",
        "list_names = ['плюшки',\n",
        "              'круассаны',\n",
        "              'рогалики',\n",
        "              'крендельки',\n",
        "              'калачи',\n",
        "              'пампушки',\n",
        "              'ватрушки',\n",
        "              'черный чай',\n",
        "              'зеленый чай',\n",
        "              'капучино',\n",
        "              'латте',\n",
        "              'эспрессо',\n",
        "              'какао']\n",
        "\n",
        "gds = dict()\n",
        "num = 0\n",
        "for i in list_goods:\n",
        "  if i!=0:\n",
        "    gds[list_names[num]] = i\n",
        "  num+=1\n",
        "\n",
        "add_supply(shop, gds)"
      ],
      "metadata": {
        "colab": {
          "base_uri": "https://localhost:8080/"
        },
        "cellView": "form",
        "id": "LtVKYfcNKvrF",
        "outputId": "66af7c43-f0ef-4e4c-bf27-0d6be4d188b8"
      },
      "execution_count": null,
      "outputs": [
        {
          "output_type": "stream",
          "name": "stdout",
          "text": [
            "Новые товары добавлены в магазин Гагарина\n"
          ]
        }
      ]
    }
  ]
}