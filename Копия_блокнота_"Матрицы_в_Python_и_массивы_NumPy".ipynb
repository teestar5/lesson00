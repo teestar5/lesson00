{
  "nbformat": 4,
  "nbformat_minor": 0,
  "metadata": {
    "colab": {
      "provenance": [],
      "collapsed_sections": [
        "CJ-k_5ti-JYO",
        "KaeP7mqQxoy3",
        "afbaPXGtSXo4",
        "k-oulBbujw0w",
        "gWbDme_pMvKA",
        "J0rACRzXleBn",
        "uuIe9d2Dlwmv"
      ],
      "include_colab_link": true
    },
    "kernelspec": {
      "name": "python3",
      "display_name": "Python 3"
    },
    "language_info": {
      "name": "python"
    }
  },
  "cells": [
    {
      "cell_type": "markdown",
      "metadata": {
        "id": "view-in-github",
        "colab_type": "text"
      },
      "source": [
        "<a href=\"https://colab.research.google.com/github/teestar5/lesson00/blob/NeJron/%D0%9A%D0%BE%D0%BF%D0%B8%D1%8F_%D0%B1%D0%BB%D0%BE%D0%BA%D0%BD%D0%BE%D1%82%D0%B0_%22%D0%9C%D0%B0%D1%82%D1%80%D0%B8%D1%86%D1%8B_%D0%B2_Python_%D0%B8_%D0%BC%D0%B0%D1%81%D1%81%D0%B8%D0%B2%D1%8B_NumPy%22.ipynb\" target=\"_parent\"><img src=\"https://colab.research.google.com/assets/colab-badge.svg\" alt=\"Open In Colab\"/></a>"
      ]
    },
    {
      "cell_type": "code",
      "execution_count": null,
      "metadata": {
        "id": "PK0F1RSET6Dl"
      },
      "outputs": [],
      "source": [
        "import numpy as np"
      ]
    },
    {
      "cell_type": "code",
      "source": [
        "# список\n",
        "a = [1,2,3]\n",
        "type(a)"
      ],
      "metadata": {
        "colab": {
          "base_uri": "https://localhost:8080/"
        },
        "id": "4MAWdp1_T9mn",
        "outputId": "b05a9da3-b84a-4ee1-b3c4-cc9c5caa1dbc"
      },
      "execution_count": null,
      "outputs": [
        {
          "output_type": "execute_result",
          "data": {
            "text/plain": [
              "list"
            ]
          },
          "metadata": {},
          "execution_count": 2
        }
      ]
    },
    {
      "cell_type": "code",
      "source": [
        "# массив numpy\n",
        "a = np.array([1,2,3])\n",
        "type(a)"
      ],
      "metadata": {
        "colab": {
          "base_uri": "https://localhost:8080/"
        },
        "id": "t1AQz4x4UCfC",
        "outputId": "9e76fc23-d7f7-450c-d346-1211ed169a54"
      },
      "execution_count": null,
      "outputs": [
        {
          "output_type": "execute_result",
          "data": {
            "text/plain": [
              "numpy.ndarray"
            ]
          },
          "metadata": {},
          "execution_count": 3
        }
      ]
    },
    {
      "cell_type": "markdown",
      "source": [
        "### Создание массивов"
      ],
      "metadata": {
        "id": "CJ-k_5ti-JYO"
      }
    },
    {
      "cell_type": "markdown",
      "source": [
        "np.array() - создание массива из объекта списка или любого другого массива"
      ],
      "metadata": {
        "id": "ftjg6Zm1-68A"
      }
    },
    {
      "cell_type": "code",
      "source": [
        "# список\n",
        "a = [10,20,30,40]\n",
        "\n",
        "# массив из списка\n",
        "np.array(a)"
      ],
      "metadata": {
        "colab": {
          "base_uri": "https://localhost:8080/"
        },
        "id": "srjIzcQNS18c",
        "outputId": "3a284b9e-d6bb-45e4-df5f-c0b0229a996c"
      },
      "execution_count": null,
      "outputs": [
        {
          "output_type": "execute_result",
          "data": {
            "text/plain": [
              "array([10, 20, 30, 40])"
            ]
          },
          "metadata": {},
          "execution_count": 33
        }
      ]
    },
    {
      "cell_type": "code",
      "source": [
        "# массив (одномерный) из списка\n",
        "np.array([1,2,3,4,5])"
      ],
      "metadata": {
        "colab": {
          "base_uri": "https://localhost:8080/"
        },
        "id": "fZ65HL8D-TpB",
        "outputId": "c4f77c13-43b2-4672-9cd4-ef8dd74fdba2"
      },
      "execution_count": null,
      "outputs": [
        {
          "output_type": "execute_result",
          "data": {
            "text/plain": [
              "array([1, 2, 3, 4, 5])"
            ]
          },
          "metadata": {},
          "execution_count": 5
        }
      ]
    },
    {
      "cell_type": "code",
      "source": [
        "# массив (двумерный) из списка списков\n",
        "np.array([[1,2,3],\n",
        "          [4,5,6]], dtype=float)"
      ],
      "metadata": {
        "colab": {
          "base_uri": "https://localhost:8080/"
        },
        "id": "vrp2pr9E-Trq",
        "outputId": "db12a331-1487-4708-f1eb-2cc30992501b"
      },
      "execution_count": null,
      "outputs": [
        {
          "output_type": "execute_result",
          "data": {
            "text/plain": [
              "array([[1., 2., 3.],\n",
              "       [4., 5., 6.]])"
            ]
          },
          "metadata": {},
          "execution_count": 13
        }
      ]
    },
    {
      "cell_type": "code",
      "source": [
        "# создадим массив из значений разного типа\n",
        "np.array([1,2,3,'a','b',0.55])"
      ],
      "metadata": {
        "colab": {
          "base_uri": "https://localhost:8080/"
        },
        "id": "pEMxXYlN2PTq",
        "outputId": "a98f13fc-8e5a-4d93-f3d0-64820a2cfc45"
      },
      "execution_count": null,
      "outputs": [
        {
          "output_type": "execute_result",
          "data": {
            "text/plain": [
              "array(['1', '2', '3', 'a', 'b', '0.55'], dtype='<U32')"
            ]
          },
          "metadata": {},
          "execution_count": 26
        }
      ]
    },
    {
      "cell_type": "markdown",
      "source": [
        "Как мы видим, все значения автоматически переведены в строковый формат, так как все значения массива numpy должны быть однотипными."
      ],
      "metadata": {
        "id": "ZfB3zKxk2pxf"
      }
    },
    {
      "cell_type": "markdown",
      "source": [
        "np.zeros() - создание массива нулей, заданной размерности"
      ],
      "metadata": {
        "id": "iPu8Z_p__SHS"
      }
    },
    {
      "cell_type": "code",
      "source": [
        "# массив (одномерный) нулей\n",
        "np.zeros(4)"
      ],
      "metadata": {
        "colab": {
          "base_uri": "https://localhost:8080/"
        },
        "id": "oYgiwKdt-TuL",
        "outputId": "db0d088b-2835-411f-e250-fa3d66a33024"
      },
      "execution_count": null,
      "outputs": [
        {
          "output_type": "execute_result",
          "data": {
            "text/plain": [
              "array([0., 0., 0., 0.])"
            ]
          },
          "metadata": {},
          "execution_count": 8
        }
      ]
    },
    {
      "cell_type": "code",
      "source": [
        "# массив (двумерный) нулей\n",
        "np.zeros((3,3))"
      ],
      "metadata": {
        "colab": {
          "base_uri": "https://localhost:8080/"
        },
        "id": "ZRe_AHqF_VuN",
        "outputId": "e91aeedb-a8db-4256-bae7-59ee2c1c95f9"
      },
      "execution_count": null,
      "outputs": [
        {
          "output_type": "execute_result",
          "data": {
            "text/plain": [
              "array([[0., 0., 0.],\n",
              "       [0., 0., 0.],\n",
              "       [0., 0., 0.]])"
            ]
          },
          "metadata": {},
          "execution_count": 9
        }
      ]
    },
    {
      "cell_type": "markdown",
      "source": [
        "np.ones() - создание массива елиниц, заданной размерности"
      ],
      "metadata": {
        "id": "jOmahLaR_sGF"
      }
    },
    {
      "cell_type": "code",
      "source": [
        "# массив (одномерный) единиц\n",
        "np.ones(3)"
      ],
      "metadata": {
        "colab": {
          "base_uri": "https://localhost:8080/"
        },
        "id": "klzIuG0Z_Vw7",
        "outputId": "a2db5126-e076-449f-f804-06da16c14a5c"
      },
      "execution_count": null,
      "outputs": [
        {
          "output_type": "execute_result",
          "data": {
            "text/plain": [
              "array([1., 1., 1.])"
            ]
          },
          "metadata": {},
          "execution_count": 10
        }
      ]
    },
    {
      "cell_type": "code",
      "source": [
        "# массив (двумерный) единиц\n",
        "np.ones((2,4), dtype=int)"
      ],
      "metadata": {
        "colab": {
          "base_uri": "https://localhost:8080/"
        },
        "id": "j6pLxLj6ANxD",
        "outputId": "a06c3ae6-f9bc-4a21-a66f-950e869ff993"
      },
      "execution_count": null,
      "outputs": [
        {
          "output_type": "execute_result",
          "data": {
            "text/plain": [
              "array([[1, 1, 1, 1],\n",
              "       [1, 1, 1, 1]])"
            ]
          },
          "metadata": {},
          "execution_count": 12
        }
      ]
    },
    {
      "cell_type": "markdown",
      "source": [
        "np.eye() - создание массива нулей с единицами на главной диагонали"
      ],
      "metadata": {
        "id": "dcB1P9klA4Fu"
      }
    },
    {
      "cell_type": "code",
      "source": [
        "# по умолчанию массив всегда квадратный\n",
        "np.eye(3)"
      ],
      "metadata": {
        "colab": {
          "base_uri": "https://localhost:8080/"
        },
        "id": "Ypbmm0GfANzj",
        "outputId": "9fce87aa-ef66-4b3d-9060-6e34bc9a81bc"
      },
      "execution_count": null,
      "outputs": [
        {
          "output_type": "execute_result",
          "data": {
            "text/plain": [
              "array([[1., 0., 0.],\n",
              "       [0., 1., 0.],\n",
              "       [0., 0., 1.]])"
            ]
          },
          "metadata": {},
          "execution_count": 17
        }
      ]
    },
    {
      "cell_type": "code",
      "source": [
        "# не квадратный массив\n",
        "np.eye(5,7)"
      ],
      "metadata": {
        "colab": {
          "base_uri": "https://localhost:8080/"
        },
        "id": "y8_iRxUEB606",
        "outputId": "12e89bf6-1c6e-4b45-f9d2-f9ba1a2a6185"
      },
      "execution_count": null,
      "outputs": [
        {
          "output_type": "execute_result",
          "data": {
            "text/plain": [
              "array([[1., 0., 0., 0., 0., 0., 0.],\n",
              "       [0., 1., 0., 0., 0., 0., 0.],\n",
              "       [0., 0., 1., 0., 0., 0., 0.],\n",
              "       [0., 0., 0., 1., 0., 0., 0.],\n",
              "       [0., 0., 0., 0., 1., 0., 0.]])"
            ]
          },
          "metadata": {},
          "execution_count": 19
        }
      ]
    },
    {
      "cell_type": "markdown",
      "source": [
        "np.full() - создание массива с указанными значениями"
      ],
      "metadata": {
        "id": "jzCvJTkhCP2o"
      }
    },
    {
      "cell_type": "code",
      "source": [
        "# заполним массив значениями 42\n",
        "np.full((4,2), 42)"
      ],
      "metadata": {
        "colab": {
          "base_uri": "https://localhost:8080/"
        },
        "id": "Hn1g9axGAN2Z",
        "outputId": "59db4630-71aa-4b4c-ac29-35b2a3ec6b44"
      },
      "execution_count": null,
      "outputs": [
        {
          "output_type": "execute_result",
          "data": {
            "text/plain": [
              "array([[42, 42],\n",
              "       [42, 42],\n",
              "       [42, 42],\n",
              "       [42, 42]])"
            ]
          },
          "metadata": {},
          "execution_count": 20
        }
      ]
    },
    {
      "cell_type": "code",
      "source": [
        "# заполним массив значениями 3, 4\n",
        "np.full((4,2), (3,4))"
      ],
      "metadata": {
        "colab": {
          "base_uri": "https://localhost:8080/"
        },
        "id": "hS2dhJxNDnN9",
        "outputId": "b33c620b-0e47-4104-d2de-1891edeb6548"
      },
      "execution_count": null,
      "outputs": [
        {
          "output_type": "execute_result",
          "data": {
            "text/plain": [
              "array([[3, 4],\n",
              "       [3, 4],\n",
              "       [3, 4],\n",
              "       [3, 4]])"
            ]
          },
          "metadata": {},
          "execution_count": 26
        }
      ]
    },
    {
      "cell_type": "markdown",
      "source": [
        "При заполнении массива несколькими значениями количество значений должно совпадать с количеством столбцов массива"
      ],
      "metadata": {
        "id": "6vq-RzbSD2dS"
      }
    },
    {
      "cell_type": "code",
      "source": [
        "# заполним массив значениями \"кислый\"\n",
        "np.full((4,2), \"кислый\")"
      ],
      "metadata": {
        "colab": {
          "base_uri": "https://localhost:8080/"
        },
        "id": "idFokPPgCwhu",
        "outputId": "75301f18-d2db-4645-b830-a60d0b095960"
      },
      "execution_count": null,
      "outputs": [
        {
          "output_type": "execute_result",
          "data": {
            "text/plain": [
              "array([['кислый', 'кислый'],\n",
              "       ['кислый', 'кислый'],\n",
              "       ['кислый', 'кислый'],\n",
              "       ['кислый', 'кислый']], dtype='<U6')"
            ]
          },
          "metadata": {},
          "execution_count": 21
        }
      ]
    },
    {
      "cell_type": "markdown",
      "source": [
        "np.arange(start, stop, step) - создание массива из последовательности равномерно распределенных чисел"
      ],
      "metadata": {
        "id": "4ppW8tA0C-Jz"
      }
    },
    {
      "cell_type": "code",
      "source": [
        "# массив значений от 0 до 10\n",
        "np.arange(10)"
      ],
      "metadata": {
        "colab": {
          "base_uri": "https://localhost:8080/"
        },
        "id": "BcQv6lC-CwkR",
        "outputId": "796bf68a-2f1e-46bf-ca9e-a0c68e10d049"
      },
      "execution_count": null,
      "outputs": [
        {
          "output_type": "execute_result",
          "data": {
            "text/plain": [
              "array([0, 1, 2, 3, 4, 5, 6, 7, 8, 9])"
            ]
          },
          "metadata": {},
          "execution_count": 27
        }
      ]
    },
    {
      "cell_type": "code",
      "source": [
        "# массив значений от 5 до 10\n",
        "np.arange(5,10)"
      ],
      "metadata": {
        "colab": {
          "base_uri": "https://localhost:8080/"
        },
        "id": "JdbolMrGCwnF",
        "outputId": "cc399c77-1062-4ff4-d351-2ad14d8bdb48"
      },
      "execution_count": null,
      "outputs": [
        {
          "output_type": "execute_result",
          "data": {
            "text/plain": [
              "array([5, 6, 7, 8, 9])"
            ]
          },
          "metadata": {},
          "execution_count": 28
        }
      ]
    },
    {
      "cell_type": "code",
      "source": [
        "# массив четных значений от 0 до 10\n",
        "np.arange(0,10,2)"
      ],
      "metadata": {
        "colab": {
          "base_uri": "https://localhost:8080/"
        },
        "id": "GqaLk6g0_Vzi",
        "outputId": "3aca4562-29d3-4073-e3db-294ec3962ef0"
      },
      "execution_count": null,
      "outputs": [
        {
          "output_type": "execute_result",
          "data": {
            "text/plain": [
              "array([0, 2, 4, 6, 8])"
            ]
          },
          "metadata": {},
          "execution_count": 29
        }
      ]
    },
    {
      "cell_type": "markdown",
      "source": [
        "np.linspace(start, stop, num, endpoint) - создание массива из последовательности равномерно распределенных чисел с указанием количества точек"
      ],
      "metadata": {
        "id": "XEvBXvn_FQEs"
      }
    },
    {
      "cell_type": "code",
      "source": [
        "# массив 5 чисел с плавающей точкой от 0.1 до 0.5 включительно\n",
        "np.linspace(0.1, 0.5, 5)"
      ],
      "metadata": {
        "colab": {
          "base_uri": "https://localhost:8080/"
        },
        "id": "q_P6llp2E-XK",
        "outputId": "7d49826f-5e24-4682-d7a0-008862165595"
      },
      "execution_count": null,
      "outputs": [
        {
          "output_type": "execute_result",
          "data": {
            "text/plain": [
              "array([0.1, 0.2, 0.3, 0.4, 0.5])"
            ]
          },
          "metadata": {},
          "execution_count": 30
        }
      ]
    },
    {
      "cell_type": "code",
      "source": [
        "# массив 5 чисел с плавающей точкой от 0.1 до 0.5\n",
        "np.linspace(0.1, 0.5, 5, endpoint=False)"
      ],
      "metadata": {
        "colab": {
          "base_uri": "https://localhost:8080/"
        },
        "id": "vT5lBH8KE-aI",
        "outputId": "b77e5531-5076-43c5-c0e8-44d2659a7921"
      },
      "execution_count": null,
      "outputs": [
        {
          "output_type": "execute_result",
          "data": {
            "text/plain": [
              "array([0.1 , 0.18, 0.26, 0.34, 0.42])"
            ]
          },
          "metadata": {},
          "execution_count": 32
        }
      ]
    },
    {
      "cell_type": "markdown",
      "source": [
        "### Определение / изменение размерности"
      ],
      "metadata": {
        "id": "KaeP7mqQxoy3"
      }
    },
    {
      "cell_type": "markdown",
      "source": [
        "Определение размерности массива"
      ],
      "metadata": {
        "id": "Nv2u5mx_0hyU"
      }
    },
    {
      "cell_type": "code",
      "source": [
        "# массив (одномерный) a\n",
        "a = np.arange(12)\n",
        "print(a)\n",
        "print()\n",
        "\n",
        "# массив (двумерный) b\n",
        "b = np.array([[1,2,3],[4,5,6]])\n",
        "print(b)\n",
        "print()\n",
        "\n",
        "# размерность массива a\n",
        "print(a.shape)\n",
        "\n",
        "# размерность массива b\n",
        "print(b.shape)"
      ],
      "metadata": {
        "colab": {
          "base_uri": "https://localhost:8080/"
        },
        "id": "EXF44KJ8xtPj",
        "outputId": "f4c3bdb3-d5c0-4f0f-93a3-091e817d87a4"
      },
      "execution_count": null,
      "outputs": [
        {
          "output_type": "stream",
          "name": "stdout",
          "text": [
            "[ 0  1  2  3  4  5  6  7  8  9 10 11]\n",
            "\n",
            "[[1 2 3]\n",
            " [4 5 6]]\n",
            "\n",
            "(12,)\n",
            "(2, 3)\n"
          ]
        }
      ]
    },
    {
      "cell_type": "markdown",
      "source": [
        "Изменение размерности"
      ],
      "metadata": {
        "id": "t13mwpJe6c2C"
      }
    },
    {
      "cell_type": "code",
      "source": [
        "# приведение многомерного массива к одномерному\n",
        "b.flatten()"
      ],
      "metadata": {
        "colab": {
          "base_uri": "https://localhost:8080/"
        },
        "id": "yCiVlzIA1f1y",
        "outputId": "3e619b4a-fb97-4b18-de9e-4736d679e665"
      },
      "execution_count": null,
      "outputs": [
        {
          "output_type": "execute_result",
          "data": {
            "text/plain": [
              "array([1, 2, 3, 4, 5, 6])"
            ]
          },
          "metadata": {},
          "execution_count": 30
        }
      ]
    },
    {
      "cell_type": "code",
      "source": [
        "# приведение многомерного массива к одномерному (2 способ)\n",
        "b.ravel()"
      ],
      "metadata": {
        "colab": {
          "base_uri": "https://localhost:8080/"
        },
        "id": "gyOn_m5r7m6k",
        "outputId": "e1a72cc1-2276-46a0-fe2f-3df4e1644a85"
      },
      "execution_count": null,
      "outputs": [
        {
          "output_type": "execute_result",
          "data": {
            "text/plain": [
              "array([1, 2, 3, 4, 5, 6])"
            ]
          },
          "metadata": {},
          "execution_count": 34
        }
      ]
    },
    {
      "cell_type": "code",
      "source": [
        "# приведение многомерного массива к одномерному (2 способ) с попеременным порядком\n",
        "b.ravel(order='F')"
      ],
      "metadata": {
        "colab": {
          "base_uri": "https://localhost:8080/"
        },
        "id": "oT3FIBGM1f4s",
        "outputId": "2d44d294-beb1-49fe-8ba6-d49b8832b0fb"
      },
      "execution_count": null,
      "outputs": [
        {
          "output_type": "execute_result",
          "data": {
            "text/plain": [
              "array([1, 4, 2, 5, 3, 6])"
            ]
          },
          "metadata": {},
          "execution_count": 38
        }
      ]
    },
    {
      "cell_type": "code",
      "source": [
        "# изменение формы массива с (12) на (3,4)\n",
        "a.reshape(3,4)"
      ],
      "metadata": {
        "colab": {
          "base_uri": "https://localhost:8080/"
        },
        "id": "5nRuW-DS1f8B",
        "outputId": "b826b93c-366c-40e5-b066-726a78ef982c"
      },
      "execution_count": null,
      "outputs": [
        {
          "output_type": "execute_result",
          "data": {
            "text/plain": [
              "array([[ 0,  1,  2,  3],\n",
              "       [ 4,  5,  6,  7],\n",
              "       [ 8,  9, 10, 11]])"
            ]
          },
          "metadata": {},
          "execution_count": 39
        }
      ]
    },
    {
      "cell_type": "code",
      "source": [
        "# изменение формы массива с (12) на (6,2)\n",
        "a.reshape(6,2)"
      ],
      "metadata": {
        "colab": {
          "base_uri": "https://localhost:8080/"
        },
        "id": "H1WHHSjf9Vf4",
        "outputId": "aa32dfc1-8c5d-4422-f8cb-7032d16f768a"
      },
      "execution_count": null,
      "outputs": [
        {
          "output_type": "execute_result",
          "data": {
            "text/plain": [
              "array([[ 0,  1],\n",
              "       [ 2,  3],\n",
              "       [ 4,  5],\n",
              "       [ 6,  7],\n",
              "       [ 8,  9],\n",
              "       [10, 11]])"
            ]
          },
          "metadata": {},
          "execution_count": 40
        }
      ]
    },
    {
      "cell_type": "code",
      "source": [
        "# изменение формы массива с (12) на (12,1)\n",
        "a.reshape(12,1)"
      ],
      "metadata": {
        "colab": {
          "base_uri": "https://localhost:8080/"
        },
        "id": "9LMGlki69ViR",
        "outputId": "a69ab59d-ab55-4153-cf20-ff6a6d32ed7b"
      },
      "execution_count": null,
      "outputs": [
        {
          "output_type": "execute_result",
          "data": {
            "text/plain": [
              "array([[ 0],\n",
              "       [ 1],\n",
              "       [ 2],\n",
              "       [ 3],\n",
              "       [ 4],\n",
              "       [ 5],\n",
              "       [ 6],\n",
              "       [ 7],\n",
              "       [ 8],\n",
              "       [ 9],\n",
              "       [10],\n",
              "       [11]])"
            ]
          },
          "metadata": {},
          "execution_count": 42
        }
      ]
    },
    {
      "cell_type": "markdown",
      "source": [
        "При использовании метода `reshape()` важно помнить, что форма массива прямоугольная и количество элементов не меняется, следовательно значения новой размерности должны соответствовать этому условию."
      ],
      "metadata": {
        "id": "yufUGQFaKqth"
      }
    },
    {
      "cell_type": "markdown",
      "source": [
        "Транспонирование"
      ],
      "metadata": {
        "id": "adZ_AXhrMab6"
      }
    },
    {
      "cell_type": "code",
      "source": [
        "# размерность массива b\n",
        "print(b.shape)\n",
        "\n",
        "b"
      ],
      "metadata": {
        "id": "_H2zh8wc9Vkt",
        "colab": {
          "base_uri": "https://localhost:8080/"
        },
        "outputId": "652c47a1-c761-4618-8cbd-ebf293954025"
      },
      "execution_count": null,
      "outputs": [
        {
          "output_type": "stream",
          "name": "stdout",
          "text": [
            "(2, 3)\n"
          ]
        },
        {
          "output_type": "execute_result",
          "data": {
            "text/plain": [
              "array([[1, 2, 3],\n",
              "       [4, 5, 6]])"
            ]
          },
          "metadata": {},
          "execution_count": 8
        }
      ]
    },
    {
      "cell_type": "code",
      "source": [
        "# транспонирование массива b\n",
        "c = b.transpose()\n",
        "\n",
        "# размерность массива с\n",
        "print(c.shape)\n",
        "\n",
        "c"
      ],
      "metadata": {
        "colab": {
          "base_uri": "https://localhost:8080/"
        },
        "id": "F_40zgblM9_D",
        "outputId": "88c0bd4c-07ec-4a7e-bbe6-b229a91e27e6"
      },
      "execution_count": null,
      "outputs": [
        {
          "output_type": "stream",
          "name": "stdout",
          "text": [
            "(3, 2)\n"
          ]
        },
        {
          "output_type": "execute_result",
          "data": {
            "text/plain": [
              "array([[1, 4],\n",
              "       [2, 5],\n",
              "       [3, 6]])"
            ]
          },
          "metadata": {},
          "execution_count": 9
        }
      ]
    },
    {
      "cell_type": "code",
      "source": [
        "# транспонирование одномерного массива (вектора)\n",
        "# метод .T так же выполняет транспонирование\n",
        "np.array([1,2,3,4]).T"
      ],
      "metadata": {
        "colab": {
          "base_uri": "https://localhost:8080/"
        },
        "id": "tMd2MKttNahL",
        "outputId": "ee10603e-1e8d-4604-f8cd-99f9519e571d"
      },
      "execution_count": null,
      "outputs": [
        {
          "output_type": "execute_result",
          "data": {
            "text/plain": [
              "array([1, 2, 3, 4])"
            ]
          },
          "metadata": {},
          "execution_count": 10
        }
      ]
    },
    {
      "cell_type": "markdown",
      "source": [
        "При транспонировании одномерного массива, с ним ничего не происходит.\n",
        "\n",
        "Если мы хотим из строки сделать колонку, то нужно добавить одну ось."
      ],
      "metadata": {
        "id": "XSIzae_UN5oh"
      }
    },
    {
      "cell_type": "code",
      "source": [
        "# транспонирование двумерного массива\n",
        "np.array([[1,2,3,4]]).T"
      ],
      "metadata": {
        "colab": {
          "base_uri": "https://localhost:8080/"
        },
        "id": "-77RXAiKOFE_",
        "outputId": "26591f67-c204-415a-c92a-3d9e25869090"
      },
      "execution_count": null,
      "outputs": [
        {
          "output_type": "execute_result",
          "data": {
            "text/plain": [
              "array([[1],\n",
              "       [2],\n",
              "       [3],\n",
              "       [4]])"
            ]
          },
          "metadata": {},
          "execution_count": 11
        }
      ]
    },
    {
      "cell_type": "markdown",
      "source": [
        "Смещение указанной оси"
      ],
      "metadata": {
        "id": "0efDXsaRPbZJ"
      }
    },
    {
      "cell_type": "code",
      "source": [
        "# создадим трёхмерный массив\n",
        "a = np.ones((2,3,5))\n",
        "a"
      ],
      "metadata": {
        "colab": {
          "base_uri": "https://localhost:8080/"
        },
        "id": "BdmTH-4IOFHZ",
        "outputId": "461111d5-92c8-4a33-f491-056b6eff4649"
      },
      "execution_count": null,
      "outputs": [
        {
          "output_type": "execute_result",
          "data": {
            "text/plain": [
              "array([[[1., 1., 1., 1., 1.],\n",
              "        [1., 1., 1., 1., 1.],\n",
              "        [1., 1., 1., 1., 1.]],\n",
              "\n",
              "       [[1., 1., 1., 1., 1.],\n",
              "        [1., 1., 1., 1., 1.],\n",
              "        [1., 1., 1., 1., 1.]]])"
            ]
          },
          "metadata": {},
          "execution_count": 3
        }
      ]
    },
    {
      "cell_type": "code",
      "source": [
        "# сдвинем ось 2 на место 0\n",
        "np.rollaxis(a, 2, 0)"
      ],
      "metadata": {
        "colab": {
          "base_uri": "https://localhost:8080/"
        },
        "id": "ODmN2AW1PxMj",
        "outputId": "f803aaf1-12fd-4fb2-81d7-dd8ef341fcdd"
      },
      "execution_count": null,
      "outputs": [
        {
          "output_type": "execute_result",
          "data": {
            "text/plain": [
              "array([[[1., 1., 1.],\n",
              "        [1., 1., 1.]],\n",
              "\n",
              "       [[1., 1., 1.],\n",
              "        [1., 1., 1.]],\n",
              "\n",
              "       [[1., 1., 1.],\n",
              "        [1., 1., 1.]],\n",
              "\n",
              "       [[1., 1., 1.],\n",
              "        [1., 1., 1.]],\n",
              "\n",
              "       [[1., 1., 1.],\n",
              "        [1., 1., 1.]]])"
            ]
          },
          "metadata": {},
          "execution_count": 19
        }
      ]
    },
    {
      "cell_type": "code",
      "source": [
        "# проверим получившуюся размерность\n",
        "np.rollaxis(a, 2, 0).shape"
      ],
      "metadata": {
        "colab": {
          "base_uri": "https://localhost:8080/"
        },
        "id": "eUjTR0fCQKME",
        "outputId": "d5f8f5f5-af2f-4b9a-a706-aa6eeecfcdd7"
      },
      "execution_count": null,
      "outputs": [
        {
          "output_type": "execute_result",
          "data": {
            "text/plain": [
              "(5, 2, 3)"
            ]
          },
          "metadata": {},
          "execution_count": 20
        }
      ]
    },
    {
      "cell_type": "markdown",
      "source": [
        "Замена выбранных двух осей местами"
      ],
      "metadata": {
        "id": "5YLJphsmFbJd"
      }
    },
    {
      "cell_type": "code",
      "source": [
        "# поменяем местами оси 0 и 2\n",
        "np.swapaxes(a, 2, 0)"
      ],
      "metadata": {
        "colab": {
          "base_uri": "https://localhost:8080/"
        },
        "id": "BWh1BRRyOFKH",
        "outputId": "1fe25b46-2917-464d-f790-cc8f8acfc456"
      },
      "execution_count": null,
      "outputs": [
        {
          "output_type": "execute_result",
          "data": {
            "text/plain": [
              "array([[[1., 1.],\n",
              "        [1., 1.],\n",
              "        [1., 1.]],\n",
              "\n",
              "       [[1., 1.],\n",
              "        [1., 1.],\n",
              "        [1., 1.]],\n",
              "\n",
              "       [[1., 1.],\n",
              "        [1., 1.],\n",
              "        [1., 1.]],\n",
              "\n",
              "       [[1., 1.],\n",
              "        [1., 1.],\n",
              "        [1., 1.]],\n",
              "\n",
              "       [[1., 1.],\n",
              "        [1., 1.],\n",
              "        [1., 1.]]])"
            ]
          },
          "metadata": {},
          "execution_count": 4
        }
      ]
    },
    {
      "cell_type": "code",
      "source": [
        "# поверим размерность\n",
        "np.swapaxes(a, 2, 0).shape"
      ],
      "metadata": {
        "colab": {
          "base_uri": "https://localhost:8080/"
        },
        "id": "1-4kQoz6FiBD",
        "outputId": "8e1b7b46-6d27-4354-d2c5-997f5e812b53"
      },
      "execution_count": null,
      "outputs": [
        {
          "output_type": "execute_result",
          "data": {
            "text/plain": [
              "(5, 3, 2)"
            ]
          },
          "metadata": {},
          "execution_count": 5
        }
      ]
    },
    {
      "cell_type": "markdown",
      "source": [
        "Отличие функций `rollaxis` и `swapaxes` в том, что в первом случае, когда мы передвигаем выбраннуую ось, остальные сдвигаются, а во втором случае мы просто меняем 2 выбранные оси местами (при этом остальные оси остаются без изменения)."
      ],
      "metadata": {
        "id": "Tj5rLWd5F9_C"
      }
    },
    {
      "cell_type": "markdown",
      "source": [
        "Удаление осей с размерностью 1"
      ],
      "metadata": {
        "id": "YIr6IzB-Gt37"
      }
    },
    {
      "cell_type": "code",
      "source": [
        "# создадим массив (трехмерный)\n",
        "a = np.array([[[1]],[[2]]])\n",
        "a"
      ],
      "metadata": {
        "colab": {
          "base_uri": "https://localhost:8080/"
        },
        "id": "3S6lCvRaFiEg",
        "outputId": "b33260f4-e6f2-49db-9f70-f323d3cbaf51"
      },
      "execution_count": null,
      "outputs": [
        {
          "output_type": "execute_result",
          "data": {
            "text/plain": [
              "array([[[1]],\n",
              "\n",
              "       [[2]]])"
            ]
          },
          "metadata": {},
          "execution_count": 16
        }
      ]
    },
    {
      "cell_type": "code",
      "source": [
        "# проверим размерность\n",
        "a.shape"
      ],
      "metadata": {
        "colab": {
          "base_uri": "https://localhost:8080/"
        },
        "id": "9AvQ-2xCHVFw",
        "outputId": "0c626404-926e-4133-c80e-72b1e522c660"
      },
      "execution_count": null,
      "outputs": [
        {
          "output_type": "execute_result",
          "data": {
            "text/plain": [
              "(2, 1, 1)"
            ]
          },
          "metadata": {},
          "execution_count": 17
        }
      ]
    },
    {
      "cell_type": "code",
      "source": [
        "# удалим все оси, размерность которых 1\n",
        "b = a.squeeze()\n",
        "b"
      ],
      "metadata": {
        "colab": {
          "base_uri": "https://localhost:8080/"
        },
        "id": "DuYk-iqMHimc",
        "outputId": "057de9e6-70a9-4d0b-eb43-321d25da36f1"
      },
      "execution_count": null,
      "outputs": [
        {
          "output_type": "execute_result",
          "data": {
            "text/plain": [
              "array([1, 2])"
            ]
          },
          "metadata": {},
          "execution_count": 18
        }
      ]
    },
    {
      "cell_type": "code",
      "source": [
        "# проверим размерность\n",
        "b.shape"
      ],
      "metadata": {
        "colab": {
          "base_uri": "https://localhost:8080/"
        },
        "id": "KayPpn0oHuGE",
        "outputId": "4e25442c-6f31-496b-e255-cb9860d1e498"
      },
      "execution_count": null,
      "outputs": [
        {
          "output_type": "execute_result",
          "data": {
            "text/plain": [
              "(2,)"
            ]
          },
          "metadata": {},
          "execution_count": 19
        }
      ]
    },
    {
      "cell_type": "code",
      "source": [
        "# удалим ось 1 с размерностью 1\n",
        "a.squeeze(1)"
      ],
      "metadata": {
        "colab": {
          "base_uri": "https://localhost:8080/"
        },
        "id": "Na7nBnFuIeM7",
        "outputId": "dd588c06-4227-4283-f540-f5590fb28be2"
      },
      "execution_count": null,
      "outputs": [
        {
          "output_type": "execute_result",
          "data": {
            "text/plain": [
              "array([[1],\n",
              "       [2]])"
            ]
          },
          "metadata": {},
          "execution_count": 21
        }
      ]
    },
    {
      "cell_type": "markdown",
      "source": [
        "Добавление оси с размерностью 1"
      ],
      "metadata": {
        "id": "fIIliRRhJL6T"
      }
    },
    {
      "cell_type": "code",
      "source": [
        "# создадим массив нулей\n",
        "a = np.zeros((3,2))\n",
        "print(a)\n",
        "a.shape"
      ],
      "metadata": {
        "colab": {
          "base_uri": "https://localhost:8080/"
        },
        "id": "pyflXNO2JQ1O",
        "outputId": "f269a1a0-3f14-4490-a821-95b22bff4b70"
      },
      "execution_count": null,
      "outputs": [
        {
          "output_type": "stream",
          "name": "stdout",
          "text": [
            "[[0. 0.]\n",
            " [0. 0.]\n",
            " [0. 0.]]\n"
          ]
        },
        {
          "output_type": "execute_result",
          "data": {
            "text/plain": [
              "(3, 2)"
            ]
          },
          "metadata": {},
          "execution_count": 27
        }
      ]
    },
    {
      "cell_type": "code",
      "source": [
        "# добавим ось\n",
        "print(np.expand_dims(a, 0))\n",
        "\n",
        "# проверим размерность\n",
        "np.expand_dims(a, 0).shape"
      ],
      "metadata": {
        "colab": {
          "base_uri": "https://localhost:8080/"
        },
        "id": "v3iM6wKiJQ3w",
        "outputId": "571d801f-51d8-4b2b-f961-718081703bae"
      },
      "execution_count": null,
      "outputs": [
        {
          "output_type": "stream",
          "name": "stdout",
          "text": [
            "[[[0. 0.]\n",
            "  [0. 0.]\n",
            "  [0. 0.]]]\n"
          ]
        },
        {
          "output_type": "execute_result",
          "data": {
            "text/plain": [
              "(1, 3, 2)"
            ]
          },
          "metadata": {},
          "execution_count": 31
        }
      ]
    },
    {
      "cell_type": "code",
      "source": [
        "# добавим ось в другое место\n",
        "print(np.expand_dims(a, 2))\n",
        "\n",
        "# проверим размерность\n",
        "np.expand_dims(a, 2).shape"
      ],
      "metadata": {
        "colab": {
          "base_uri": "https://localhost:8080/"
        },
        "id": "4lzuMtdYJQ6S",
        "outputId": "234e6ce1-4cfd-4415-caae-c41a8519179d"
      },
      "execution_count": null,
      "outputs": [
        {
          "output_type": "stream",
          "name": "stdout",
          "text": [
            "[[[0.]\n",
            "  [0.]]\n",
            "\n",
            " [[0.]\n",
            "  [0.]]\n",
            "\n",
            " [[0.]\n",
            "  [0.]]]\n"
          ]
        },
        {
          "output_type": "execute_result",
          "data": {
            "text/plain": [
              "(3, 2, 1)"
            ]
          },
          "metadata": {},
          "execution_count": 32
        }
      ]
    },
    {
      "cell_type": "markdown",
      "source": [
        "### Массивы случайных значений"
      ],
      "metadata": {
        "id": "afbaPXGtSXo4"
      }
    },
    {
      "cell_type": "markdown",
      "source": [
        "np.random.rand(shape) - cоздание массива случайных значений с плавающей точкой от 0 до 1"
      ],
      "metadata": {
        "id": "b2nt54giW3-q"
      }
    },
    {
      "cell_type": "code",
      "source": [
        "# случайное значение\n",
        "np.random.rand()"
      ],
      "metadata": {
        "colab": {
          "base_uri": "https://localhost:8080/"
        },
        "id": "kGhz-uEHSMH0",
        "outputId": "40a91f43-553a-4ad0-883f-cbb20ab3aef3"
      },
      "execution_count": null,
      "outputs": [
        {
          "output_type": "execute_result",
          "data": {
            "text/plain": [
              "0.48213751146398154"
            ]
          },
          "metadata": {},
          "execution_count": 34
        }
      ]
    },
    {
      "cell_type": "code",
      "source": [
        "# массив (одномерный) случайных значений\n",
        "np.random.rand(4)"
      ],
      "metadata": {
        "colab": {
          "base_uri": "https://localhost:8080/"
        },
        "id": "n3faGfY7SML3",
        "outputId": "bf0e5c98-e34c-4135-e036-fa10e728f10a"
      },
      "execution_count": null,
      "outputs": [
        {
          "output_type": "execute_result",
          "data": {
            "text/plain": [
              "array([0.1912649 , 0.98563695, 0.2284574 , 0.21993   ])"
            ]
          },
          "metadata": {},
          "execution_count": 36
        }
      ]
    },
    {
      "cell_type": "code",
      "source": [
        "# массив (двумерный) случайных значений\n",
        "np.random.rand(3,2)"
      ],
      "metadata": {
        "colab": {
          "base_uri": "https://localhost:8080/"
        },
        "id": "hhFMO2oRSMOY",
        "outputId": "27504821-347f-4da8-976b-361f48c0caf0"
      },
      "execution_count": null,
      "outputs": [
        {
          "output_type": "execute_result",
          "data": {
            "text/plain": [
              "array([[0.09054214, 0.47824919],\n",
              "       [0.87380312, 0.19682686],\n",
              "       [0.09854667, 0.65995418]])"
            ]
          },
          "metadata": {},
          "execution_count": 38
        }
      ]
    },
    {
      "cell_type": "markdown",
      "source": [
        "np.random.randint(start,stop,shape) - создание массива случайных целочисленных значений из выбранного диапазона"
      ],
      "metadata": {
        "id": "LG06cdDpXLQv"
      }
    },
    {
      "cell_type": "code",
      "source": [
        "# массив (одномерный) случайных целочисленных значений от 0 до 10\n",
        "np.random.randint(0,10,3)"
      ],
      "metadata": {
        "colab": {
          "base_uri": "https://localhost:8080/"
        },
        "id": "F5NEPooaE-eZ",
        "outputId": "347916b1-5d98-4990-d65e-e27e5a3111e9"
      },
      "execution_count": null,
      "outputs": [
        {
          "output_type": "execute_result",
          "data": {
            "text/plain": [
              "array([6, 7, 5])"
            ]
          },
          "metadata": {},
          "execution_count": 11
        }
      ]
    },
    {
      "cell_type": "code",
      "source": [
        "# массив (двумерный) случайных целочисленных значений от 5 до 15\n",
        "np.random.randint(5,15,(2,2))"
      ],
      "metadata": {
        "colab": {
          "base_uri": "https://localhost:8080/"
        },
        "id": "qKYqIVDhZcWp",
        "outputId": "9b62b996-6e8f-4cec-e378-cc01f7bbb41d"
      },
      "execution_count": null,
      "outputs": [
        {
          "output_type": "execute_result",
          "data": {
            "text/plain": [
              "array([[ 5, 13],\n",
              "       [ 7,  9]])"
            ]
          },
          "metadata": {},
          "execution_count": 12
        }
      ]
    },
    {
      "cell_type": "markdown",
      "source": [
        "np.random.uniform(start,stop,shape) - создание массива случайных значений с плавающей точкой из выбранного диапазона"
      ],
      "metadata": {
        "id": "EWcKdsRBzkgh"
      }
    },
    {
      "cell_type": "code",
      "source": [
        "# массив 5 случайных значений float от 10 до 20\n",
        "np.random.uniform(10,20,5)"
      ],
      "metadata": {
        "colab": {
          "base_uri": "https://localhost:8080/"
        },
        "id": "-f9YbsqVZcZu",
        "outputId": "6c86edfb-41ac-4446-8d77-a4c484c08e4d"
      },
      "execution_count": null,
      "outputs": [
        {
          "output_type": "execute_result",
          "data": {
            "text/plain": [
              "array([11.0378546 , 15.51237958, 18.39808912, 14.55936902, 14.98707978])"
            ]
          },
          "metadata": {},
          "execution_count": 13
        }
      ]
    },
    {
      "cell_type": "code",
      "source": [
        "# массив случайных значений float от 9 до 10\n",
        "np.random.uniform(9,10,(5,1))"
      ],
      "metadata": {
        "colab": {
          "base_uri": "https://localhost:8080/"
        },
        "id": "IDVC1EIWZccg",
        "outputId": "91c89997-2b2d-456c-dd30-0e24282f4310"
      },
      "execution_count": null,
      "outputs": [
        {
          "output_type": "execute_result",
          "data": {
            "text/plain": [
              "array([[9.41811778],\n",
              "       [9.82930997],\n",
              "       [9.3866402 ],\n",
              "       [9.04455905],\n",
              "       [9.33692312]])"
            ]
          },
          "metadata": {},
          "execution_count": 15
        }
      ]
    },
    {
      "cell_type": "markdown",
      "source": [
        "np.random.choice(array,size) - функция случайного выбора значений из списка/массива"
      ],
      "metadata": {
        "id": "geBjsh2f0vqd"
      }
    },
    {
      "cell_type": "code",
      "source": [
        "# список значений\n",
        "a = [1,2,3,4,5]\n",
        "\n",
        "# выбираем одно случайное значение из списка\n",
        "np.random.choice(a)"
      ],
      "metadata": {
        "colab": {
          "base_uri": "https://localhost:8080/"
        },
        "id": "dUSFTa2m0c37",
        "outputId": "71545546-3bd2-427a-9baf-cf43b870be99"
      },
      "execution_count": null,
      "outputs": [
        {
          "output_type": "execute_result",
          "data": {
            "text/plain": [
              "4"
            ]
          },
          "metadata": {},
          "execution_count": 17
        }
      ]
    },
    {
      "cell_type": "code",
      "source": [
        "# список значений\n",
        "a = [\"a\",2,3,\"b\",5]\n",
        "\n",
        "# выбираем одно случайное значение из списка\n",
        "np.random.choice(a)"
      ],
      "metadata": {
        "colab": {
          "base_uri": "https://localhost:8080/",
          "height": 35
        },
        "id": "1-KOCDTa1PuD",
        "outputId": "d3184707-dd6d-4623-b5aa-9d3ea66168e9"
      },
      "execution_count": null,
      "outputs": [
        {
          "output_type": "execute_result",
          "data": {
            "text/plain": [
              "'a'"
            ],
            "application/vnd.google.colaboratory.intrinsic+json": {
              "type": "string"
            }
          },
          "metadata": {},
          "execution_count": 22
        }
      ]
    },
    {
      "cell_type": "code",
      "source": [
        "# список значений\n",
        "a = [\"gray\",\"yellow\",\"black\",\"pink\",\"white\",\"cyan\"]\n",
        "\n",
        "# выбираем 2 случайных значения из списка\n",
        "np.random.choice(a, 2)"
      ],
      "metadata": {
        "colab": {
          "base_uri": "https://localhost:8080/"
        },
        "id": "fXNRpChM0c7D",
        "outputId": "d8c362e9-be15-4df1-e00a-3aee7cc448fc"
      },
      "execution_count": null,
      "outputs": [
        {
          "output_type": "execute_result",
          "data": {
            "text/plain": [
              "array(['gray', 'pink'], dtype='<U6')"
            ]
          },
          "metadata": {},
          "execution_count": 24
        }
      ]
    },
    {
      "cell_type": "markdown",
      "source": [
        "### Математические операции"
      ],
      "metadata": {
        "id": "k-oulBbujw0w"
      }
    },
    {
      "cell_type": "markdown",
      "source": [
        "Массив и скалярная величина"
      ],
      "metadata": {
        "id": "o6ndNaoInmyn"
      }
    },
    {
      "cell_type": "code",
      "source": [
        "# массив единиц\n",
        "a = np.ones((3,2))\n",
        "\n",
        "print('Сложение:\\n', a + 5)\n",
        "print()\n",
        "\n",
        "print('Вычитание:\\n', a - 1)\n",
        "print()\n",
        "\n",
        "print('Умножение:\\n', a * 5)\n",
        "print()\n",
        "\n",
        "print('Деление:\\n', a / 3)\n",
        "print()\n"
      ],
      "metadata": {
        "id": "snBpBnQz2CK5",
        "colab": {
          "base_uri": "https://localhost:8080/"
        },
        "outputId": "a7f6159c-233c-48ed-f177-06fae857104f"
      },
      "execution_count": null,
      "outputs": [
        {
          "output_type": "stream",
          "name": "stdout",
          "text": [
            "Сложение:\n",
            " [[6. 6.]\n",
            " [6. 6.]\n",
            " [6. 6.]]\n",
            "\n",
            "Вычитание:\n",
            " [[0. 0.]\n",
            " [0. 0.]\n",
            " [0. 0.]]\n",
            "\n",
            "Умножение:\n",
            " [[5. 5.]\n",
            " [5. 5.]\n",
            " [5. 5.]]\n",
            "\n",
            "Деление:\n",
            " [[0.33333333 0.33333333]\n",
            " [0.33333333 0.33333333]\n",
            " [0.33333333 0.33333333]]\n",
            "\n"
          ]
        }
      ]
    },
    {
      "cell_type": "markdown",
      "source": [
        "Два массива одинаковой размерности"
      ],
      "metadata": {
        "id": "vmiqLJ16pINc"
      }
    },
    {
      "cell_type": "code",
      "source": [
        "# массив a\n",
        "a = np.array([[1,2,3],[4,5,6]])\n",
        "\n",
        "# массив b\n",
        "b = np.array([[1,1,1],[10,20,30]])\n",
        "\n",
        "print('Сложение:\\n', a + b)\n",
        "print()\n",
        "\n",
        "print('Вычитание:\\n', b - a)\n",
        "print()\n",
        "\n",
        "print('Умножение:\\n', a * b)\n",
        "print()\n",
        "\n",
        "print('Деление:\\n', b / a)"
      ],
      "metadata": {
        "colab": {
          "base_uri": "https://localhost:8080/"
        },
        "id": "r0IivqdWnJvi",
        "outputId": "c26f3d17-0c59-4f5b-c076-c55d3e688336"
      },
      "execution_count": null,
      "outputs": [
        {
          "output_type": "stream",
          "name": "stdout",
          "text": [
            "Сложение:\n",
            " [[ 2  3  4]\n",
            " [14 25 36]]\n",
            "\n",
            "Вычитание:\n",
            " [[ 0 -1 -2]\n",
            " [ 6 15 24]]\n",
            "\n",
            "Умножение:\n",
            " [[  1   2   3]\n",
            " [ 40 100 180]]\n",
            "\n",
            "Деление:\n",
            " [[1.         0.5        0.33333333]\n",
            " [2.5        4.         5.        ]]\n"
          ]
        }
      ]
    },
    {
      "cell_type": "markdown",
      "source": [
        "Матричное умножение"
      ],
      "metadata": {
        "id": "9x5VNn0Bwf5w"
      }
    },
    {
      "cell_type": "markdown",
      "source": [
        "Для выполнения матричного умножения должны совпадать последняя ось первого массива и первая ось последнего массива."
      ],
      "metadata": {
        "id": "tqMiEXWMKN0c"
      }
    },
    {
      "cell_type": "code",
      "source": [
        "# размерность массива a\n",
        "a.shape"
      ],
      "metadata": {
        "colab": {
          "base_uri": "https://localhost:8080/"
        },
        "id": "Bt8sOg83KcNk",
        "outputId": "4422a18d-8440-48f7-e2e5-344cae8b8585"
      },
      "execution_count": null,
      "outputs": [
        {
          "output_type": "execute_result",
          "data": {
            "text/plain": [
              "(2, 3)"
            ]
          },
          "metadata": {},
          "execution_count": 34
        }
      ]
    },
    {
      "cell_type": "code",
      "source": [
        "# размерность транспонированного массива b\n",
        "b.T.shape"
      ],
      "metadata": {
        "colab": {
          "base_uri": "https://localhost:8080/"
        },
        "id": "az-KQEHqKi0L",
        "outputId": "d4b8890d-f102-411e-a46f-a0c72320e17d"
      },
      "execution_count": null,
      "outputs": [
        {
          "output_type": "execute_result",
          "data": {
            "text/plain": [
              "(3, 2)"
            ]
          },
          "metadata": {},
          "execution_count": 36
        }
      ]
    },
    {
      "cell_type": "code",
      "source": [
        "print('Матричное умножение:\\n', a @ b.T)"
      ],
      "metadata": {
        "colab": {
          "base_uri": "https://localhost:8080/"
        },
        "id": "wPcvKx1fp0dk",
        "outputId": "e7b0ff49-efd7-4291-ee04-1c506292bbda"
      },
      "execution_count": null,
      "outputs": [
        {
          "output_type": "stream",
          "name": "stdout",
          "text": [
            "Матричное умножение:\n",
            " [[  6 140]\n",
            " [ 15 320]]\n"
          ]
        }
      ]
    },
    {
      "cell_type": "markdown",
      "source": [
        "Для матричного умножения вместо знака @ можно использовать функцию `np.dot()`."
      ],
      "metadata": {
        "id": "DFtZo20eKupf"
      }
    },
    {
      "cell_type": "code",
      "source": [
        "print('Матричное умножение:\\n', np.dot(a,b.T))"
      ],
      "metadata": {
        "id": "DO3rU4qIp0gE",
        "colab": {
          "base_uri": "https://localhost:8080/"
        },
        "outputId": "e5ff70ec-300a-4476-c049-173d0cace4f1"
      },
      "execution_count": null,
      "outputs": [
        {
          "output_type": "stream",
          "name": "stdout",
          "text": [
            "Матричное умножение:\n",
            " [[  6 140]\n",
            " [ 15 320]]\n"
          ]
        }
      ]
    },
    {
      "cell_type": "markdown",
      "source": [
        "### Индексация и срезы"
      ],
      "metadata": {
        "id": "gWbDme_pMvKA"
      }
    },
    {
      "cell_type": "code",
      "source": [
        "# массив a\n",
        "a = np.array([[1,2,3],\n",
        "              [4,5,6]])"
      ],
      "metadata": {
        "id": "39A4uQXUp0id"
      },
      "execution_count": null,
      "outputs": []
    },
    {
      "cell_type": "code",
      "source": [
        "# выбор конкретного элемента массива (индексация)\n",
        "print(a[0,0])\n",
        "print(a[0,2])\n",
        "print(a[1,1])"
      ],
      "metadata": {
        "colab": {
          "base_uri": "https://localhost:8080/"
        },
        "id": "m44gJmlLLBwY",
        "outputId": "e5cd5387-c75d-43e7-fa07-fcb821d787da"
      },
      "execution_count": null,
      "outputs": [
        {
          "output_type": "stream",
          "name": "stdout",
          "text": [
            "1\n",
            "3\n",
            "5\n"
          ]
        }
      ]
    },
    {
      "cell_type": "code",
      "source": [
        "# срезы элементов\n",
        "print(a[0:2,0])\n",
        "print(a[0,:])\n",
        "print(a[1:,:1])\n",
        "print(a[1,...])"
      ],
      "metadata": {
        "colab": {
          "base_uri": "https://localhost:8080/"
        },
        "id": "-Ps8SPXdLBz_",
        "outputId": "71e9b782-053a-4e6b-eb7e-a82292311585"
      },
      "execution_count": null,
      "outputs": [
        {
          "output_type": "stream",
          "name": "stdout",
          "text": [
            "[1 4]\n",
            "[1 2 3]\n",
            "[[4]]\n",
            "[4 5 6]\n"
          ]
        }
      ]
    },
    {
      "cell_type": "markdown",
      "source": [
        "Логическая индексация"
      ],
      "metadata": {
        "id": "k9KnM4hVQLFe"
      }
    },
    {
      "cell_type": "code",
      "source": [
        "# выберем те элементы массива, которые больше 4\n",
        "a[a>4]"
      ],
      "metadata": {
        "colab": {
          "base_uri": "https://localhost:8080/"
        },
        "id": "J3uI-gsuO4Fg",
        "outputId": "dba7f630-8e9f-4978-902b-7ed53d144c61"
      },
      "execution_count": null,
      "outputs": [
        {
          "output_type": "execute_result",
          "data": {
            "text/plain": [
              "array([5, 6])"
            ]
          },
          "metadata": {},
          "execution_count": 49
        }
      ]
    },
    {
      "cell_type": "code",
      "source": [
        "# выберем те элементы массива, которые не равны 1 и 2\n",
        "a[(a!=1)&(a!=2)]"
      ],
      "metadata": {
        "colab": {
          "base_uri": "https://localhost:8080/"
        },
        "id": "am0n-zzRO4JP",
        "outputId": "b49ea707-1e60-4c5e-f331-87e178dfd770"
      },
      "execution_count": null,
      "outputs": [
        {
          "output_type": "execute_result",
          "data": {
            "text/plain": [
              "array([3, 4, 5, 6])"
            ]
          },
          "metadata": {},
          "execution_count": 52
        }
      ]
    },
    {
      "cell_type": "markdown",
      "source": [
        "### Поиск и сортировка в numpy"
      ],
      "metadata": {
        "id": "J0rACRzXleBn"
      }
    },
    {
      "cell_type": "markdown",
      "source": [
        "Сортировка одномерных массивов numpy"
      ],
      "metadata": {
        "id": "GPIaJuY8T0su"
      }
    },
    {
      "cell_type": "code",
      "source": [
        "# массив (одномерный) a\n",
        "a = np.random.randint(1,100,20)\n",
        "a"
      ],
      "metadata": {
        "id": "lX978m1l0c97",
        "colab": {
          "base_uri": "https://localhost:8080/"
        },
        "outputId": "05bb5fe2-1dd9-4401-af05-e7be975c79ac"
      },
      "execution_count": null,
      "outputs": [
        {
          "output_type": "execute_result",
          "data": {
            "text/plain": [
              "array([75, 74, 70, 56, 92, 35, 74, 62, 11, 15, 70, 24, 60, 95, 50, 10, 52,\n",
              "       63, 24, 64])"
            ]
          },
          "metadata": {},
          "execution_count": 65
        }
      ]
    },
    {
      "cell_type": "code",
      "source": [
        "# отсортируем массив a\n",
        "np.sort(a)"
      ],
      "metadata": {
        "colab": {
          "base_uri": "https://localhost:8080/"
        },
        "id": "7KRO57EcT4xh",
        "outputId": "aaacdb21-8a5a-4b77-c71c-43c0d584e5e3"
      },
      "execution_count": null,
      "outputs": [
        {
          "output_type": "execute_result",
          "data": {
            "text/plain": [
              "array([10, 11, 15, 24, 24, 35, 50, 52, 56, 60, 62, 63, 64, 70, 70, 74, 74,\n",
              "       75, 92, 95])"
            ]
          },
          "metadata": {},
          "execution_count": 66
        }
      ]
    },
    {
      "cell_type": "code",
      "source": [
        "# отсортируем массив a при помощи другого алгоритма, например ‘mergesort’\n",
        "np.sort(a, kind='mergesort')"
      ],
      "metadata": {
        "colab": {
          "base_uri": "https://localhost:8080/"
        },
        "id": "w03tTTDeT41m",
        "outputId": "27d751da-2127-49cd-dfd9-e08520913859"
      },
      "execution_count": null,
      "outputs": [
        {
          "output_type": "execute_result",
          "data": {
            "text/plain": [
              "array([10, 11, 15, 24, 24, 35, 50, 52, 56, 60, 62, 63, 64, 70, 70, 74, 74,\n",
              "       75, 92, 95])"
            ]
          },
          "metadata": {},
          "execution_count": 68
        }
      ]
    },
    {
      "cell_type": "code",
      "source": [
        "# отсортируем массив a и получим его индексы, вместо значений\n",
        "np.argsort(a)"
      ],
      "metadata": {
        "colab": {
          "base_uri": "https://localhost:8080/"
        },
        "id": "tmnYeranWj6t",
        "outputId": "40b6089a-6081-4e9f-c9b7-419b90da13d6"
      },
      "execution_count": null,
      "outputs": [
        {
          "output_type": "execute_result",
          "data": {
            "text/plain": [
              "array([15,  8,  9, 18, 11,  5, 14, 16,  3, 12,  7, 17, 19,  2, 10,  6,  1,\n",
              "        0,  4, 13])"
            ]
          },
          "metadata": {},
          "execution_count": 72
        }
      ]
    },
    {
      "cell_type": "code",
      "source": [
        "# если мы хотим инвертировать сортированный массив, то можно выполнить срез\n",
        "np.sort(a)[::-1]"
      ],
      "metadata": {
        "colab": {
          "base_uri": "https://localhost:8080/"
        },
        "id": "pPmc6DSQXH76",
        "outputId": "11963963-a17d-472e-fd3b-f68e787cddc5"
      },
      "execution_count": null,
      "outputs": [
        {
          "output_type": "execute_result",
          "data": {
            "text/plain": [
              "array([95, 92, 75, 74, 74, 70, 70, 64, 63, 62, 60, 56, 52, 50, 35, 24, 24,\n",
              "       15, 11, 10])"
            ]
          },
          "metadata": {},
          "execution_count": 74
        }
      ]
    },
    {
      "cell_type": "markdown",
      "source": [
        "Сортировка двумерных массивов numpy"
      ],
      "metadata": {
        "id": "myjgmPkKWcVO"
      }
    },
    {
      "cell_type": "code",
      "source": [
        "# массив (двумерный) b\n",
        "b = np.random.randint(1,100,(3,4))\n",
        "b"
      ],
      "metadata": {
        "colab": {
          "base_uri": "https://localhost:8080/"
        },
        "id": "eTg4el9nT46_",
        "outputId": "90045071-4bde-4b19-f422-b49567509370"
      },
      "execution_count": null,
      "outputs": [
        {
          "output_type": "execute_result",
          "data": {
            "text/plain": [
              "array([[29, 17, 51,  6],\n",
              "       [34, 34, 74, 40],\n",
              "       [61,  7, 74, 39]])"
            ]
          },
          "metadata": {},
          "execution_count": 69
        }
      ]
    },
    {
      "cell_type": "code",
      "source": [
        "# отсортируем массив b по оси 0\n",
        "np.sort(b, axis=0)"
      ],
      "metadata": {
        "colab": {
          "base_uri": "https://localhost:8080/"
        },
        "id": "9UC9TYktV9dt",
        "outputId": "3322670d-c462-4b4b-ec75-6abb8193fae5"
      },
      "execution_count": null,
      "outputs": [
        {
          "output_type": "execute_result",
          "data": {
            "text/plain": [
              "array([[29,  7, 51,  6],\n",
              "       [34, 17, 74, 39],\n",
              "       [61, 34, 74, 40]])"
            ]
          },
          "metadata": {},
          "execution_count": 70
        }
      ]
    },
    {
      "cell_type": "code",
      "source": [
        "# отсортируем массив b по оси 1\n",
        "np.sort(b, axis=1)"
      ],
      "metadata": {
        "colab": {
          "base_uri": "https://localhost:8080/"
        },
        "id": "0sMjg1x2WGIq",
        "outputId": "7d2d04c8-2723-4c4a-d506-d063de48721c"
      },
      "execution_count": null,
      "outputs": [
        {
          "output_type": "execute_result",
          "data": {
            "text/plain": [
              "array([[ 6, 17, 29, 51],\n",
              "       [34, 34, 40, 74],\n",
              "       [ 7, 39, 61, 74]])"
            ]
          },
          "metadata": {},
          "execution_count": 71
        }
      ]
    },
    {
      "cell_type": "code",
      "source": [
        "# отсортируем массив b по оси 0 и получим его индексы, вместо значений\n",
        "np.argsort(b, axis=0)"
      ],
      "metadata": {
        "colab": {
          "base_uri": "https://localhost:8080/"
        },
        "id": "KkCkgcncV9gr",
        "outputId": "f5bc64b7-0fe1-4795-a2bc-8a66b98c325b"
      },
      "execution_count": null,
      "outputs": [
        {
          "output_type": "execute_result",
          "data": {
            "text/plain": [
              "array([[0, 2, 0, 0],\n",
              "       [1, 0, 1, 2],\n",
              "       [2, 1, 2, 1]])"
            ]
          },
          "metadata": {},
          "execution_count": 73
        }
      ]
    },
    {
      "cell_type": "markdown",
      "source": [
        "Поиск элементов в массивах numpy"
      ],
      "metadata": {
        "id": "jh92chZNcVe6"
      }
    },
    {
      "cell_type": "code",
      "source": [
        "# массив (одномерный) a\n",
        "a = np.random.randint(1,100,10)\n",
        "a"
      ],
      "metadata": {
        "colab": {
          "base_uri": "https://localhost:8080/"
        },
        "id": "PpDEbZrHV9j8",
        "outputId": "3cc06781-24fa-4695-bded-1063205c9b7b"
      },
      "execution_count": null,
      "outputs": [
        {
          "output_type": "execute_result",
          "data": {
            "text/plain": [
              "array([76, 24, 18, 70, 63, 91, 47, 32, 16, 29])"
            ]
          },
          "metadata": {},
          "execution_count": 75
        }
      ]
    },
    {
      "cell_type": "code",
      "source": [
        "# найдем максимальный и минимальный элементы массива a\n",
        "print(a.max())\n",
        "print(a.min())"
      ],
      "metadata": {
        "colab": {
          "base_uri": "https://localhost:8080/"
        },
        "id": "-BBEuLCWcbYy",
        "outputId": "f7534e86-c89f-451d-f2e3-c8974f86d61d"
      },
      "execution_count": null,
      "outputs": [
        {
          "output_type": "stream",
          "name": "stdout",
          "text": [
            "91\n",
            "16\n"
          ]
        }
      ]
    },
    {
      "cell_type": "code",
      "source": [
        "# найдем индексы максимального и минимального элементов массива a\n",
        "print(a.argmax())\n",
        "print(a.argmin())"
      ],
      "metadata": {
        "colab": {
          "base_uri": "https://localhost:8080/"
        },
        "id": "e8PgFANUcbbi",
        "outputId": "3087aa36-e834-4d15-ac11-f4e0d0a9513d"
      },
      "execution_count": null,
      "outputs": [
        {
          "output_type": "stream",
          "name": "stdout",
          "text": [
            "5\n",
            "8\n"
          ]
        }
      ]
    },
    {
      "cell_type": "code",
      "source": [
        "# найдем сумму всех элементов\n",
        "a.sum()"
      ],
      "metadata": {
        "colab": {
          "base_uri": "https://localhost:8080/"
        },
        "id": "l9OUMpxjdPX4",
        "outputId": "a039a327-00ef-4d21-e9cb-a276b77fff10"
      },
      "execution_count": null,
      "outputs": [
        {
          "output_type": "execute_result",
          "data": {
            "text/plain": [
              "466"
            ]
          },
          "metadata": {},
          "execution_count": 79
        }
      ]
    },
    {
      "cell_type": "code",
      "source": [
        "# найдем среднее элементов массива a\n",
        "a.mean()"
      ],
      "metadata": {
        "colab": {
          "base_uri": "https://localhost:8080/"
        },
        "id": "U8mNIXtQdqUl",
        "outputId": "9d891ef9-5968-4cbc-fb0b-043d6557f3f5"
      },
      "execution_count": null,
      "outputs": [
        {
          "output_type": "execute_result",
          "data": {
            "text/plain": [
              "46.6"
            ]
          },
          "metadata": {},
          "execution_count": 80
        }
      ]
    },
    {
      "cell_type": "code",
      "source": [
        "# найдем индексы элементов, значения которых больше 50\n",
        "np.where(a>50)"
      ],
      "metadata": {
        "colab": {
          "base_uri": "https://localhost:8080/"
        },
        "id": "_c700gAqdqXG",
        "outputId": "901d9e99-1dce-4557-f4ca-c83ecaf820a0"
      },
      "execution_count": null,
      "outputs": [
        {
          "output_type": "execute_result",
          "data": {
            "text/plain": [
              "(array([0, 3, 4, 5]),)"
            ]
          },
          "metadata": {},
          "execution_count": 82
        }
      ]
    },
    {
      "cell_type": "markdown",
      "source": [
        "np.where(condition,x,y) - возвращает элементы, выбранные из x или y в зависимости от условия"
      ],
      "metadata": {
        "id": "yllU4i0ve4aS"
      }
    },
    {
      "cell_type": "code",
      "source": [
        "# значения меньше 70 заменим на 333, а значения больше или равные 70 заменим на 888\n",
        "np.where(a<70,333,888)"
      ],
      "metadata": {
        "colab": {
          "base_uri": "https://localhost:8080/"
        },
        "id": "WaWE7E6EdqaX",
        "outputId": "81c8b8ab-a3a7-4cd4-99ce-e65ff568a2a1"
      },
      "execution_count": null,
      "outputs": [
        {
          "output_type": "execute_result",
          "data": {
            "text/plain": [
              "array([888, 333, 333, 888, 333, 888, 333, 333, 333, 333])"
            ]
          },
          "metadata": {},
          "execution_count": 83
        }
      ]
    },
    {
      "cell_type": "code",
      "source": [
        "# значения больше 40 заменим на 0, а значения равные или меньше 40 оставим без именения\n",
        "np.where(a>40,0,a)"
      ],
      "metadata": {
        "colab": {
          "base_uri": "https://localhost:8080/"
        },
        "id": "aqsgmRjDe7Mb",
        "outputId": "93024919-c62d-444a-ed43-9ad9978ab4ca"
      },
      "execution_count": null,
      "outputs": [
        {
          "output_type": "execute_result",
          "data": {
            "text/plain": [
              "array([ 0, 24, 18,  0,  0,  0,  0, 32, 16, 29])"
            ]
          },
          "metadata": {},
          "execution_count": 86
        }
      ]
    },
    {
      "cell_type": "markdown",
      "source": [
        "### Сравнение скорости обработки массивов numpy со списками"
      ],
      "metadata": {
        "id": "uuIe9d2Dlwmv"
      }
    },
    {
      "cell_type": "markdown",
      "source": [
        "Сравним скорость работы изменения массива по условию со скоростью изменения списка по условию"
      ],
      "metadata": {
        "id": "Wu00o5IEflW-"
      }
    },
    {
      "cell_type": "code",
      "source": [
        "# создаем массив случайных значений размера 2000 на 3000\n",
        "a = np.random.randint(1,100,(2000,3000))\n",
        "a"
      ],
      "metadata": {
        "colab": {
          "base_uri": "https://localhost:8080/"
        },
        "id": "WP14hp-5cbeb",
        "outputId": "1b6c2cb5-ec91-4bbd-c94f-a5cafd7528af"
      },
      "execution_count": null,
      "outputs": [
        {
          "output_type": "execute_result",
          "data": {
            "text/plain": [
              "array([[51,  3, 83, ...,  7, 61, 46],\n",
              "       [ 9,  8, 20, ..., 35, 21, 75],\n",
              "       [98, 70,  9, ..., 36, 37, 49],\n",
              "       ...,\n",
              "       [10, 67, 19, ..., 89, 59,  2],\n",
              "       [54, 98,  1, ..., 91, 32, 42],\n",
              "       [58, 99, 46, ..., 94,  9, 21]])"
            ]
          },
          "metadata": {},
          "execution_count": 88
        }
      ]
    },
    {
      "cell_type": "code",
      "source": [
        "# переводим массив в список\n",
        "list_a = a.tolist()"
      ],
      "metadata": {
        "id": "nBbsjmsLgKzW"
      },
      "execution_count": null,
      "outputs": []
    },
    {
      "cell_type": "code",
      "source": [
        "# поверим размерность списка списков\n",
        "print(len(list_a))\n",
        "print(len(list_a[0]))"
      ],
      "metadata": {
        "colab": {
          "base_uri": "https://localhost:8080/"
        },
        "id": "naZB2yqugK13",
        "outputId": "e2d741f6-348b-4261-dbd6-e37a935c04e7"
      },
      "execution_count": null,
      "outputs": [
        {
          "output_type": "stream",
          "name": "stdout",
          "text": [
            "2000\n",
            "3000\n"
          ]
        }
      ]
    },
    {
      "cell_type": "code",
      "source": [
        "%%timeit\n",
        "# запустим выполнение условия:\n",
        "# значения больше 40 заменим на 0, а значения равные или меньше 40 оставим без именения\n",
        "for i in range(len(list_a)):\n",
        "  for j in range(len(list_a[i])):\n",
        "    if list_a[i][j] > 40:\n",
        "      list_a[i][j] = 0"
      ],
      "metadata": {
        "id": "mYU7zNHCsyvV",
        "colab": {
          "base_uri": "https://localhost:8080/"
        },
        "outputId": "7db2aa42-cb3a-4a34-a10a-d0ecd3b93471"
      },
      "execution_count": null,
      "outputs": [
        {
          "output_type": "stream",
          "name": "stdout",
          "text": [
            "842 ms ± 302 ms per loop (mean ± std. dev. of 7 runs, 1 loop each)\n"
          ]
        }
      ]
    },
    {
      "cell_type": "code",
      "source": [
        "# проверим, что изменение выполнено верно\n",
        "print(list_a[0][:10])"
      ],
      "metadata": {
        "colab": {
          "base_uri": "https://localhost:8080/"
        },
        "id": "SZTQwT1biZIr",
        "outputId": "ad28ab67-6a23-413b-8790-7901313f775a"
      },
      "execution_count": null,
      "outputs": [
        {
          "output_type": "stream",
          "name": "stdout",
          "text": [
            "[0, 3, 0, 0, 21, 15, 17, 33, 0, 3]\n"
          ]
        }
      ]
    },
    {
      "cell_type": "code",
      "source": [
        "%%timeit\n",
        "# выполним то же условие, но с массивом\n",
        "np.where(a>40,0,a)"
      ],
      "metadata": {
        "colab": {
          "base_uri": "https://localhost:8080/"
        },
        "id": "erbK5-NYiPlP",
        "outputId": "bf7734ce-ef0a-435e-95b0-39a126e48e96"
      },
      "execution_count": null,
      "outputs": [
        {
          "output_type": "stream",
          "name": "stdout",
          "text": [
            "57.1 ms ± 9.51 ms per loop (mean ± std. dev. of 7 runs, 10 loops each)\n"
          ]
        }
      ]
    },
    {
      "cell_type": "code",
      "source": [
        "# проверим, что изменение выполнено верно\n",
        "print(np.where(a>40,0,a)[0,:10])"
      ],
      "metadata": {
        "colab": {
          "base_uri": "https://localhost:8080/"
        },
        "id": "dDoqJlADjaUE",
        "outputId": "0af2edcc-ee1f-491c-fa47-c4b7ef96f838"
      },
      "execution_count": null,
      "outputs": [
        {
          "output_type": "stream",
          "name": "stdout",
          "text": [
            "[ 0  3  0  0 21 15 17 33  0  3]\n"
          ]
        }
      ]
    },
    {
      "cell_type": "markdown",
      "source": [
        "Правильно используя массивы numpy, можно значительно сэкономить время выполнения кода, что зачастую является очень важным фактором при работе с большими данными."
      ],
      "metadata": {
        "id": "BnWfqGKZkuJo"
      }
    }
  ]
}