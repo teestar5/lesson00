{
  "nbformat": 4,
  "nbformat_minor": 0,
  "metadata": {
    "colab": {
      "provenance": [],
      "include_colab_link": true
    },
    "kernelspec": {
      "name": "python3",
      "display_name": "Python 3"
    },
    "language_info": {
      "name": "python"
    }
  },
  "cells": [
    {
      "cell_type": "markdown",
      "metadata": {
        "id": "view-in-github",
        "colab_type": "text"
      },
      "source": [
        "<a href=\"https://colab.research.google.com/github/teestar5/lesson00/blob/NeJron/%D0%9A%D0%BE%D0%BF%D0%B8%D1%8F_%D0%B1%D0%BB%D0%BE%D0%BA%D0%BD%D0%BE%D1%82%D0%B0_%22%D0%A0%D0%B0%D0%B1%D0%BE%D1%82%D0%B0_%D1%81_%D1%84%D0%B0%D0%B9%D0%BB%D0%BE%D0%B2%D0%BE%D0%B9_%D1%81%D0%B8%D1%81%D1%82%D0%B5%D0%BC%D0%BE%D0%B9%22.ipynb\" target=\"_parent\"><img src=\"https://colab.research.google.com/assets/colab-badge.svg\" alt=\"Open In Colab\"/></a>"
      ]
    },
    {
      "cell_type": "code",
      "execution_count": null,
      "metadata": {
        "id": "bDg-Tp9qHUkW"
      },
      "outputs": [],
      "source": [
        "import os\n",
        "import shutil\n",
        "import glob\n",
        "from zipfile import ZipFile"
      ]
    },
    {
      "cell_type": "code",
      "source": [
        "from google.colab import drive\n",
        "\n",
        "drive.mount('/content/drive')"
      ],
      "metadata": {
        "colab": {
          "base_uri": "https://localhost:8080/"
        },
        "id": "BdfUo_r1GQZ_",
        "outputId": "399ea338-28b2-4734-a00d-e0b12ac61e45"
      },
      "execution_count": null,
      "outputs": [
        {
          "output_type": "stream",
          "name": "stdout",
          "text": [
            "Mounted at /content/drive\n"
          ]
        }
      ]
    },
    {
      "cell_type": "code",
      "source": [
        "# Отключаем google drive\n",
        "drive.flush_and_unmount()"
      ],
      "metadata": {
        "id": "dGqRThRe1kI1"
      },
      "execution_count": null,
      "outputs": []
    },
    {
      "cell_type": "markdown",
      "source": [
        "## **Работа с файловой системой**"
      ],
      "metadata": {
        "id": "v-SDh4sUdf06"
      }
    },
    {
      "cell_type": "markdown",
      "source": [
        "###***Смена рабочей директории***\n",
        "\n",
        "---\n",
        "\n"
      ],
      "metadata": {
        "id": "fvcV7fzH1MOE"
      }
    },
    {
      "cell_type": "code",
      "source": [
        "# показать текущий каталог (рабочую директорию)\n",
        "os.getcwd()"
      ],
      "metadata": {
        "colab": {
          "base_uri": "https://localhost:8080/",
          "height": 36
        },
        "id": "7RCo_4M407ys",
        "outputId": "dd8da3d3-5dd2-4413-bedf-d8b51c5fba8c"
      },
      "execution_count": null,
      "outputs": [
        {
          "output_type": "execute_result",
          "data": {
            "text/plain": [
              "'/'"
            ],
            "application/vnd.google.colaboratory.intrinsic+json": {
              "type": "string"
            }
          },
          "metadata": {},
          "execution_count": 6
        }
      ]
    },
    {
      "cell_type": "code",
      "source": [
        "os.listdir()"
      ],
      "metadata": {
        "id": "bzjQhlpmLg16"
      },
      "execution_count": null,
      "outputs": []
    },
    {
      "cell_type": "code",
      "source": [
        "os.chdir('..')"
      ],
      "metadata": {
        "id": "TM50N-xyANyV"
      },
      "execution_count": null,
      "outputs": []
    },
    {
      "cell_type": "code",
      "source": [
        "import sys\n",
        "\n",
        "sys.path[0]"
      ],
      "metadata": {
        "id": "U0SGHdTAIfH4",
        "outputId": "43bbd3b2-6336-47db-92d5-d4ec6e882fbf",
        "colab": {
          "base_uri": "https://localhost:8080/",
          "height": 36
        }
      },
      "execution_count": null,
      "outputs": [
        {
          "output_type": "execute_result",
          "data": {
            "text/plain": [
              "'/content'"
            ],
            "application/vnd.google.colaboratory.intrinsic+json": {
              "type": "string"
            }
          },
          "metadata": {},
          "execution_count": 9
        }
      ]
    },
    {
      "cell_type": "code",
      "source": [
        "sys.path.append('/content/MyModule') # Добавить свой путь для загрузки модуля."
      ],
      "metadata": {
        "id": "XNmPNyfSaltP"
      },
      "execution_count": null,
      "outputs": []
    },
    {
      "cell_type": "code",
      "source": [
        "# меняем рабочую директорию\n",
        "\n",
        "os.chdir('/sys') # сменить директорию на абсолютный путь\n",
        "os.getcwd()"
      ],
      "metadata": {
        "id": "M5nVmkia1i5s",
        "outputId": "408505ad-a985-4b47-e76e-59b5e608c798",
        "colab": {
          "base_uri": "https://localhost:8080/",
          "height": 35
        }
      },
      "execution_count": null,
      "outputs": [
        {
          "output_type": "execute_result",
          "data": {
            "text/plain": [
              "'/sys'"
            ],
            "application/vnd.google.colaboratory.intrinsic+json": {
              "type": "string"
            }
          },
          "metadata": {},
          "execution_count": 20
        }
      ]
    },
    {
      "cell_type": "code",
      "source": [
        "os.chdir('/content') # сменить директорию на абсолютный путь\n",
        "os.getcwd()"
      ],
      "metadata": {
        "id": "dEyBfn2ActYn",
        "outputId": "717b3ac4-396e-4873-ed82-58b9031533ab",
        "colab": {
          "base_uri": "https://localhost:8080/",
          "height": 35
        }
      },
      "execution_count": null,
      "outputs": [
        {
          "output_type": "execute_result",
          "data": {
            "text/plain": [
              "'/content'"
            ],
            "application/vnd.google.colaboratory.intrinsic+json": {
              "type": "string"
            }
          },
          "metadata": {},
          "execution_count": 26
        }
      ]
    },
    {
      "cell_type": "code",
      "source": [
        "os.chdir('sample_data') # сменить директорию на подпапку\n",
        "os.getcwd()"
      ],
      "metadata": {
        "id": "0IPZb4f-c8pc",
        "outputId": "059eae4e-a444-400d-f5ff-ab9aac41367d",
        "colab": {
          "base_uri": "https://localhost:8080/",
          "height": 35
        }
      },
      "execution_count": null,
      "outputs": [
        {
          "output_type": "execute_result",
          "data": {
            "text/plain": [
              "'/content/sample_data'"
            ],
            "application/vnd.google.colaboratory.intrinsic+json": {
              "type": "string"
            }
          },
          "metadata": {},
          "execution_count": 34
        }
      ]
    },
    {
      "cell_type": "code",
      "source": [
        "os.chdir('/content') # сменить директорию на родительскую\n",
        "os.getcwd()"
      ],
      "metadata": {
        "id": "7tmh3Dn9cfLM",
        "outputId": "350491a7-0b10-470d-e297-bbe5a2612ff9",
        "colab": {
          "base_uri": "https://localhost:8080/",
          "height": 36
        }
      },
      "execution_count": null,
      "outputs": [
        {
          "output_type": "execute_result",
          "data": {
            "text/plain": [
              "'/content'"
            ],
            "application/vnd.google.colaboratory.intrinsic+json": {
              "type": "string"
            }
          },
          "metadata": {},
          "execution_count": 16
        }
      ]
    },
    {
      "cell_type": "markdown",
      "source": [
        "### ***Получение списка файлов и папок выбранной директории***\n",
        "\n",
        "---\n",
        "\n"
      ],
      "metadata": {
        "id": "3c48J6xV2UAp"
      }
    },
    {
      "cell_type": "code",
      "source": [
        "# получим список всех вложенных файлов в директории /content/sample_data\n",
        "os.listdir('sample_data')"
      ],
      "metadata": {
        "colab": {
          "base_uri": "https://localhost:8080/"
        },
        "id": "Pgv3arjN2bhx",
        "outputId": "2bb545d7-3663-4405-ba66-cc30918990db"
      },
      "execution_count": null,
      "outputs": [
        {
          "output_type": "execute_result",
          "data": {
            "text/plain": [
              "['anscombe.json',\n",
              " 'README.md',\n",
              " 'california_housing_train.csv',\n",
              " 'mnist_test.csv',\n",
              " 'california_housing_test.csv',\n",
              " 'mnist_train_small.csv']"
            ]
          },
          "metadata": {},
          "execution_count": 17
        }
      ]
    },
    {
      "cell_type": "code",
      "source": [],
      "metadata": {
        "id": "DFvWpccTMh02"
      },
      "execution_count": null,
      "outputs": []
    },
    {
      "cell_type": "code",
      "source": [
        "cd .."
      ],
      "metadata": {
        "id": "AlPbJqVFMcYC"
      },
      "execution_count": null,
      "outputs": []
    },
    {
      "cell_type": "code",
      "source": [
        "# получим список всех вложенных файлов в директории /usr\n",
        "os.listdir('/usr')"
      ],
      "metadata": {
        "colab": {
          "base_uri": "https://localhost:8080/"
        },
        "id": "F21mPiOY2q_D",
        "outputId": "63e39338-117b-46e5-b29a-0d2b69fd41be"
      },
      "execution_count": null,
      "outputs": [
        {
          "output_type": "execute_result",
          "data": {
            "text/plain": [
              "['libx32',\n",
              " 'lib64',\n",
              " 'src',\n",
              " 'lib32',\n",
              " 'share',\n",
              " 'bin',\n",
              " 'sbin',\n",
              " 'local',\n",
              " 'lib',\n",
              " 'include',\n",
              " 'games',\n",
              " 'colab',\n",
              " 'grte',\n",
              " 'libexec']"
            ]
          },
          "metadata": {},
          "execution_count": 37
        }
      ]
    },
    {
      "cell_type": "code",
      "source": [
        "%pwd"
      ],
      "metadata": {
        "id": "sWpDT2f-MvF2"
      },
      "execution_count": null,
      "outputs": []
    },
    {
      "cell_type": "markdown",
      "source": [
        "### ***Проверка существования файлов или папок (...пути)***\n",
        "\n",
        "---\n",
        "\n"
      ],
      "metadata": {
        "id": "VVoUtm6AVBlC"
      }
    },
    {
      "cell_type": "code",
      "source": [
        "# в случае существования файла README.md функция вернёт True\n",
        "os.path.exists('/content/sample_data/README.md')"
      ],
      "metadata": {
        "colab": {
          "base_uri": "https://localhost:8080/"
        },
        "id": "IK04UokCVGIr",
        "outputId": "52d74792-c209-49ba-9741-b1a6a424dabd"
      },
      "execution_count": null,
      "outputs": [
        {
          "output_type": "execute_result",
          "data": {
            "text/plain": [
              "True"
            ]
          },
          "metadata": {},
          "execution_count": 22
        }
      ]
    },
    {
      "cell_type": "code",
      "source": [
        "# в случае существования файла WRITEME.md функция вернёт True\n",
        "os.path.exists('/content/sample_data/WRITEME.md')"
      ],
      "metadata": {
        "colab": {
          "base_uri": "https://localhost:8080/"
        },
        "id": "3ANYt-zmVX-T",
        "outputId": "52580b76-d4c0-4745-b216-a6d41b3ce3be"
      },
      "execution_count": null,
      "outputs": [
        {
          "output_type": "execute_result",
          "data": {
            "text/plain": [
              "False"
            ]
          },
          "metadata": {},
          "execution_count": 23
        }
      ]
    },
    {
      "cell_type": "code",
      "source": [
        "os.chdir('/content')\n",
        "os.getcwd()"
      ],
      "metadata": {
        "colab": {
          "base_uri": "https://localhost:8080/",
          "height": 36
        },
        "id": "a85_XGshswC0",
        "outputId": "f9183796-e98d-44aa-9e29-3e9999181f0d"
      },
      "execution_count": null,
      "outputs": [
        {
          "output_type": "execute_result",
          "data": {
            "text/plain": [
              "'/content'"
            ],
            "application/vnd.google.colaboratory.intrinsic+json": {
              "type": "string"
            }
          },
          "metadata": {},
          "execution_count": 22
        }
      ]
    },
    {
      "cell_type": "code",
      "source": [
        "os.path.exists('/content/sample_data')"
      ],
      "metadata": {
        "colab": {
          "base_uri": "https://localhost:8080/"
        },
        "id": "-drSZkqls-_q",
        "outputId": "013c9080-3bb1-4da1-a4f8-7f388b67315a"
      },
      "execution_count": null,
      "outputs": [
        {
          "output_type": "execute_result",
          "data": {
            "text/plain": [
              "True"
            ]
          },
          "metadata": {},
          "execution_count": 23
        }
      ]
    },
    {
      "cell_type": "markdown",
      "source": [
        "### ***Создание папок***\n",
        "\n",
        "---\n",
        "\n"
      ],
      "metadata": {
        "id": "lV07tyyJ4TT7"
      }
    },
    {
      "cell_type": "code",
      "source": [
        "# создадим папку folder_1 в директории /content/sample_data\n",
        "os.mkdir('/content/sample_data/folder_1')"
      ],
      "metadata": {
        "id": "ltDoh2yp4Xtp"
      },
      "execution_count": null,
      "outputs": []
    },
    {
      "cell_type": "markdown",
      "source": [
        "Папка `folder_1` создана в директории `\\content\\sample_data`. Если бы такой директории не существовало, то ячейка бы завершила работу с ошибкой.\n",
        "\n",
        "Попробуем создать папку в несуществующей директории"
      ],
      "metadata": {
        "id": "YadvlFdQ4oqN"
      }
    },
    {
      "cell_type": "code",
      "source": [
        "# создадим папку folder_2 в директории /content/sample_data/non_existent_folder\n",
        "os.mkdir('/content/sample_data/non_existent_folder/folder_2')"
      ],
      "metadata": {
        "colab": {
          "base_uri": "https://localhost:8080/",
          "height": 188
        },
        "id": "LxxH9job417I",
        "outputId": "e635fd4c-bef3-4733-ff5a-a4468c95c5de"
      },
      "execution_count": null,
      "outputs": [
        {
          "output_type": "error",
          "ename": "FileNotFoundError",
          "evalue": "ignored",
          "traceback": [
            "\u001b[0;31m---------------------------------------------------------------------------\u001b[0m",
            "\u001b[0;31mFileNotFoundError\u001b[0m                         Traceback (most recent call last)",
            "\u001b[0;32m<ipython-input-10-b94eddfd3d56>\u001b[0m in \u001b[0;36m<module>\u001b[0;34m\u001b[0m\n\u001b[1;32m      1\u001b[0m \u001b[0;31m# создадим папку folder_2 в директории /content/sample_data/non_existent_folder\u001b[0m\u001b[0;34m\u001b[0m\u001b[0;34m\u001b[0m\u001b[0;34m\u001b[0m\u001b[0m\n\u001b[0;32m----> 2\u001b[0;31m \u001b[0mos\u001b[0m\u001b[0;34m.\u001b[0m\u001b[0mmkdir\u001b[0m\u001b[0;34m(\u001b[0m\u001b[0;34m'/content/sample_data/non_existent_folder/folder_2'\u001b[0m\u001b[0;34m)\u001b[0m\u001b[0;34m\u001b[0m\u001b[0;34m\u001b[0m\u001b[0m\n\u001b[0m",
            "\u001b[0;31mFileNotFoundError\u001b[0m: [Errno 2] No such file or directory: '/content/sample_data/non_existent_folder/folder_2'"
          ]
        }
      ]
    },
    {
      "cell_type": "markdown",
      "source": [
        "Ошибка! Так как директории `\\content\\sample_data\\non_existent_folder` не существует."
      ],
      "metadata": {
        "id": "xTOrEWLM5wVr"
      }
    },
    {
      "cell_type": "markdown",
      "source": [
        "Есть способ создать папку в несуществующей директории, но тогда сначала будет создана эта директория, а потом и папка в ней."
      ],
      "metadata": {
        "id": "l__ZZ-gx-5mS"
      }
    },
    {
      "cell_type": "code",
      "source": [
        "# создадим папку в несуществующей директории (вместе с самой директорией)\n",
        "os.makedirs('/content/sample_data/non_existent_folder/folder_2')"
      ],
      "metadata": {
        "id": "Quf8Ji0R_F_M"
      },
      "execution_count": null,
      "outputs": []
    },
    {
      "cell_type": "code",
      "source": [],
      "metadata": {
        "id": "7faryr-Zh8bq"
      },
      "execution_count": null,
      "outputs": []
    },
    {
      "cell_type": "markdown",
      "source": [
        "> *Для примера создадим доп. Папку*"
      ],
      "metadata": {
        "id": "GYS1KCcVh9Lq"
      }
    },
    {
      "cell_type": "code",
      "source": [
        "os.mkdir('/content/Example')"
      ],
      "metadata": {
        "id": "cKjQs3bQeS2A"
      },
      "execution_count": null,
      "outputs": []
    },
    {
      "cell_type": "code",
      "source": [
        "for i in range(10, 60): os.mkdir(f'Example/folder_{i}')"
      ],
      "metadata": {
        "id": "rUNpRFl054aY"
      },
      "execution_count": null,
      "outputs": []
    },
    {
      "cell_type": "code",
      "source": [
        "lst = os.listdir('Example')\n",
        "lst[:5]"
      ],
      "metadata": {
        "id": "COxCicF0g8vy",
        "outputId": "30a7d9b4-ed67-41ce-d4cc-9afef591ee06",
        "colab": {
          "base_uri": "https://localhost:8080/"
        }
      },
      "execution_count": null,
      "outputs": [
        {
          "output_type": "execute_result",
          "data": {
            "text/plain": [
              "['folder_21', 'folder_49', 'folder_45', 'folder_25', 'folder_16']"
            ]
          },
          "metadata": {},
          "execution_count": 28
        }
      ]
    },
    {
      "cell_type": "code",
      "source": [
        "lst = sorted(lst, key=lambda x: x.split('_')[-1])\n",
        "lst[:5]"
      ],
      "metadata": {
        "id": "l9hjf5bUfgez",
        "outputId": "b5b27f82-f81a-4303-a333-6c5eb3182feb",
        "colab": {
          "base_uri": "https://localhost:8080/"
        }
      },
      "execution_count": null,
      "outputs": [
        {
          "output_type": "execute_result",
          "data": {
            "text/plain": [
              "['folder_10', 'folder_11', 'folder_12', 'folder_13', 'folder_14']"
            ]
          },
          "metadata": {},
          "execution_count": 29
        }
      ]
    },
    {
      "cell_type": "code",
      "source": [
        "'folder_11'.split('_')[-1]"
      ],
      "metadata": {
        "colab": {
          "base_uri": "https://localhost:8080/",
          "height": 36
        },
        "id": "BaKkeUiqOdHr",
        "outputId": "47bcb8cf-4db2-4a96-a73d-0640cd1e9eba"
      },
      "execution_count": null,
      "outputs": [
        {
          "output_type": "execute_result",
          "data": {
            "text/plain": [
              "'11'"
            ],
            "application/vnd.google.colaboratory.intrinsic+json": {
              "type": "string"
            }
          },
          "metadata": {},
          "execution_count": 31
        }
      ]
    },
    {
      "cell_type": "markdown",
      "source": [
        "### ***Создаем файлы в папке***\n",
        "\n",
        "---\n",
        "\n"
      ],
      "metadata": {
        "id": "zWtFBD52jVDU"
      }
    },
    {
      "cell_type": "markdown",
      "source": [
        "#### **Работа с файлами**"
      ],
      "metadata": {
        "id": "h0S4cXshnm58"
      }
    },
    {
      "cell_type": "markdown",
      "source": [
        "Основа для работы с файлами — встроенная функция `open()`\n",
        "\n",
        "     open(file, mode=\"rt\")\n",
        "\n",
        "Эта функция используется для создания, чтения, изменения файлов.\n",
        "Аргумент `file` это путь к файлу, а `mode` это режим работы с файлами, который бывает:\n",
        "```markdown\n",
        "Режим     | Что позволяет делать\n",
        "----------|----------------------\n",
        "\"r\"       | Чтение из файла\n",
        "\"w\"       | Запись в файл. Если файл не существует, то он будет создан\n",
        "\"x\"       | Запись в файл. Если файл не существует, то будет вызвано исключение\n",
        "\"a\"       | Запись в файл. В отличие от предыдущих режимов, не стирает данные, которые уже хранятся в файле, а добавляет новые в конец\n",
        "\"t\"       | Открывает как текстовый файл\n",
        "\"b\"       | Открывает как двоичный файл\n",
        "\"+\"       | Позволяет работать с файлом как в режиме чтения, так и в режиме записи\n",
        "```"
      ],
      "metadata": {
        "id": "5rUEwrCjmWX0"
      }
    },
    {
      "cell_type": "code",
      "source": [
        "f = open('newfile.txt', 'ab')\n",
        "s = f.read()\n",
        "f.close()\n",
        "\n",
        "print(s)"
      ],
      "metadata": {
        "colab": {
          "base_uri": "https://localhost:8080/"
        },
        "id": "jorzMJItOrhA",
        "outputId": "e418260e-db6a-4409-ea1f-b8dd7c685030"
      },
      "execution_count": null,
      "outputs": [
        {
          "output_type": "stream",
          "name": "stdout",
          "text": [
            "Вторая запись\n",
            "Вторая запись\n",
            "\n"
          ]
        }
      ]
    },
    {
      "cell_type": "code",
      "source": [
        "f = open('newfile.txt', 'w')\n",
        "try:\n",
        "    f.write('Первая запись\\n')\n",
        "except:\n",
        "    print('Ошибка!')\n",
        "finally:\n",
        "    f.close()"
      ],
      "metadata": {
        "id": "3BPpph98PReH"
      },
      "execution_count": null,
      "outputs": []
    },
    {
      "cell_type": "markdown",
      "source": [
        "**Как лучше открыть файл?**\n",
        "\n",
        "Есть 2 способа как можно открыть файл при помощи функции open():\n",
        "\n",
        "1 - чтение всего файла\n",
        "\n",
        "    f = open('newfile.txt', 'w')\n",
        "    f.write('Первая запись\\n')\n",
        "    f.close()\n",
        "\n",
        "Открываем файл, выполняем какие-то операции и затем закрываем его командой `f.close()`. При открытии файла на него выделелись ресурсы, и если вдруг в момент выполнения операций (до закрытия) появится ошибка и не выполнится команда `f.close()`, то эти ресурсы не будут освобождены, что является неоптимальным использованием ресурсов. Чтобы этого не случилось можно воспользоваться обработкой исключений:\n",
        "\n",
        "    f = open('newfile.txt', 'w')\n",
        "    try:\n",
        "        f.write('Первая запись\\n')\n",
        "    except:\n",
        "        print('Ошибка!')\n",
        "    finally:\n",
        "        f.close()\n",
        "\n",
        "Этот код эквивалентен второму способу открытия файлов.\n",
        "\n",
        "2 - контекстный менеджер:\n",
        "\n",
        "    with open('newfile.txt', 'w') as f:\n",
        "        f.write('Первая запись\\n')\n",
        "\n",
        "Основное преимущество использования `with` - это гарантия закрытия файла вне зависимости от того, как будет завершён вложенный код (не нужно использовать `f.close()`)."
      ],
      "metadata": {
        "id": "yFQNt9-Qncee"
      }
    },
    {
      "cell_type": "markdown",
      "source": [
        "#### **Запись данных**"
      ],
      "metadata": {
        "id": "cnWKxbI5oKgD"
      }
    },
    {
      "cell_type": "code",
      "source": [
        "# 1 Вариант\n",
        "\n",
        "f = open('newfile.txt', 'w')\n",
        "f.write('Новая запись\\n')\n",
        "f.close()"
      ],
      "metadata": {
        "id": "spdkT6bLjqMq"
      },
      "execution_count": null,
      "outputs": []
    },
    {
      "cell_type": "code",
      "source": [
        "os.getcwd()"
      ],
      "metadata": {
        "colab": {
          "base_uri": "https://localhost:8080/",
          "height": 36
        },
        "id": "aGFxGy2avaKG",
        "outputId": "af159909-ee42-4b44-b21f-ee57ee91fc2b"
      },
      "execution_count": null,
      "outputs": [
        {
          "output_type": "execute_result",
          "data": {
            "text/plain": [
              "'/content'"
            ],
            "application/vnd.google.colaboratory.intrinsic+json": {
              "type": "string"
            }
          },
          "metadata": {},
          "execution_count": 86
        }
      ]
    },
    {
      "cell_type": "code",
      "source": [
        "\n",
        "for i in range(1,11):\n",
        "    f.write(f'{i} запись\\n')\n"
      ],
      "metadata": {
        "colab": {
          "base_uri": "https://localhost:8080/"
        },
        "id": "Fe9MeTslPtZr",
        "outputId": "c77c3921-fbbe-480a-8f7b-32db77f95080"
      },
      "execution_count": null,
      "outputs": [
        {
          "output_type": "stream",
          "name": "stdout",
          "text": [
            "Writing file2.txt\n"
          ]
        }
      ]
    },
    {
      "cell_type": "code",
      "source": [
        "# 2 Вариант *\n",
        "\n",
        "with open('newfile.txt', 'a') as f:\n",
        "    for i in range(1,11):\n",
        "        f.write(f'{i} запись\\n')"
      ],
      "metadata": {
        "id": "ZCxU-MJPoJ_S"
      },
      "execution_count": null,
      "outputs": []
    },
    {
      "cell_type": "markdown",
      "source": [
        "Первая запись удалилась, почему? Всё из-за того, что мы используем метод `'w'`. Каждый раз, при открытии файла с этим методом файл будет очищен.\n",
        "\n",
        "Если нам нужно добавить в файл список каких-то значений, то удобно использовать функцию `f.writelines()`."
      ],
      "metadata": {
        "id": "6exBEhQtpnaJ"
      }
    },
    {
      "cell_type": "code",
      "source": [
        "list_str = ['Первая строка\\n', 'Вторая строка\\n', 'Третья строка\\n', 'Последняя?\\n']\n",
        "\n",
        "with open('my_file.txt', 'w') as f:\n",
        "    for i in list_str:\n",
        "      f.write(i)"
      ],
      "metadata": {
        "id": "saqeuMEGoKBp"
      },
      "execution_count": null,
      "outputs": []
    },
    {
      "cell_type": "markdown",
      "source": [
        "**`.writelines`**(записывает список строк в файл без добавления символов перевода строки)"
      ],
      "metadata": {
        "id": "Sm81XlaVrVH-"
      }
    },
    {
      "cell_type": "code",
      "source": [
        "# эквивалентная запись\n",
        "with open('my_file2.txt', 'w') as f:\n",
        "    f.writelines(list_str)"
      ],
      "metadata": {
        "id": "m2BLbyVHoKDw"
      },
      "execution_count": null,
      "outputs": []
    },
    {
      "cell_type": "markdown",
      "source": [
        "**`.readlines`**(читает все строки из файла и возвращает их как список строк)"
      ],
      "metadata": {
        "id": "zUk7Nyz0sAWa"
      }
    },
    {
      "cell_type": "code",
      "source": [
        "with open('my_file2.txt', 'r') as f:\n",
        "    lines = f.readlines()\n",
        "\n",
        "print(lines, end='\\n\\n')"
      ],
      "metadata": {
        "colab": {
          "base_uri": "https://localhost:8080/"
        },
        "id": "opSHX5q-r9ie",
        "outputId": "fd8ab8d3-5530-47a4-a259-ea05d40ddd01"
      },
      "execution_count": null,
      "outputs": [
        {
          "output_type": "stream",
          "name": "stdout",
          "text": [
            "['Первая строка\\n', 'Вторая строка\\n', 'Третья строка\\n', 'Последняя?\\n']\n",
            "\n"
          ]
        }
      ]
    },
    {
      "cell_type": "code",
      "source": [
        "with open('my_file2.txt', 'r') as f:\n",
        "    lines = f.readline() # читает одну строку из файла и возвращает ее как строку\n",
        "\n",
        "print(lines, end='\\n\\n')"
      ],
      "metadata": {
        "colab": {
          "base_uri": "https://localhost:8080/"
        },
        "id": "d2NrOBuHtIgu",
        "outputId": "7ca5cc26-8e8e-41b8-ed22-56dc4e1b3ca1"
      },
      "execution_count": null,
      "outputs": [
        {
          "output_type": "stream",
          "name": "stdout",
          "text": [
            "Первая строка\n",
            "\n",
            "\n"
          ]
        }
      ]
    },
    {
      "cell_type": "code",
      "source": [
        "with open('my_file2.txt', 'r') as f:\n",
        "    data = f.read()\n",
        "    print(data)"
      ],
      "metadata": {
        "colab": {
          "base_uri": "https://localhost:8080/"
        },
        "id": "SB-1Q5jIt1DS",
        "outputId": "c05fa998-453a-422c-c198-e61a01cf1983"
      },
      "execution_count": null,
      "outputs": [
        {
          "output_type": "stream",
          "name": "stdout",
          "text": [
            "Первая строка\n",
            "Вторая строка\n",
            "Третья строка\n",
            "Последняя?\n",
            "\n"
          ]
        }
      ]
    },
    {
      "cell_type": "code",
      "source": [
        "os.chdir('/content/Example/folder_10')\n",
        "\n",
        "for i in range(1,6):\n",
        "    with open(f'file_{i}.txt', 'a') as f:\n",
        "        f.write(f'Fail № {i}')"
      ],
      "metadata": {
        "id": "cvIksHTUoKIM"
      },
      "execution_count": null,
      "outputs": []
    },
    {
      "cell_type": "code",
      "source": [
        "os.chdir('/content')\n",
        "os.getcwd()"
      ],
      "metadata": {
        "colab": {
          "base_uri": "https://localhost:8080/",
          "height": 36
        },
        "id": "2P6Rktt5vxv-",
        "outputId": "60119eca-4aeb-467c-919c-bc86d5d8a4d7"
      },
      "execution_count": null,
      "outputs": [
        {
          "output_type": "execute_result",
          "data": {
            "text/plain": [
              "'/content'"
            ],
            "application/vnd.google.colaboratory.intrinsic+json": {
              "type": "string"
            }
          },
          "metadata": {},
          "execution_count": 95
        }
      ]
    },
    {
      "cell_type": "code",
      "source": [
        "os.listdir('Example')"
      ],
      "metadata": {
        "id": "F0hHsT8LwQhp"
      },
      "execution_count": null,
      "outputs": []
    },
    {
      "cell_type": "code",
      "source": [
        "with open('/content/Example/folder_10/file_4.txt', 'r') as f:\n",
        "    res = f.read()\n",
        "\n",
        "res"
      ],
      "metadata": {
        "colab": {
          "base_uri": "https://localhost:8080/",
          "height": 36
        },
        "id": "67Vkv6nmwek4",
        "outputId": "5e040e10-5bdb-429f-a18d-af71f5c94502"
      },
      "execution_count": null,
      "outputs": [
        {
          "output_type": "execute_result",
          "data": {
            "text/plain": [
              "'Fail № 4'"
            ],
            "application/vnd.google.colaboratory.intrinsic+json": {
              "type": "string"
            }
          },
          "metadata": {},
          "execution_count": 100
        }
      ]
    },
    {
      "cell_type": "code",
      "source": [
        "os.getcwd()"
      ],
      "metadata": {
        "colab": {
          "base_uri": "https://localhost:8080/",
          "height": 36
        },
        "id": "CVu1VSBBzYdx",
        "outputId": "11a4482a-c7b2-4ea5-e26a-68b21ac57960"
      },
      "execution_count": null,
      "outputs": [
        {
          "output_type": "execute_result",
          "data": {
            "text/plain": [
              "'/content/Example/folder_10'"
            ],
            "application/vnd.google.colaboratory.intrinsic+json": {
              "type": "string"
            }
          },
          "metadata": {},
          "execution_count": 105
        }
      ]
    },
    {
      "cell_type": "code",
      "source": [
        "!rm -r '/content/Example'"
      ],
      "metadata": {
        "id": "YEHbzMwdxs5u"
      },
      "execution_count": null,
      "outputs": []
    },
    {
      "cell_type": "markdown",
      "source": [
        "#### **Создадим python скрипт**"
      ],
      "metadata": {
        "id": "xBCG3OxpxL5n"
      }
    },
    {
      "cell_type": "code",
      "source": [
        "text = '''\n",
        "import os\n",
        "os.mkdir('Example')\n",
        "\n",
        "for i in range(1,6):\n",
        "    with open(f'Example/file_{i}.txt', 'a') as f:\n",
        "        f.write(f'Fail № {i}')\n",
        "'''.strip()\n",
        "\n",
        "\n",
        "print(text)"
      ],
      "metadata": {
        "id": "X3Rc80jkxEv6",
        "colab": {
          "base_uri": "https://localhost:8080/"
        },
        "outputId": "32a9fc7f-60fc-4de7-a1d5-c56ba0996e56"
      },
      "execution_count": null,
      "outputs": [
        {
          "output_type": "stream",
          "name": "stdout",
          "text": [
            "import os\n",
            "os.mkdir('Example')\n",
            "\n",
            "for i in range(1,6):\n",
            "    with open(f'Example/file_{i}.txt', 'a') as f:\n",
            "        f.write(f'Fail № {i}')\n"
          ]
        }
      ]
    },
    {
      "cell_type": "code",
      "source": [
        "with open('troyan.py', 'w') as f:\n",
        "    f.write(text)"
      ],
      "metadata": {
        "id": "woma-TtnyHEU"
      },
      "execution_count": null,
      "outputs": []
    },
    {
      "cell_type": "code",
      "source": [
        "%run troyan.py"
      ],
      "metadata": {
        "id": "XP6-YJ-TRZ1K"
      },
      "execution_count": null,
      "outputs": []
    },
    {
      "cell_type": "code",
      "source": [
        "%%html\n",
        "\n",
        "<!DOCTYPE HTML PUBLIC \"-//W3C//DTD HTML 4.01//EN\" \"http://www.w3.org/TR/html4/strict.dtd\">\n",
        "<html>\n",
        " <head>\n",
        "  <meta http-equiv=\"Content-Type\" content=\"text/html; charset=utf-8\">\n",
        "  <title>Пример веб-страницы</title>\n",
        " </head>\n",
        " <body>\n",
        "  <h1>Заголовок</h1>\n",
        "  <!-- Комментарий -->\n",
        "  <p>Первый абзац.</p>\n",
        "  <p>Второй абзац.</p>\n",
        " </body>\n",
        "</html>"
      ],
      "metadata": {
        "colab": {
          "base_uri": "https://localhost:8080/",
          "height": 123
        },
        "id": "UN0zlQmhR96w",
        "outputId": "214db00c-4b21-463a-d73f-5cdefc633355"
      },
      "execution_count": null,
      "outputs": [
        {
          "output_type": "display_data",
          "data": {
            "text/plain": [
              "<IPython.core.display.HTML object>"
            ],
            "text/html": [
              "\n",
              "<!DOCTYPE HTML PUBLIC \"-//W3C//DTD HTML 4.01//EN\" \"http://www.w3.org/TR/html4/strict.dtd\">\n",
              "<html>\n",
              " <head>\n",
              "  <meta http-equiv=\"Content-Type\" content=\"text/html; charset=utf-8\">\n",
              "  <title>Пример веб-страницы</title>\n",
              " </head>\n",
              " <body>\n",
              "  <h1>Заголовок</h1>\n",
              "  <!-- Комментарий -->\n",
              "  <p>Первый абзац.</p>\n",
              "  <p>Второй абзац.</p>\n",
              " </body>\n",
              "</html>\n"
            ]
          },
          "metadata": {}
        }
      ]
    },
    {
      "cell_type": "code",
      "source": [
        "%lsmagic"
      ],
      "metadata": {
        "id": "61xKGYuVRxtr"
      },
      "execution_count": null,
      "outputs": []
    },
    {
      "cell_type": "code",
      "source": [
        "%who"
      ],
      "metadata": {
        "id": "TUF8HPVVSHM8"
      },
      "execution_count": null,
      "outputs": []
    },
    {
      "cell_type": "code",
      "source": [
        "%rm -r Example"
      ],
      "metadata": {
        "id": "hIzkzkESSK_-"
      },
      "execution_count": null,
      "outputs": []
    },
    {
      "cell_type": "code",
      "source": [
        "!python troyan.py"
      ],
      "metadata": {
        "id": "ZtHJxVku1bgU"
      },
      "execution_count": null,
      "outputs": []
    },
    {
      "cell_type": "markdown",
      "source": [
        "### ***Переименование файлов и папок***\n",
        "\n",
        "---\n",
        "\n"
      ],
      "metadata": {
        "id": "3DBXY84F_oOy"
      }
    },
    {
      "cell_type": "code",
      "source": [
        "# переименуем папку folder_1 в documents_1\n",
        "os.rename('/content/sample_data/folder_1',    # путь к папке со старым именем\n",
        "          '/content/sample_data/documents_1') # путь к папке с новым именем"
      ],
      "metadata": {
        "id": "4dvqsJXd_n4H"
      },
      "execution_count": null,
      "outputs": []
    },
    {
      "cell_type": "code",
      "source": [
        "# переименуем файл mnist_tect.csv в pandas_df.csv\n",
        "os.rename('/content/sample_data/mnist_test.csv', '/content/sample_data/pandas_df.csv')"
      ],
      "metadata": {
        "id": "2bPIh9K9Fm4u"
      },
      "execution_count": null,
      "outputs": []
    },
    {
      "cell_type": "markdown",
      "source": [
        "Переименуем все папки с именем `folder`"
      ],
      "metadata": {
        "id": "xw1Qvw4XBAGG"
      }
    },
    {
      "cell_type": "code",
      "source": [
        "# воспользуемся тем же циклом, что и при создании папок\n",
        "for i in range(1,6):\n",
        "\n",
        "  # поменяем имя каждой папки на documents_{номер_итерации}\n",
        "  os.rename(f'/content/Example/file_{i}.txt', f'/content/Example/documents_{i}.txt')"
      ],
      "metadata": {
        "id": "VomopubpB38s"
      },
      "execution_count": null,
      "outputs": []
    },
    {
      "cell_type": "markdown",
      "source": [
        "**Удаление файлов и папок**"
      ],
      "metadata": {
        "id": "ckvQ7ckfFfHM"
      }
    },
    {
      "cell_type": "code",
      "source": [
        "# удалим файл pandas_df.csv из директории /content/sample_data\n",
        "os.remove('/content/sample_data/pandas_df.csv')"
      ],
      "metadata": {
        "id": "aniRlNzHFjZA"
      },
      "execution_count": null,
      "outputs": []
    },
    {
      "cell_type": "code",
      "source": [
        "# удалим папку documents_1 из директории /content/sample_data\n",
        "os.rmdir('/content/sample_data/documents_1')"
      ],
      "metadata": {
        "id": "HalJhXtfG17N"
      },
      "execution_count": null,
      "outputs": []
    },
    {
      "cell_type": "markdown",
      "source": [
        "Попробуем удалить непустую папку"
      ],
      "metadata": {
        "id": "mRLvqRooHOlX"
      }
    },
    {
      "cell_type": "code",
      "source": [
        "os.chdir('/content')\n",
        "os.getcwd()"
      ],
      "metadata": {
        "colab": {
          "base_uri": "https://localhost:8080/",
          "height": 36
        },
        "id": "5UGeR3KK0or-",
        "outputId": "faeb6873-f60b-45c9-b044-e84c9ea9c5c2"
      },
      "execution_count": null,
      "outputs": [
        {
          "output_type": "execute_result",
          "data": {
            "text/plain": [
              "'/content'"
            ],
            "application/vnd.google.colaboratory.intrinsic+json": {
              "type": "string"
            }
          },
          "metadata": {},
          "execution_count": 19
        }
      ]
    },
    {
      "cell_type": "code",
      "source": [
        "# удалим папку non_existent_folder из директории /content/sample_data\n",
        "os.rmdir('/content/sample_data')"
      ],
      "metadata": {
        "colab": {
          "base_uri": "https://localhost:8080/",
          "height": 187
        },
        "id": "BSPn4D2-HRpW",
        "outputId": "e2cb851f-6888-4abf-a759-98c9f7560819"
      },
      "execution_count": null,
      "outputs": [
        {
          "output_type": "error",
          "ename": "OSError",
          "evalue": "ignored",
          "traceback": [
            "\u001b[0;31m---------------------------------------------------------------------------\u001b[0m",
            "\u001b[0;31mOSError\u001b[0m                                   Traceback (most recent call last)",
            "\u001b[0;32m<ipython-input-19-0c7b31dcd065>\u001b[0m in \u001b[0;36m<cell line: 2>\u001b[0;34m()\u001b[0m\n\u001b[1;32m      1\u001b[0m \u001b[0;31m# удалим папку non_existent_folder из директории /content/sample_data\u001b[0m\u001b[0;34m\u001b[0m\u001b[0;34m\u001b[0m\u001b[0m\n\u001b[0;32m----> 2\u001b[0;31m \u001b[0mos\u001b[0m\u001b[0;34m.\u001b[0m\u001b[0mrmdir\u001b[0m\u001b[0;34m(\u001b[0m\u001b[0;34m'/content/sample_data'\u001b[0m\u001b[0;34m)\u001b[0m\u001b[0;34m\u001b[0m\u001b[0;34m\u001b[0m\u001b[0m\n\u001b[0m",
            "\u001b[0;31mOSError\u001b[0m: [Errno 39] Directory not empty: '/content/sample_data'"
          ]
        }
      ]
    },
    {
      "cell_type": "markdown",
      "source": [
        "Ошибка! Так как папка содержит в себе другие папки или файлы.\n",
        "`os.rmdir()` работает только для пустых папок.\n",
        "\n",
        "Чтобы удалить папку со всем её содержимым воспользуемся функцией `shutil.rmtree()`"
      ],
      "metadata": {
        "id": "X2uF9GT7Hbac"
      }
    },
    {
      "cell_type": "code",
      "source": [
        "# удалим папку non_existent_folder из директории /content/sample_data\n",
        "shutil.rmtree('/content/Example')"
      ],
      "metadata": {
        "id": "Mwsd0Ir3HhY2"
      },
      "execution_count": null,
      "outputs": []
    },
    {
      "cell_type": "markdown",
      "source": [
        "Давайте удалим все папки в директории `\\content\\sample_data`. Мы можем получить список всех файлов и папок при помощи функции `os.listdir()`, но нам нужны именно папки. Для проверки файл это или папка есть функции `os.path.isfile()` и `os.path.isdir()`."
      ],
      "metadata": {
        "id": "JDxn5047Ikqx"
      }
    },
    {
      "cell_type": "code",
      "source": [
        "# проверим как работает функция os.path.isfile()\n",
        "os.path.isfile('/content/troyan.py')"
      ],
      "metadata": {
        "colab": {
          "base_uri": "https://localhost:8080/"
        },
        "id": "4mD7j4orJaoF",
        "outputId": "0eac9274-9a4f-46ec-ea9a-dcc22f24be83"
      },
      "execution_count": null,
      "outputs": [
        {
          "output_type": "execute_result",
          "data": {
            "text/plain": [
              "True"
            ]
          },
          "metadata": {},
          "execution_count": 20
        }
      ]
    },
    {
      "cell_type": "code",
      "source": [
        "# проверим как работает функция os.path.isfile()\n",
        "os.path.isfile('/content/sample_data')"
      ],
      "metadata": {
        "colab": {
          "base_uri": "https://localhost:8080/"
        },
        "id": "3wB3jZHWKpgI",
        "outputId": "b90af270-d633-43fc-c15b-a01fcf8d745b"
      },
      "execution_count": null,
      "outputs": [
        {
          "output_type": "execute_result",
          "data": {
            "text/plain": [
              "False"
            ]
          },
          "metadata": {},
          "execution_count": 21
        }
      ]
    },
    {
      "cell_type": "code",
      "source": [
        "# проверим как работает функция os.path.isdir()\n",
        "os.path.isdir('/content/sample_data')"
      ],
      "metadata": {
        "colab": {
          "base_uri": "https://localhost:8080/"
        },
        "id": "RFTlCj6OKx6K",
        "outputId": "6ccf1378-87b4-4b29-f11d-c01c8383fc08"
      },
      "execution_count": null,
      "outputs": [
        {
          "output_type": "execute_result",
          "data": {
            "text/plain": [
              "True"
            ]
          },
          "metadata": {},
          "execution_count": 22
        }
      ]
    },
    {
      "cell_type": "code",
      "source": [
        "# проверим как работает функция os.path.isdir()\n",
        "os.path.isdir('/content/sample_data/mnist_train_small.csv')"
      ],
      "metadata": {
        "colab": {
          "base_uri": "https://localhost:8080/"
        },
        "id": "qAtBy4VHK3gj",
        "outputId": "b47bec5e-2596-4b34-adbc-863a0af5070a"
      },
      "execution_count": null,
      "outputs": [
        {
          "output_type": "execute_result",
          "data": {
            "text/plain": [
              "False"
            ]
          },
          "metadata": {},
          "execution_count": 12
        }
      ]
    },
    {
      "cell_type": "code",
      "source": [
        "os.listdir('/content')"
      ],
      "metadata": {
        "colab": {
          "base_uri": "https://localhost:8080/"
        },
        "id": "EPIyykZeTjMK",
        "outputId": "07eaa31b-97f3-4593-f165-ad918439dd65"
      },
      "execution_count": null,
      "outputs": [
        {
          "output_type": "execute_result",
          "data": {
            "text/plain": [
              "['.config',\n",
              " 'my_file.txt',\n",
              " 'file2.txt',\n",
              " 'my_file2.txt',\n",
              " 'troyan.py',\n",
              " 'sample_data',\n",
              " 'newfile.txt']"
            ]
          },
          "metadata": {},
          "execution_count": 23
        }
      ]
    },
    {
      "cell_type": "code",
      "source": [
        "# удалим все папки из директории /content/sample_data\n",
        "# проходим циклом по всем файлам и папкам директории /content/sample_data\n",
        "for i in os.listdir('/content'):\n",
        "\n",
        "  # проверяем, что на текущей итерации в i записано имя папки, а не файла\n",
        "  if os.path.isfile(f'/content/{i}'):\n",
        "\n",
        "    # удаляем папку со всем содержимым (удалит и пустые и не пустые)\n",
        "    os.remove(f'/content/{i}')"
      ],
      "metadata": {
        "id": "1QeeSPVXK_Ey"
      },
      "execution_count": null,
      "outputs": []
    },
    {
      "cell_type": "code",
      "source": [],
      "metadata": {
        "id": "ivROGZvc1Mpz"
      },
      "execution_count": null,
      "outputs": []
    },
    {
      "cell_type": "markdown",
      "source": [
        "**Перемещение файлов и папок**"
      ],
      "metadata": {
        "id": "sxdQ_aiUMPSZ"
      }
    },
    {
      "cell_type": "markdown",
      "source": [
        "Создадим 5 папок в директории `\\content\\sample_data` и переместим 4 из них в оставшуюся."
      ],
      "metadata": {
        "id": "5jCaLDKRNSFN"
      }
    },
    {
      "cell_type": "code",
      "source": [
        "# создадим папку, в которую переместим другие папки\n",
        "os.mkdir('/content/sample_data')"
      ],
      "metadata": {
        "id": "HxSzbnOrMUOq"
      },
      "execution_count": null,
      "outputs": []
    },
    {
      "cell_type": "code",
      "source": [
        "# создадим ещё 4 папки в той же директории\n",
        "for i in range(1,5):\n",
        "  os.mkdir(f'/content/sample_data/folder_{i}')"
      ],
      "metadata": {
        "id": "DXjgrsCJNz9w"
      },
      "execution_count": null,
      "outputs": []
    },
    {
      "cell_type": "code",
      "source": [
        "# переместим папку folder_1 в папку main\n",
        "os.mkdir('/content/sample_data/main')\n",
        "shutil.move('/content/sample_data/folder_1', '/content/sample_data/main/folder_1')"
      ],
      "metadata": {
        "colab": {
          "base_uri": "https://localhost:8080/",
          "height": 35
        },
        "id": "umVg8jHsOPop",
        "outputId": "dc22a313-23a5-4ca9-810c-bd88913be697"
      },
      "execution_count": null,
      "outputs": [
        {
          "output_type": "execute_result",
          "data": {
            "text/plain": [
              "'/content/sample_data/main/folder_1'"
            ],
            "application/vnd.google.colaboratory.intrinsic+json": {
              "type": "string"
            }
          },
          "metadata": {},
          "execution_count": 71
        }
      ]
    },
    {
      "cell_type": "code",
      "source": [
        "# переместим файл mnist_train_small.csv в папку main\n",
        "shutil.move('/content/sample_data/mnist_train_small.csv', '/content/sample_data/main/mnist_train_small.csv')"
      ],
      "metadata": {
        "colab": {
          "base_uri": "https://localhost:8080/",
          "height": 36
        },
        "id": "pqvdI4PSQPxm",
        "outputId": "c81900ed-bbd5-4665-a2e7-10c26c52ec67"
      },
      "execution_count": null,
      "outputs": [
        {
          "output_type": "execute_result",
          "data": {
            "text/plain": [
              "'/content/sample_data/main/mnist_train_small.csv'"
            ],
            "application/vnd.google.colaboratory.intrinsic+json": {
              "type": "string"
            }
          },
          "metadata": {},
          "execution_count": 29
        }
      ]
    },
    {
      "cell_type": "markdown",
      "source": [
        "**Копирование файлов и папок**"
      ],
      "metadata": {
        "id": "1sxx2gybQ-Uq"
      }
    },
    {
      "cell_type": "markdown",
      "source": [
        "Скопируем файл `mnist_train_small.csv` из директории `\\content\\sample_data\\main` в директорию `\\content\\sample_data`"
      ],
      "metadata": {
        "id": "ZvAoIqILRCG5"
      }
    },
    {
      "cell_type": "code",
      "source": [
        "# cкопируем файл в его изначальную директорию\n",
        "shutil.copy('/content/sample_data/main/mnist_train_small.csv', '/content/sample_data/mnist_train_small.csv')"
      ],
      "metadata": {
        "colab": {
          "base_uri": "https://localhost:8080/",
          "height": 36
        },
        "id": "uLZKiU4xRAA2",
        "outputId": "50f99e2e-9f54-4831-a8ef-ec7637cfd565"
      },
      "execution_count": null,
      "outputs": [
        {
          "output_type": "execute_result",
          "data": {
            "text/plain": [
              "'/content/sample_data/mnist_train_small.csv'"
            ],
            "application/vnd.google.colaboratory.intrinsic+json": {
              "type": "string"
            }
          },
          "metadata": {},
          "execution_count": 30
        }
      ]
    },
    {
      "cell_type": "markdown",
      "source": [
        "Чтобы скопировать папку со всем содержимым, воспользуемся функцией `shutil.copytree()`"
      ],
      "metadata": {
        "id": "heR4dFeDR7Tk"
      }
    },
    {
      "cell_type": "code",
      "source": [
        "shutil.copytree('/content/sample_data/main', '/content/sample_data/folder_4/main')"
      ],
      "metadata": {
        "colab": {
          "base_uri": "https://localhost:8080/",
          "height": 36
        },
        "id": "RENXbE8DR4MS",
        "outputId": "5576ba50-836b-497a-ce36-55cd4edda0b6"
      },
      "execution_count": null,
      "outputs": [
        {
          "output_type": "execute_result",
          "data": {
            "text/plain": [
              "'/content/sample_data/folder_4/main'"
            ],
            "application/vnd.google.colaboratory.intrinsic+json": {
              "type": "string"
            }
          },
          "metadata": {},
          "execution_count": 31
        }
      ]
    },
    {
      "cell_type": "markdown",
      "source": [
        "**Выбор файлов определенного формата**"
      ],
      "metadata": {
        "id": "c_lskilRS6wV"
      }
    },
    {
      "cell_type": "markdown",
      "source": [
        "Допустим, мы хотим выполнить какую-то операцию над файлами формата `.csv` из директории `\\content\\sample_data`. Можно их сортировать по имени через условие, но есть решение проще, при помощи функции `glob.glob()`"
      ],
      "metadata": {
        "id": "FG3u1Ld6TBRg"
      }
    },
    {
      "cell_type": "code",
      "source": [
        "# посмотрим как работает фукнция glob()\n",
        "lst_remove = glob.glob('*.txt')\n",
        "lst_remove"
      ],
      "metadata": {
        "colab": {
          "base_uri": "https://localhost:8080/"
        },
        "id": "eU2UgqtYS-RS",
        "outputId": "3684e310-9506-4460-a0ef-f78fd9a3a9c1"
      },
      "execution_count": null,
      "outputs": [
        {
          "output_type": "execute_result",
          "data": {
            "text/plain": [
              "['my_file.txt', 'file2.txt', 'my_file2.txt', 'newfile.txt']"
            ]
          },
          "metadata": {},
          "execution_count": 26
        }
      ]
    },
    {
      "cell_type": "code",
      "source": [
        "for i in lst_remove:\n",
        "    os.remove(i)"
      ],
      "metadata": {
        "id": "mdAPT5Wn4-FM"
      },
      "execution_count": null,
      "outputs": []
    },
    {
      "cell_type": "markdown",
      "source": [
        "### ***Архивирование/разархивирование данных***\n",
        "\n",
        "---\n",
        "\n"
      ],
      "metadata": {
        "id": "-X5bJ5Ex1lI-"
      }
    },
    {
      "cell_type": "markdown",
      "source": [
        "Пример архивации файла"
      ],
      "metadata": {
        "id": "4IlbgKhyAtEp"
      }
    },
    {
      "cell_type": "code",
      "source": [
        "# архивируем файл my_file.txt\n",
        "with ZipFile(\"troyan.zip\", \"w\") as myzip:\n",
        "    myzip.write(\"/content/troyan.py\")"
      ],
      "metadata": {
        "id": "r_PvBWVmqOEg"
      },
      "execution_count": null,
      "outputs": []
    },
    {
      "cell_type": "markdown",
      "source": [
        "Добавим несколько файлов и папок в созданный архив"
      ],
      "metadata": {
        "id": "i_9TPfLQAwC6"
      }
    },
    {
      "cell_type": "code",
      "source": [
        "lst_file = ['newfile.txt', 'superfile.txt', 'table.csv']\n",
        "\n",
        "for file_ in lst_file:\n",
        "    with open(file_, 'w') as f:\n",
        "        f.write('hello')"
      ],
      "metadata": {
        "id": "KwNduMzh2VpY"
      },
      "execution_count": null,
      "outputs": []
    },
    {
      "cell_type": "code",
      "source": [
        "# используем метод 'a'\n",
        "with ZipFile(\"simple_zip.zip\", \"a\") as myzip:\n",
        "    myzip.write('newfile.txt')\n",
        "    myzip.write('superfile.txt')\n",
        "    myzip.write('table.csv')"
      ],
      "metadata": {
        "id": "PxtE4G7jAqv0"
      },
      "execution_count": null,
      "outputs": []
    },
    {
      "cell_type": "markdown",
      "source": [
        "Разархивируем созданный zip файл в новую папку"
      ],
      "metadata": {
        "id": "yreNjZ5tB3DP"
      }
    },
    {
      "cell_type": "code",
      "source": [
        "with ZipFile(\"simple_zip.zip\", \"r\") as myzip:\n",
        "    myzip.extractall(path='new_folder/', # путь, куда извлечь файлы\n",
        "                     members=None,       # список названий файлов, которые нужно извлечь из архива\n",
        "                     pwd=None)           # пароль, если архив таковой имеет"
      ],
      "metadata": {
        "id": "JAduBWzUB9HP"
      },
      "execution_count": null,
      "outputs": []
    }
  ]
}