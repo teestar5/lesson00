{
  "nbformat": 4,
  "nbformat_minor": 0,
  "metadata": {
    "colab": {
      "provenance": [],
      "gpuType": "T4",
      "include_colab_link": true
    },
    "kernelspec": {
      "name": "python3",
      "display_name": "Python 3"
    },
    "language_info": {
      "name": "python"
    },
    "accelerator": "GPU"
  },
  "cells": [
    {
      "cell_type": "markdown",
      "metadata": {
        "id": "view-in-github",
        "colab_type": "text"
      },
      "source": [
        "<a href=\"https://colab.research.google.com/github/teestar5/lesson00/blob/NeJron/%D0%9A%D0%BE%D0%BF%D0%B8%D1%8F_%D0%B1%D0%BB%D0%BE%D0%BA%D0%BD%D0%BE%D1%82%D0%B0_%22%D0%94%D0%97_Ultra_Pro_%D0%91%D0%B0%D0%B7%D0%BE%D0%B2%D1%8B%D0%B9_%D0%B1%D0%BB%D0%BE%D0%BA_%7C_%D0%92%D0%B2%D0%B5%D0%B4%D0%B5%D0%BD%D0%B8%D0%B5_%D0%B2_%D0%BD%D0%B5%D0%B9%D1%80%D0%BE%D0%BD%D0%BD%D1%8B%D0%B5_%D1%81%D0%B5%D1%82%D0%B8_%D0%9B%D0%B8%D0%BD%D0%B5%D0%B9%D0%BD%D1%8B%D0%B9_%D1%81%D0%BB%D0%BE%D0%B9_(Dense)_%7C_%D0%A3%D0%98%D0%98_ipynb%22.ipynb\" target=\"_parent\"><img src=\"https://colab.research.google.com/assets/colab-badge.svg\" alt=\"Open In Colab\"/></a>"
      ]
    },
    {
      "cell_type": "markdown",
      "metadata": {
        "id": "swEDUwU6-S8x"
      },
      "source": [
        "## Задание"
      ]
    },
    {
      "cell_type": "markdown",
      "metadata": {
        "id": "fMJUXp5d-flR"
      },
      "source": [
        "Распознайте рукописную цифру, написанную на листе от руки.\n",
        "Последовательность шагов следующая:\n",
        "\n",
        "*   На бумаге рисуем произвольную цифру (желательно нарисовать цифру размером не\n",
        "более 5 * 5 мм и без наклона. В занятии нейронка обучалась на цифрах американских студентов. Эти цифры были написаны на тетрадных листах в клетку и имели схожий размер).\n",
        "*   Фотографируем. Загружаем фото в Collaboratory.\n",
        "*   С помощью функции image.load_img(path, target_size=(28, 28), color_mode = ‘grayscale’) загружаем картинку в переменную.\n",
        "*   С помощью функции image.img_to_array(img) преобразуем изображение в numpy-массив.\n",
        "*   Выполняем инверсию цветов, нормирование и решейп массива.\n",
        "*   Выполняем распознавание собственной рукописной цифры.\n",
        "\n",
        "Примечание: точность распознавания рукописных цифр может быть достаточно низкой, т.к. рукописные цифры после преобразований хоть и похожи на содержащиеся в базе, но могут отличаться по конфигурации, толщине линий и т.д.\n"
      ]
    },
    {
      "cell_type": "code",
      "source": [
        "from keras.preprocessing import image\n",
        "import numpy as np\n",
        "from IPython.display import display\n",
        "from IPython.display import Image\n",
        "from keras.models import Sequential\n",
        "from keras.layers import Dense, Flatten\n",
        "from keras.utils import to_categorical\n",
        "from tensorflow.keras.datasets import mnist\n",
        "import matplotlib.pyplot as plt\n"
      ],
      "metadata": {
        "id": "W_ynZ9TzHUPI"
      },
      "execution_count": 42,
      "outputs": []
    },
    {
      "cell_type": "code",
      "metadata": {
        "id": "lDCR1UFdqPUb"
      },
      "source": [
        "# Ваше решение\n",
        "from google.colab import files"
      ],
      "execution_count": 43,
      "outputs": []
    },
    {
      "cell_type": "code",
      "source": [
        "files.upload()"
      ],
      "metadata": {
        "id": "r95qLf82FCdG",
        "outputId": "4af4c437-7e83-4439-8cda-5de07fa26321",
        "colab": {
          "base_uri": "https://localhost:8080/",
          "height": 342
        }
      },
      "execution_count": 44,
      "outputs": [
        {
          "output_type": "display_data",
          "data": {
            "text/plain": [
              "<IPython.core.display.HTML object>"
            ],
            "text/html": [
              "\n",
              "     <input type=\"file\" id=\"files-95b0bca6-a9d9-41a2-8156-db2ae540ba77\" name=\"files[]\" multiple disabled\n",
              "        style=\"border:none\" />\n",
              "     <output id=\"result-95b0bca6-a9d9-41a2-8156-db2ae540ba77\">\n",
              "      Upload widget is only available when the cell has been executed in the\n",
              "      current browser session. Please rerun this cell to enable.\n",
              "      </output>\n",
              "      <script>// Copyright 2017 Google LLC\n",
              "//\n",
              "// Licensed under the Apache License, Version 2.0 (the \"License\");\n",
              "// you may not use this file except in compliance with the License.\n",
              "// You may obtain a copy of the License at\n",
              "//\n",
              "//      http://www.apache.org/licenses/LICENSE-2.0\n",
              "//\n",
              "// Unless required by applicable law or agreed to in writing, software\n",
              "// distributed under the License is distributed on an \"AS IS\" BASIS,\n",
              "// WITHOUT WARRANTIES OR CONDITIONS OF ANY KIND, either express or implied.\n",
              "// See the License for the specific language governing permissions and\n",
              "// limitations under the License.\n",
              "\n",
              "/**\n",
              " * @fileoverview Helpers for google.colab Python module.\n",
              " */\n",
              "(function(scope) {\n",
              "function span(text, styleAttributes = {}) {\n",
              "  const element = document.createElement('span');\n",
              "  element.textContent = text;\n",
              "  for (const key of Object.keys(styleAttributes)) {\n",
              "    element.style[key] = styleAttributes[key];\n",
              "  }\n",
              "  return element;\n",
              "}\n",
              "\n",
              "// Max number of bytes which will be uploaded at a time.\n",
              "const MAX_PAYLOAD_SIZE = 100 * 1024;\n",
              "\n",
              "function _uploadFiles(inputId, outputId) {\n",
              "  const steps = uploadFilesStep(inputId, outputId);\n",
              "  const outputElement = document.getElementById(outputId);\n",
              "  // Cache steps on the outputElement to make it available for the next call\n",
              "  // to uploadFilesContinue from Python.\n",
              "  outputElement.steps = steps;\n",
              "\n",
              "  return _uploadFilesContinue(outputId);\n",
              "}\n",
              "\n",
              "// This is roughly an async generator (not supported in the browser yet),\n",
              "// where there are multiple asynchronous steps and the Python side is going\n",
              "// to poll for completion of each step.\n",
              "// This uses a Promise to block the python side on completion of each step,\n",
              "// then passes the result of the previous step as the input to the next step.\n",
              "function _uploadFilesContinue(outputId) {\n",
              "  const outputElement = document.getElementById(outputId);\n",
              "  const steps = outputElement.steps;\n",
              "\n",
              "  const next = steps.next(outputElement.lastPromiseValue);\n",
              "  return Promise.resolve(next.value.promise).then((value) => {\n",
              "    // Cache the last promise value to make it available to the next\n",
              "    // step of the generator.\n",
              "    outputElement.lastPromiseValue = value;\n",
              "    return next.value.response;\n",
              "  });\n",
              "}\n",
              "\n",
              "/**\n",
              " * Generator function which is called between each async step of the upload\n",
              " * process.\n",
              " * @param {string} inputId Element ID of the input file picker element.\n",
              " * @param {string} outputId Element ID of the output display.\n",
              " * @return {!Iterable<!Object>} Iterable of next steps.\n",
              " */\n",
              "function* uploadFilesStep(inputId, outputId) {\n",
              "  const inputElement = document.getElementById(inputId);\n",
              "  inputElement.disabled = false;\n",
              "\n",
              "  const outputElement = document.getElementById(outputId);\n",
              "  outputElement.innerHTML = '';\n",
              "\n",
              "  const pickedPromise = new Promise((resolve) => {\n",
              "    inputElement.addEventListener('change', (e) => {\n",
              "      resolve(e.target.files);\n",
              "    });\n",
              "  });\n",
              "\n",
              "  const cancel = document.createElement('button');\n",
              "  inputElement.parentElement.appendChild(cancel);\n",
              "  cancel.textContent = 'Cancel upload';\n",
              "  const cancelPromise = new Promise((resolve) => {\n",
              "    cancel.onclick = () => {\n",
              "      resolve(null);\n",
              "    };\n",
              "  });\n",
              "\n",
              "  // Wait for the user to pick the files.\n",
              "  const files = yield {\n",
              "    promise: Promise.race([pickedPromise, cancelPromise]),\n",
              "    response: {\n",
              "      action: 'starting',\n",
              "    }\n",
              "  };\n",
              "\n",
              "  cancel.remove();\n",
              "\n",
              "  // Disable the input element since further picks are not allowed.\n",
              "  inputElement.disabled = true;\n",
              "\n",
              "  if (!files) {\n",
              "    return {\n",
              "      response: {\n",
              "        action: 'complete',\n",
              "      }\n",
              "    };\n",
              "  }\n",
              "\n",
              "  for (const file of files) {\n",
              "    const li = document.createElement('li');\n",
              "    li.append(span(file.name, {fontWeight: 'bold'}));\n",
              "    li.append(span(\n",
              "        `(${file.type || 'n/a'}) - ${file.size} bytes, ` +\n",
              "        `last modified: ${\n",
              "            file.lastModifiedDate ? file.lastModifiedDate.toLocaleDateString() :\n",
              "                                    'n/a'} - `));\n",
              "    const percent = span('0% done');\n",
              "    li.appendChild(percent);\n",
              "\n",
              "    outputElement.appendChild(li);\n",
              "\n",
              "    const fileDataPromise = new Promise((resolve) => {\n",
              "      const reader = new FileReader();\n",
              "      reader.onload = (e) => {\n",
              "        resolve(e.target.result);\n",
              "      };\n",
              "      reader.readAsArrayBuffer(file);\n",
              "    });\n",
              "    // Wait for the data to be ready.\n",
              "    let fileData = yield {\n",
              "      promise: fileDataPromise,\n",
              "      response: {\n",
              "        action: 'continue',\n",
              "      }\n",
              "    };\n",
              "\n",
              "    // Use a chunked sending to avoid message size limits. See b/62115660.\n",
              "    let position = 0;\n",
              "    do {\n",
              "      const length = Math.min(fileData.byteLength - position, MAX_PAYLOAD_SIZE);\n",
              "      const chunk = new Uint8Array(fileData, position, length);\n",
              "      position += length;\n",
              "\n",
              "      const base64 = btoa(String.fromCharCode.apply(null, chunk));\n",
              "      yield {\n",
              "        response: {\n",
              "          action: 'append',\n",
              "          file: file.name,\n",
              "          data: base64,\n",
              "        },\n",
              "      };\n",
              "\n",
              "      let percentDone = fileData.byteLength === 0 ?\n",
              "          100 :\n",
              "          Math.round((position / fileData.byteLength) * 100);\n",
              "      percent.textContent = `${percentDone}% done`;\n",
              "\n",
              "    } while (position < fileData.byteLength);\n",
              "  }\n",
              "\n",
              "  // All done.\n",
              "  yield {\n",
              "    response: {\n",
              "      action: 'complete',\n",
              "    }\n",
              "  };\n",
              "}\n",
              "\n",
              "scope.google = scope.google || {};\n",
              "scope.google.colab = scope.google.colab || {};\n",
              "scope.google.colab._files = {\n",
              "  _uploadFiles,\n",
              "  _uploadFilesContinue,\n",
              "};\n",
              "})(self);\n",
              "</script> "
            ]
          },
          "metadata": {}
        },
        {
          "output_type": "stream",
          "name": "stdout",
          "text": [
            "Saving пять.png to пять (3).png\n"
          ]
        },
        {
          "output_type": "execute_result",
          "data": {
            "text/plain": [
              "{'пять (3).png': b'\\x89PNG\\r\\n\\x1a\\n\\x00\\x00\\x00\\rIHDR\\x00\\x00\\x00\\x1b\\x00\\x00\\x00\\x1e\\x08\\x06\\x00\\x00\\x00\\xdd\\x19e\\xe6\\x00\\x00\\x00\\x04gAMA\\x00\\x00\\xb1\\x9eaLA\\xf7\\x00\\x00\\x00 cHRM\\x00\\x00\\x87\\x10\\x00\\x00\\x8c\\x12\\x00\\x00\\xfdM\\x00\\x00\\x81>\\x00\\x00Y\\xeb\\x00\\x01\\x12\\x0f\\x00\\x00<\\xe6\\x00\\x00\\x19\\xce\\xba\\xc9\"2\\x00\\x00\\x01&iCCPAdobe RGB (1998)\\x00\\x00(\\xcfc``2ptqre\\x12``\\xc8\\xcd+)\\nrwR\\x88\\x88\\x8cR`?\\xcf\\xc0\\xc6\\xc0\\xcc\\x00\\x06\\x89\\xc9\\xc5\\x05\\x8e\\x01\\x01> v^~^*\\x03\\x06\\xf8v\\x8d\\x81\\x11D_\\xd6\\x05\\x99\\xc5@\\x1a\\xe0J.(*\\x01\\xd2\\x7f\\x80\\xd8(%\\xb58\\x99\\x81\\x81\\xd1\\x00\\xc8\\xce./)\\x00\\x8a3\\xce\\x01\\xb2E\\x92\\xb2\\xc1\\xec\\r vQH\\x903\\x90}\\x04\\xc8\\xe6K\\x87\\xb0\\xaf\\x80\\xd8I\\x10\\xf6\\x13\\x10\\xbb\\x08\\xe8\\t \\xfb\\x0bH}:\\x98\\xcd\\xc4\\x016\\x07\\xc2\\x96\\x01\\xb1KR+@\\xf628\\xe7\\x17T\\x16e\\xa6g\\x94(\\x18ZZZ*8\\xa6\\xe4\\'\\xa5*\\x04W\\x16\\x97\\xa4\\xe6\\x16+x\\xe6%\\xe7\\x17\\x15\\xe4\\x17%\\x96\\xa4\\xa6\\x00\\xd5B\\xdc\\x07\\x06\\x82\\x10\\x85\\xa0\\x10\\xd3\\x00j\\xb4\\xd0d\\xa02\\x00\\xc5\\x03\\x84\\xf59\\x10\\x1c\\xbe\\x8cbg\\x10b\\x08\\x90\\\\ZT\\x06e22\\x19\\x13\\xe6#\\xcc\\x98#\\xc1\\xc0\\xe0\\xbf\\x94\\x81\\x81\\xe5\\x0fB\\xcc\\xa4\\x97\\x81a\\x81\\x0e\\x03\\x03\\xffT\\x84\\x98\\x9a!\\x03\\x83\\x80>\\x03\\xc3\\xbe9\\x00\\xc0\\xc6O\\xfd\\x19:6\\\\\\x00\\x00\\x00\\tpHYs\\x00\\x00\\x0e\\xc4\\x00\\x00\\x0e\\xc4\\x01\\x95+\\x0e\\x1b\\x00\\x00\\x05\\xebiTXtXML:com.adobe.xmp\\x00\\x00\\x00\\x00\\x00<?xpacket begin=\"\\xef\\xbb\\xbf\" id=\"W5M0MpCehiHzreSzNTczkc9d\"?> <x:xmpmeta xmlns:x=\"adobe:ns:meta/\" x:xmptk=\"Adobe XMP Core 5.6-c145 79.163499, 2018/08/13-16:40:22        \"> <rdf:RDF xmlns:rdf=\"http://www.w3.org/1999/02/22-rdf-syntax-ns#\"> <rdf:Description rdf:about=\"\" xmlns:xmp=\"http://ns.adobe.com/xap/1.0/\" xmlns:dc=\"http://purl.org/dc/elements/1.1/\" xmlns:photoshop=\"http://ns.adobe.com/photoshop/1.0/\" xmlns:xmpMM=\"http://ns.adobe.com/xap/1.0/mm/\" xmlns:stEvt=\"http://ns.adobe.com/xap/1.0/sType/ResourceEvent#\" xmp:CreatorTool=\"Adobe Photoshop CC 2019 (Windows)\" xmp:CreateDate=\"2025-05-07T23:14:51+03:00\" xmp:ModifyDate=\"2025-05-08T12:59:11+03:00\" xmp:MetadataDate=\"2025-05-08T12:59:11+03:00\" dc:format=\"image/png\" photoshop:ColorMode=\"3\" photoshop:ICCProfile=\"Adobe RGB (1998)\" xmpMM:InstanceID=\"xmp.iid:39d2247d-c5ca-3943-bcd3-253db13e476e\" xmpMM:DocumentID=\"xmp.did:46c2f982-3fdf-b549-9ebf-0d352416031a\" xmpMM:OriginalDocumentID=\"xmp.did:46c2f982-3fdf-b549-9ebf-0d352416031a\"> <xmpMM:History> <rdf:Seq> <rdf:li stEvt:action=\"created\" stEvt:instanceID=\"xmp.iid:46c2f982-3fdf-b549-9ebf-0d352416031a\" stEvt:when=\"2025-05-07T23:14:51+03:00\" stEvt:softwareAgent=\"Adobe Photoshop CC 2019 (Windows)\"/> <rdf:li stEvt:action=\"saved\" stEvt:instanceID=\"xmp.iid:39d2247d-c5ca-3943-bcd3-253db13e476e\" stEvt:when=\"2025-05-08T12:59:11+03:00\" stEvt:softwareAgent=\"Adobe Photoshop CC 2019 (Windows)\" stEvt:changed=\"/\"/> </rdf:Seq> </xmpMM:History> </rdf:Description> </rdf:RDF> </x:xmpmeta> <?xpacket end=\"r\"?>\\xa2\\xe8\\xf3\\xfb\\x00\\x00\\x00iIDATHK\\xed\\x95A\\n\\xc0 \\x0c\\x04\\x93\\xfe\\xff\\xcfj\\xc1\\xab\\xba\\xc24\\x88\\xcd\\\\\\xf4 \\xaen\\x96\\xc4K\\xc3\\x82x\\xfa\\x1aB\\x8a!\\x9c#\\xe6\\xee}\\xb7F9\\xfbC\\x1bw,T\\x99\\xfe\\x8cn.\\x88\\x8d\\xaa\\x0bX\\xcd\\x14\\x17\\xce\\x08\\xc8\\x17\\x84\\x8a\\r\\xe7\\xd9n\\xf4\\x95\\x9a!\\xc3\\xf3}\\x98rM\\x06\\x04!\\xc5\\x10R\\x0c\\x01\\x11S\\x9b\\xd0\\xad6\\x9aUrw\\x1b1h5\\xaf\\xc8\\x00\\x00\\x00\\x00IEND\\xaeB`\\x82'}"
            ]
          },
          "metadata": {},
          "execution_count": 44
        }
      ]
    },
    {
      "cell_type": "code",
      "source": [
        "!ls"
      ],
      "metadata": {
        "id": "L_DwdPUGaA5a",
        "colab": {
          "base_uri": "https://localhost:8080/"
        },
        "outputId": "a93ca084-e07c-4729-87b7-26030634535e"
      },
      "execution_count": 45,
      "outputs": [
        {
          "output_type": "stream",
          "name": "stdout",
          "text": [
            " mnist_model.h5  'пять (1).png'  'пять (3).png'   три.png\n",
            " sample_data\t 'пять (2).png'   пять.png\n"
          ]
        }
      ]
    },
    {
      "cell_type": "code",
      "source": [
        "from IPython.display import Image\n",
        "\n",
        "Image('пять.png')"
      ],
      "metadata": {
        "id": "-3T8zqNrFeHk",
        "outputId": "cfd06c47-4925-46f1-97dc-c022e1fbfd6e",
        "colab": {
          "base_uri": "https://localhost:8080/",
          "height": 47
        }
      },
      "execution_count": 46,
      "outputs": [
        {
          "output_type": "execute_result",
          "data": {
            "image/png": "[encoded data removed]",
            "text/plain": [
              "<IPython.core.display.Image object>"
            ]
          },
          "metadata": {},
          "execution_count": 46
        }
      ]
    },
    {
      "cell_type": "code",
      "source": [
        "# Предположим, что вы загрузили файл с именем 'digit.png'\n",
        "img_path = 'пять.png'\n",
        "\n",
        "# Загружаем изображение и приводим к нужному формату: 28x28, оттенки серого\n",
        "img = image.load_img(img_path, target_size=(28, 28), color_mode='grayscale')\n",
        "\n",
        "# Преобразуем в массив (28, 28)\n",
        "img_array = image.img_to_array(img)\n",
        "\n",
        "# Инвертируем цвета: делаем цифру белой на черном фоне\n",
        "img_array = 255 - img_array\n",
        "\n",
        "# Нормализуем значения (0-1)\n",
        "img_array /= 255.0\n",
        "\n",
        "# Добавляем ось batch: (1, 28, 28, 1)\n",
        "img_input = img_array.reshape(1, 28, 28, 1)\n",
        "\n",
        "# Отображаем изображение после обработки\n",
        "plt.imshow(img_input[0], cmap='gray')\n",
        "plt.title(\"Ваша цифра\")\n",
        "plt.axis('off')\n",
        "plt.show()"
      ],
      "metadata": {
        "colab": {
          "base_uri": "https://localhost:8080/",
          "height": 428
        },
        "id": "8Gd9HrPII5Ns",
        "outputId": "13de43aa-4a54-4f77-854c-135f3cfcdf34"
      },
      "execution_count": 47,
      "outputs": [
        {
          "output_type": "display_data",
          "data": {
            "text/plain": [
              "<Figure size 640x480 with 1 Axes>"
            ],
            "image/png": "[encoded data removed]"
          },
          "metadata": {}
        }
      ]
    },
    {
      "cell_type": "markdown",
      "source": [
        "# 1. Загружаем данные MNIST"
      ],
      "metadata": {
        "id": "9677PAUQcVHf"
      }
    },
    {
      "cell_type": "markdown",
      "source": [
        "# 2. Нормализуем и изменяем форму данных\n"
      ],
      "metadata": {
        "id": "_UHSKvjCcFzX"
      }
    },
    {
      "cell_type": "markdown",
      "source": [
        " #Преобразуем метки в one-hot кодировку"
      ],
      "metadata": {
        "id": "q9Rx4FSDb5_G"
      }
    },
    {
      "cell_type": "code",
      "source": [],
      "metadata": {
        "id": "LRh5qQhoT-VN"
      },
      "execution_count": null,
      "outputs": []
    },
    {
      "cell_type": "code",
      "source": [
        "from tensorflow.keras.models import Sequential\n",
        "from tensorflow.keras.layers import Dense, Conv2D, MaxPooling2D, Flatten\n",
        "from tensorflow.keras.datasets import mnist\n",
        "\n",
        "# Загружаем MNIST (для примера)\n",
        "(x_train, y_train), (x_test, y_test) = mnist.load_data()\n",
        "\n",
        "# Нормализация и добавление канала\n",
        "x_train = x_train.reshape(-1, 28, 28, 1).astype('float32') / 255.0\n",
        "x_test = x_test.reshape(-1, 28, 28, 1).astype('float32') / 255.0\n",
        "\n",
        "# Создаем простую CNN\n",
        "model = Sequential([\n",
        "    Conv2D(32, (3, 3), activation='relu', input_shape=(28, 28, 1)),\n",
        "    MaxPooling2D((2, 2)),\n",
        "    Flatten(),\n",
        "    Dense(128, activation='relu'),\n",
        "    Dense(10, activation='softmax')\n",
        "])\n",
        "\n",
        "model.compile(optimizer='adam',\n",
        "              loss='sparse_categorical_crossentropy',\n",
        "              metrics=['accuracy'])\n",
        "\n",
        "# Обучаем модель\n",
        "model.fit(x_train, y_train, epochs=10, validation_data=(x_test, y_test))\n",
        "\n",
        "# Сохраняем модель\n",
        "model.save('mnist_model.h5')"
      ],
      "metadata": {
        "colab": {
          "base_uri": "https://localhost:8080/"
        },
        "id": "cR4TcKswJ1-6",
        "outputId": "10cb9382-8dc4-4d88-ff1e-fa2f2f4a1fec"
      },
      "execution_count": 48,
      "outputs": [
        {
          "output_type": "stream",
          "name": "stdout",
          "text": [
            "Epoch 1/10\n",
            "\u001b[1m1875/1875\u001b[0m \u001b[32m━━━━━━━━━━━━━━━━━━━━\u001b[0m\u001b[37m\u001b[0m \u001b[1m9s\u001b[0m 4ms/step - accuracy: 0.9119 - loss: 0.2990 - val_accuracy: 0.9800 - val_loss: 0.0662\n",
            "Epoch 2/10\n",
            "\u001b[1m1875/1875\u001b[0m \u001b[32m━━━━━━━━━━━━━━━━━━━━\u001b[0m\u001b[37m\u001b[0m \u001b[1m5s\u001b[0m 3ms/step - accuracy: 0.9839 - loss: 0.0539 - val_accuracy: 0.9828 - val_loss: 0.0493\n",
            "Epoch 3/10\n",
            "\u001b[1m1875/1875\u001b[0m \u001b[32m━━━━━━━━━━━━━━━━━━━━\u001b[0m\u001b[37m\u001b[0m \u001b[1m10s\u001b[0m 3ms/step - accuracy: 0.9904 - loss: 0.0323 - val_accuracy: 0.9855 - val_loss: 0.0447\n",
            "Epoch 4/10\n",
            "\u001b[1m1875/1875\u001b[0m \u001b[32m━━━━━━━━━━━━━━━━━━━━\u001b[0m\u001b[37m\u001b[0m \u001b[1m5s\u001b[0m 3ms/step - accuracy: 0.9939 - loss: 0.0186 - val_accuracy: 0.9864 - val_loss: 0.0398\n",
            "Epoch 5/10\n",
            "\u001b[1m1875/1875\u001b[0m \u001b[32m━━━━━━━━━━━━━━━━━━━━\u001b[0m\u001b[37m\u001b[0m \u001b[1m6s\u001b[0m 3ms/step - accuracy: 0.9960 - loss: 0.0136 - val_accuracy: 0.9858 - val_loss: 0.0474\n",
            "Epoch 6/10\n",
            "\u001b[1m1875/1875\u001b[0m \u001b[32m━━━━━━━━━━━━━━━━━━━━\u001b[0m\u001b[37m\u001b[0m \u001b[1m10s\u001b[0m 3ms/step - accuracy: 0.9967 - loss: 0.0107 - val_accuracy: 0.9847 - val_loss: 0.0515\n",
            "Epoch 7/10\n",
            "\u001b[1m1875/1875\u001b[0m \u001b[32m━━━━━━━━━━━━━━━━━━━━\u001b[0m\u001b[37m\u001b[0m \u001b[1m10s\u001b[0m 3ms/step - accuracy: 0.9975 - loss: 0.0081 - val_accuracy: 0.9844 - val_loss: 0.0565\n",
            "Epoch 8/10\n",
            "\u001b[1m1875/1875\u001b[0m \u001b[32m━━━━━━━━━━━━━━━━━━━━\u001b[0m\u001b[37m\u001b[0m \u001b[1m9s\u001b[0m 3ms/step - accuracy: 0.9987 - loss: 0.0045 - val_accuracy: 0.9876 - val_loss: 0.0474\n",
            "Epoch 9/10\n",
            "\u001b[1m1875/1875\u001b[0m \u001b[32m━━━━━━━━━━━━━━━━━━━━\u001b[0m\u001b[37m\u001b[0m \u001b[1m10s\u001b[0m 3ms/step - accuracy: 0.9985 - loss: 0.0045 - val_accuracy: 0.9869 - val_loss: 0.0556\n",
            "Epoch 10/10\n",
            "\u001b[1m1875/1875\u001b[0m \u001b[32m━━━━━━━━━━━━━━━━━━━━\u001b[0m\u001b[37m\u001b[0m \u001b[1m6s\u001b[0m 3ms/step - accuracy: 0.9988 - loss: 0.0039 - val_accuracy: 0.9849 - val_loss: 0.0674\n"
          ]
        },
        {
          "output_type": "stream",
          "name": "stderr",
          "text": [
            "WARNING:absl:You are saving your model as an HDF5 file via `model.save()` or `keras.saving.save_model(model)`. This file format is considered legacy. We recommend using instead the native Keras format, e.g. `model.save('my_model.keras')` or `keras.saving.save_model(model, 'my_model.keras')`. \n"
          ]
        }
      ]
    },
    {
      "cell_type": "code",
      "source": [
        "# Делаем предсказание\n",
        "prediction = model.predict(img_input)\n",
        "\n",
        "# Выводим вероятности\n",
        "print(\"Вероятности:\", prediction[0])\n",
        "\n",
        "# Находим предсказанную цифру\n",
        "predicted_digit = np.argmax(prediction)\n",
        "print(f\"\\nПредсказанная цифра: {predicted_digit}\")"
      ],
      "metadata": {
        "colab": {
          "base_uri": "https://localhost:8080/"
        },
        "id": "4r4EmGO-KaRp",
        "outputId": "f99f48df-39d0-406a-a933-3b79a15af9d1"
      },
      "execution_count": 49,
      "outputs": [
        {
          "output_type": "stream",
          "name": "stderr",
          "text": [
            "WARNING:tensorflow:5 out of the last 6 calls to <function TensorFlowTrainer.make_predict_function.<locals>.one_step_on_data_distributed at 0x7bef90014540> triggered tf.function retracing. Tracing is expensive and the excessive number of tracings could be due to (1) creating @tf.function repeatedly in a loop, (2) passing tensors with different shapes, (3) passing Python objects instead of tensors. For (1), please define your @tf.function outside of the loop. For (2), @tf.function has reduce_retracing=True option that can avoid unnecessary retracing. For (3), please refer to https://www.tensorflow.org/guide/function#controlling_retracing and https://www.tensorflow.org/api_docs/python/tf/function for  more details.\n"
          ]
        },
        {
          "output_type": "stream",
          "name": "stdout",
          "text": [
            "\u001b[1m1/1\u001b[0m \u001b[32m━━━━━━━━━━━━━━━━━━━━\u001b[0m\u001b[37m\u001b[0m \u001b[1m0s\u001b[0m 217ms/step\n",
            "Вероятности: [8.3977611e-06 2.3250820e-11 9.9953032e-01 1.8620040e-05 4.2169264e-09\n",
            " 7.1865105e-07 3.4134878e-12 4.4018312e-04 6.3847660e-09 1.8696828e-06]\n",
            "\n",
            "Предсказанная цифра: 2\n"
          ]
        }
      ]
    },
    {
      "cell_type": "markdown",
      "source": [
        "# Train the model\n"
      ],
      "metadata": {
        "id": "po7Tyf1nTF2A"
      }
    },
    {
      "cell_type": "code",
      "source": [
        "#model_instance.fit(x_train, y_train_cat, epochs=10)"
      ],
      "metadata": {
        "id": "Kusd9eLpTH7Q"
      },
      "execution_count": null,
      "outputs": []
    },
    {
      "cell_type": "markdown",
      "source": [],
      "metadata": {
        "id": "OcNDQ-GiTDYA"
      }
    },
    {
      "cell_type": "code",
      "source": [
        "# img = image.load_img('три.png', target_size=(28, 28), color_mode='grayscale')\n",
        "# img_array = image.img_to_array(img)\n",
        "# img_inverted = 255 - img_array\n",
        "# img_normalized = img_inverted / 255.0\n",
        "# img_reshaped = np.expand_dims(img_normalized, axis=0)  # Форма: (1, 28, 28, 1)"
      ],
      "metadata": {
        "id": "CdPFAweGYBAf"
      },
      "execution_count": null,
      "outputs": []
    },
    {
      "cell_type": "code",
      "source": [
        "# prediction = model_instance.predict(img_reshaped)\n",
        "# digit_class = np.argmax(prediction)\n",
        "\n",
        "# print(\"Модель думает, что это цифра:\", digit_class)"
      ],
      "metadata": {
        "id": "J0oB1DRTYJzn"
      },
      "execution_count": null,
      "outputs": []
    }
  ]
}