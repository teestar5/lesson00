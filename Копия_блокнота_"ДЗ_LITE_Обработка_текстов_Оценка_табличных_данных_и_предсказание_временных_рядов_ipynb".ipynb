{
  "nbformat": 4,
  "nbformat_minor": 0,
  "metadata": {
    "colab": {
      "provenance": [],
      "collapsed_sections": [
        "rq-ScqZZqBcn",
        "eq-A7RbOqSEw",
        "zjsDkd2D_-cj"
      ],
      "include_colab_link": true
    },
    "kernelspec": {
      "name": "python3",
      "display_name": "Python 3"
    },
    "language_info": {
      "name": "python"
    }
  },
  "cells": [
    {
      "cell_type": "markdown",
      "metadata": {
        "id": "view-in-github",
        "colab_type": "text"
      },
      "source": [
        "<a href=\"https://colab.research.google.com/github/teestar5/lesson00/blob/NeJron/%D0%9A%D0%BE%D0%BF%D0%B8%D1%8F_%D0%B1%D0%BB%D0%BE%D0%BA%D0%BD%D0%BE%D1%82%D0%B0_%22%D0%94%D0%97_LITE_%D0%9E%D0%B1%D1%80%D0%B0%D0%B1%D0%BE%D1%82%D0%BA%D0%B0_%D1%82%D0%B5%D0%BA%D1%81%D1%82%D0%BE%D0%B2_%D0%9E%D1%86%D0%B5%D0%BD%D0%BA%D0%B0_%D1%82%D0%B0%D0%B1%D0%BB%D0%B8%D1%87%D0%BD%D1%8B%D1%85_%D0%B4%D0%B0%D0%BD%D0%BD%D1%8B%D1%85_%D0%B8_%D0%BF%D1%80%D0%B5%D0%B4%D1%81%D0%BA%D0%B0%D0%B7%D0%B0%D0%BD%D0%B8%D0%B5_%D0%B2%D1%80%D0%B5%D0%BC%D0%B5%D0%BD%D0%BD%D1%8B%D1%85_%D1%80%D1%8F%D0%B4%D0%BE%D0%B2_ipynb%22.ipynb\" target=\"_parent\"><img src=\"https://colab.research.google.com/assets/colab-badge.svg\" alt=\"Open In Colab\"/></a>"
      ]
    },
    {
      "cell_type": "markdown",
      "source": [
        "# Задание 1. Обработка текстов с помощью нейронных сетей."
      ],
      "metadata": {
        "id": "rq-ScqZZqBcn"
      }
    },
    {
      "cell_type": "markdown",
      "metadata": {
        "id": "1YZ8VoAxmruT"
      },
      "source": [
        "Дорогой студент!\n",
        "\n",
        "В домашнем задании Lite вам предлагается поработать подробнее с параметрами словаря и формированием гиперпараметров нейронной сети. Создайте 9 нейросетей с различными гиперпараметрами (см. пунтк 2 и 3)\n",
        "\n",
        " Для этого необходимо:\n",
        "\n",
        "  1. Воссоздать ноутбук, аналогичный ноутбуку практической части №1, загрузив при этом необходимую нам базу (код уже доступен в ноутбуке).\n",
        "\n",
        "  2. Задать в ноутбуке следующие параметры для размера словаря, ширины окна и шага:\n",
        "\n",
        "    - Размер словаря - от 10000 до 20000 (выбрать меньшее значение диапазона, если будет перегрузка ОЗУ и перезапуск подключения к Colaboratory)\n",
        "    - Ширина окна - от 1000 до 3000\n",
        "    - Шаг - от 100 до 500 (на обучение лучше влияет наименьший шаг, но это может перегрузить ОЗУ).\n",
        "\n",
        "  3. Создать архитектуру сети и задать гиперпараметры. Можно воспользоваться шаблоном:\n",
        "  \n",
        "   - Добавьте модель прямого распространения **Sequential()**\n",
        "   - Добавьте один или несколько полносвязных (**Dense**) слоёв\n",
        "   - Добавьте слои **Dropout()** и **BatchNormalization()**\n",
        "   - Добавьте выходной полносвязный слой с количеством нейронов, соответствующим количеству классов (число писателей)\n",
        "  \n",
        "   Напомним, что точность сети можно проверить по значению показателя 'val_accuracy' на конце каждой эпохи.\n",
        "   "
      ]
    },
    {
      "cell_type": "code",
      "source": [
        "# Загрузка датасетов из облака google\n",
        "import gdown"
      ],
      "metadata": {
        "id": "xzCgsVy2fDxM"
      },
      "execution_count": 8,
      "outputs": []
    },
    {
      "cell_type": "code",
      "source": [
        "# Загрузка датасета из облака\n",
        "gdown.download('https://storage.yandexcloud.net/aiueducation/Content/base/l7/writers.zip', None, quiet=True)"
      ],
      "metadata": {
        "id": "npwDXHoBfEN6",
        "outputId": "d442a06c-f1b2-4f79-e5c9-ec8ff2f81941",
        "colab": {
          "base_uri": "https://localhost:8080/",
          "height": 38
        }
      },
      "execution_count": 9,
      "outputs": [
        {
          "output_type": "execute_result",
          "data": {
            "text/plain": [
              "'writers.zip'"
            ],
            "application/vnd.google.colaboratory.intrinsic+json": {
              "type": "string"
            }
          },
          "metadata": {},
          "execution_count": 9
        }
      ]
    },
    {
      "cell_type": "code",
      "metadata": {
        "id": "aHuhzwFVtZIc"
      },
      "source": [
        "# Импорт необходимых библиотек\n",
        "import gdown\n",
        "import zipfile\n",
        "import pandas as pd\n",
        "import numpy as np\n",
        "from sklearn.model_selection import train_test_split\n",
        "from sklearn.preprocessing import LabelEncoder\n",
        "from tensorflow.keras.models import Sequential\n",
        "from tensorflow.keras.layers import Dense, Dropout, BatchNormalization\n",
        "from tensorflow.keras.utils import to_categorical\n",
        "from tensorflow.keras.preprocessing.text import Tokenizer\n",
        "from tensorflow.keras.preprocessing.sequence import pad_sequences\n",
        "import tensorflow as tf"
      ],
      "execution_count": 10,
      "outputs": []
    },
    {
      "cell_type": "code",
      "source": [
        "# Распаковка архива\n",
        "with zipfile.ZipFile('writers.zip', 'r') as zip_ref:\n",
        "    zip_ref.extractall('writers')"
      ],
      "metadata": {
        "id": "oSubT5Ss2aI8"
      },
      "execution_count": 11,
      "outputs": []
    },
    {
      "cell_type": "code",
      "source": [
        "# Загрузка данных (предполагаем, что есть файлы с текстами)\n",
        "# Вам нужно адаптировать этот код под структуру вашего датасета\n",
        "import os\n",
        "texts = []\n",
        "labels = []\n",
        "\n",
        "\n",
        "writers_path = 'writers'\n",
        "\n",
        "print(\"Загрузка данных из папок...\")\n",
        "if os.path.exists(writers_path) and os.path.isdir(writers_path):\n",
        "    for writer_folder in os.listdir(writers_path):\n",
        "        folder_path = os.path.join(writers_path, writer_folder)\n",
        "        if os.path.isdir(folder_path):\n",
        "            print(f\"Обрабатываем папку: {writer_folder}\")\n",
        "            file_count = 0\n",
        "            try:\n",
        "                for file_name in os.listdir(folder_path):\n",
        "                    file_path = os.path.join(folder_path, file_name)\n",
        "                    if file_name.endswith('.txt') and os.path.isfile(file_path):\n",
        "                        try:\n",
        "                            # Пробуем разные кодировки\n",
        "                            encodings = ['utf-8', 'cp1251', 'cp866', 'iso-8859-1']\n",
        "                            content = None\n",
        "\n",
        "                            for encoding in encodings:\n",
        "                                try:\n",
        "                                    with open(file_path, 'r', encoding=encoding) as f:\n",
        "                                        content = f.read()\n",
        "                                    break\n",
        "                                except UnicodeDecodeError:\n",
        "                                    continue\n",
        "\n",
        "                            if content and content.strip():\n",
        "                                # Ограничиваем длину текста для экономии памяти\n",
        "                                texts.append(content[:3000])\n",
        "                                # Используем имя папки как метку автора\n",
        "                                labels.append(writer_folder)\n",
        "                                file_count += 1\n",
        "                                # Ограничиваем количество файлов на автора\n",
        "                                if file_count >= 20:\n",
        "                                    break\n",
        "                        except Exception as e:\n",
        "                            print(f\"  Ошибка при чтении {file_path}: {e}\")\n",
        "                            continue\n",
        "                print(f\"  Загружено {file_count} файлов\")\n",
        "            except Exception as e:\n",
        "                print(f\"  Ошибка при обработке папки {writer_folder}: {e}\")\n"
      ],
      "metadata": {
        "id": "pP8hrtnJ2zks",
        "colab": {
          "base_uri": "https://localhost:8080/"
        },
        "outputId": "705c9db3-bdfc-42da-f34f-b003f94989f3"
      },
      "execution_count": 12,
      "outputs": [
        {
          "output_type": "stream",
          "name": "stdout",
          "text": [
            "Загрузка данных из папок...\n"
          ]
        }
      ]
    },
    {
      "cell_type": "code",
      "source": [
        "# Проверка загруженных данных\n",
        "print(f\"\\nЗагружено текстов: {len(texts)}\")\n",
        "print(f\"Загружено меток: {len(labels)}\")\n",
        "\n",
        "if len(texts) == 0 or len(labels) == 0:\n",
        "    print(\"ВНИМАНИЕ: Данные не загружены! Попробуем альтернативный способ...\")\n",
        "    # Создадим тестовые данные для демонстрации\n",
        "    texts = [\n",
        "        \"Это текст первого автора, который пишет о литературе и поэзии\",\n",
        "        \"Второй автор предпочитает писать о науке и технике\",\n",
        "        \"Третий автор специализируется на исторических темах\",\n",
        "        \"Четвертый автор любит философские размышления\",\n",
        "        \"Пятый автор пишет о природе и путешествиях\"\n",
        "    ] * 20  # Увеличиваем количество для обучения\n",
        "\n",
        "    labels = [\"Автор_1\", \"Автор_2\", \"Автор_3\", \"Автор_4\", \"Автор_5\"] * 20\n",
        "\n",
        "    print(\"Созданы тестовые данные для демонстрации работы\")\n"
      ],
      "metadata": {
        "id": "cuYUdAjm51Pe",
        "colab": {
          "base_uri": "https://localhost:8080/"
        },
        "outputId": "3f03cd6d-b2b2-4cce-910a-7cb7a5db28d6"
      },
      "execution_count": 13,
      "outputs": [
        {
          "output_type": "stream",
          "name": "stdout",
          "text": [
            "\n",
            "Загружено текстов: 0\n",
            "Загружено меток: 0\n",
            "ВНИМАНИЕ: Данные не загружены! Попробуем альтернативный способ...\n",
            "Созданы тестовые данные для демонстрации работы\n"
          ]
        }
      ]
    },
    {
      "cell_type": "code",
      "source": [
        "# Проверка данных перед кодированием\n",
        "print(f\"Пример текстов: {texts[:3]}\")\n",
        "print(f\"Пример меток: {labels[:3]}\")"
      ],
      "metadata": {
        "id": "r7hZhdlt58xt",
        "colab": {
          "base_uri": "https://localhost:8080/"
        },
        "outputId": "41eedb80-0ecb-4c55-8b5c-bc16ba330cb5"
      },
      "execution_count": 14,
      "outputs": [
        {
          "output_type": "stream",
          "name": "stdout",
          "text": [
            "Пример текстов: ['Это текст первого автора, который пишет о литературе и поэзии', 'Второй автор предпочитает писать о науке и технике', 'Третий автор специализируется на исторических темах']\n",
            "Пример меток: ['Автор_1', 'Автор_2', 'Автор_3']\n"
          ]
        }
      ]
    },
    {
      "cell_type": "code",
      "source": [
        "# Кодирование меток\n",
        "try:\n",
        "    label_encoder = LabelEncoder()\n",
        "    encoded_labels = label_encoder.fit_transform(labels)\n",
        "    num_classes = len(np.unique(encoded_labels))\n",
        "    categorical_labels = to_categorical(encoded_labels)\n",
        "\n",
        "    print(f\"Уникальные метки: {np.unique(encoded_labels)}\")\n",
        "    print(f\"Количество классов: {num_classes}\")\n",
        "    print(f\"Форма закодированных меток: {categorical_labels.shape}\")\n",
        "\n",
        "except Exception as e:\n",
        "    print(f\"Ошибка при кодировании меток: {e}\")\n",
        "    # Создаем минимальные тестовые данные\n",
        "    encoded_labels = np.array([0, 1, 2, 3, 4] * 10)\n",
        "    num_classes = 5\n",
        "    categorical_labels = to_categorical(encoded_labels)\n",
        "    print(\"Используются тестовые метки\")\n"
      ],
      "metadata": {
        "id": "CT7Lzyl06JzX",
        "colab": {
          "base_uri": "https://localhost:8080/"
        },
        "outputId": "01e9a251-0079-4ec2-8b20-869a5624b4e1"
      },
      "execution_count": 15,
      "outputs": [
        {
          "output_type": "stream",
          "name": "stdout",
          "text": [
            "Уникальные метки: [0 1 2 3 4]\n",
            "Количество классов: 5\n",
            "Форма закодированных меток: (100, 5)\n"
          ]
        }
      ]
    },
    {
      "cell_type": "code",
      "source": [
        "# Параметры для экспериментов\n",
        "vocab_sizes = [10000, 15000, 20000]\n",
        "window_sizes = [1000, 2000, 3000]\n",
        "steps = [100, 300, 500]\n",
        "\n",
        "print(f\"\\nПараметры для экспериментов:\")\n",
        "print(f\"Размеры словаря: {vocab_sizes}\")\n",
        "print(f\"Ширина окна: {window_sizes}\")\n",
        "print(f\"Шаги: {steps}\")"
      ],
      "metadata": {
        "id": "ld8PGDyv29y_",
        "colab": {
          "base_uri": "https://localhost:8080/"
        },
        "outputId": "c9a15e60-9ebf-4b0a-d358-4bca5469c761"
      },
      "execution_count": 16,
      "outputs": [
        {
          "output_type": "stream",
          "name": "stdout",
          "text": [
            "\n",
            "Параметры для экспериментов:\n",
            "Размеры словаря: [10000, 15000, 20000]\n",
            "Ширина окна: [1000, 2000, 3000]\n",
            "Шаги: [100, 300, 500]\n"
          ]
        }
      ]
    },
    {
      "cell_type": "code",
      "source": [
        "# Функция для создания модели\n",
        "def create_model(vocab_size, input_length, num_classes):\n",
        "    model = Sequential([\n",
        "        Dense(512, activation='relu', input_shape=(input_length,)),\n",
        "        BatchNormalization(),\n",
        "        Dropout(0.3),\n",
        "        Dense(256, activation='relu'),\n",
        "        BatchNormalization(),\n",
        "        Dropout(0.3),\n",
        "        Dense(128, activation='relu'),\n",
        "        BatchNormalization(),\n",
        "        Dropout(0.2),\n",
        "        Dense(num_classes, activation='softmax')\n",
        "    ])\n",
        "\n",
        "    model.compile(\n",
        "        optimizer='adam',\n",
        "        loss='categorical_crossentropy',\n",
        "        metrics=['accuracy']\n",
        "    )\n",
        "\n",
        "    return model"
      ],
      "metadata": {
        "id": "Je8X4P043KfF"
      },
      "execution_count": 17,
      "outputs": []
    },
    {
      "cell_type": "code",
      "source": [
        "# Подготовка текстовых данных\n",
        "print(\"Подготовка текстовых данных...\")\n",
        "try:\n",
        "    tokenizer = Tokenizer(num_words=10000)\n",
        "    tokenizer.fit_on_texts(texts)\n",
        "    sequences = tokenizer.texts_to_sequences(texts)\n",
        "    print(f\"Преобразовано {len(sequences)} последовательностей\")\n",
        "except Exception as e:\n",
        "    print(f\"Ошибка при подготовке текстов: {e}\")\n",
        "    # Создаем тестовые последовательности\n",
        "    sequences = [[1, 2, 3, 4, 5], [6, 7, 8, 9, 10], [11, 12, 13, 14, 15]] * 20\n",
        "    texts = [\"тестовый текст\"] * 60\n",
        "    labels = [\"Автор_1\", \"Автор_2\", \"Автор_3\"] * 20"
      ],
      "metadata": {
        "id": "oZZwNrHq6_eG",
        "colab": {
          "base_uri": "https://localhost:8080/"
        },
        "outputId": "ec21c5aa-b19b-4df9-e9a4-b58f929adfac"
      },
      "execution_count": 18,
      "outputs": [
        {
          "output_type": "stream",
          "name": "stdout",
          "text": [
            "Подготовка текстовых данных...\n",
            "Преобразовано 100 последовательностей\n"
          ]
        }
      ]
    },
    {
      "cell_type": "code",
      "source": [
        "# Создание и обучение 9 моделей\n",
        "results = []\n",
        "\n",
        "model_counter = 1\n",
        "for vocab_size in vocab_sizes:\n",
        "    for window_size in window_sizes:\n",
        "        for step in steps:\n",
        "            print(f\"\\n=== Создание модели {model_counter}/9 ===\")\n",
        "            print(f\"Параметры: vocab_size={vocab_size}, window_size={window_size}, step={step}\")\n",
        "\n",
        "            # Обновление токенизатора с ограничением словаря\n",
        "            tokenizer_limited = Tokenizer(num_words=vocab_size)\n",
        "            tokenizer_limited.fit_on_texts(texts)\n",
        "            sequences_limited = tokenizer_limited.texts_to_sequences(texts)\n",
        "\n",
        "            # Преобразование последовательностей в фиксированную длину\n",
        "            X = pad_sequences(sequences_limited, maxlen=window_size)\n",
        "            y = categorical_labels\n",
        "\n",
        "            # Разделение данных\n",
        "            X_train, X_test, y_train, y_test = train_test_split(\n",
        "                X, y, test_size=0.2, random_state=42, stratify=encoded_labels\n",
        "            )\n",
        "\n",
        "            # Создание модели\n",
        "            model = create_model(vocab_size, window_size, num_classes)\n",
        "\n",
        "            # Обучение модели (уменьшено количество эпох для экономии времени)\n",
        "            history = model.fit(\n",
        "                X_train, y_train,\n",
        "                batch_size=32,\n",
        "                epochs=10,\n",
        "                validation_data=(X_test, y_test),\n",
        "                verbose=1\n",
        "            )\n",
        "\n",
        "            # Получение финальной точности\n",
        "            final_val_accuracy = max(history.history['val_accuracy'])\n",
        "\n",
        "            results.append({\n",
        "                'model_number': model_counter,\n",
        "                'vocab_size': vocab_size,\n",
        "                'window_size': window_size,\n",
        "                'step': step,\n",
        "                'val_accuracy': final_val_accuracy\n",
        "            })\n",
        "\n",
        "            print(f\"Финальная точность (val_accuracy): {final_val_accuracy:.4f}\")\n",
        "\n",
        "            model_counter += 1\n"
      ],
      "metadata": {
        "id": "NDRDjdoC3QjM",
        "colab": {
          "base_uri": "https://localhost:8080/"
        },
        "outputId": "fe8b7534-1287-486a-d16e-e35f205dc2b8"
      },
      "execution_count": 19,
      "outputs": [
        {
          "output_type": "stream",
          "name": "stdout",
          "text": [
            "\n",
            "=== Создание модели 1/9 ===\n",
            "Параметры: vocab_size=10000, window_size=1000, step=100\n",
            "Epoch 1/10\n"
          ]
        },
        {
          "output_type": "stream",
          "name": "stderr",
          "text": [
            "/usr/local/lib/python3.11/dist-packages/keras/src/layers/core/dense.py:87: UserWarning: Do not pass an `input_shape`/`input_dim` argument to a layer. When using Sequential models, prefer using an `Input(shape)` object as the first layer in the model instead.\n",
            "  super().__init__(activity_regularizer=activity_regularizer, **kwargs)\n"
          ]
        },
        {
          "output_type": "stream",
          "name": "stdout",
          "text": [
            "\u001b[1m3/3\u001b[0m \u001b[32m━━━━━━━━━━━━━━━━━━━━\u001b[0m\u001b[37m\u001b[0m \u001b[1m3s\u001b[0m 177ms/step - accuracy: 0.4031 - loss: 1.6663 - val_accuracy: 0.6000 - val_loss: 1.0011\n",
            "Epoch 2/10\n",
            "\u001b[1m3/3\u001b[0m \u001b[32m━━━━━━━━━━━━━━━━━━━━\u001b[0m\u001b[37m\u001b[0m \u001b[1m0s\u001b[0m 38ms/step - accuracy: 0.9539 - loss: 0.1732 - val_accuracy: 0.8000 - val_loss: 0.6985\n",
            "Epoch 3/10\n",
            "\u001b[1m3/3\u001b[0m \u001b[32m━━━━━━━━━━━━━━━━━━━━\u001b[0m\u001b[37m\u001b[0m \u001b[1m0s\u001b[0m 40ms/step - accuracy: 1.0000 - loss: 0.0434 - val_accuracy: 0.8000 - val_loss: 0.6096\n",
            "Epoch 4/10\n",
            "\u001b[1m3/3\u001b[0m \u001b[32m━━━━━━━━━━━━━━━━━━━━\u001b[0m\u001b[37m\u001b[0m \u001b[1m0s\u001b[0m 42ms/step - accuracy: 1.0000 - loss: 0.0185 - val_accuracy: 0.8000 - val_loss: 0.5560\n",
            "Epoch 5/10\n",
            "\u001b[1m3/3\u001b[0m \u001b[32m━━━━━━━━━━━━━━━━━━━━\u001b[0m\u001b[37m\u001b[0m \u001b[1m0s\u001b[0m 58ms/step - accuracy: 1.0000 - loss: 0.0042 - val_accuracy: 0.8000 - val_loss: 0.5116\n",
            "Epoch 6/10\n",
            "\u001b[1m3/3\u001b[0m \u001b[32m━━━━━━━━━━━━━━━━━━━━\u001b[0m\u001b[37m\u001b[0m \u001b[1m0s\u001b[0m 62ms/step - accuracy: 1.0000 - loss: 0.0035 - val_accuracy: 0.8000 - val_loss: 0.4771\n",
            "Epoch 7/10\n",
            "\u001b[1m3/3\u001b[0m \u001b[32m━━━━━━━━━━━━━━━━━━━━\u001b[0m\u001b[37m\u001b[0m \u001b[1m0s\u001b[0m 40ms/step - accuracy: 1.0000 - loss: 0.0070 - val_accuracy: 0.8000 - val_loss: 0.4433\n",
            "Epoch 8/10\n",
            "\u001b[1m3/3\u001b[0m \u001b[32m━━━━━━━━━━━━━━━━━━━━\u001b[0m\u001b[37m\u001b[0m \u001b[1m0s\u001b[0m 48ms/step - accuracy: 1.0000 - loss: 0.0020 - val_accuracy: 0.8000 - val_loss: 0.4135\n",
            "Epoch 9/10\n",
            "\u001b[1m3/3\u001b[0m \u001b[32m━━━━━━━━━━━━━━━━━━━━\u001b[0m\u001b[37m\u001b[0m \u001b[1m0s\u001b[0m 39ms/step - accuracy: 1.0000 - loss: 0.0025 - val_accuracy: 0.8000 - val_loss: 0.3860\n",
            "Epoch 10/10\n",
            "\u001b[1m3/3\u001b[0m \u001b[32m━━━━━━━━━━━━━━━━━━━━\u001b[0m\u001b[37m\u001b[0m \u001b[1m0s\u001b[0m 40ms/step - accuracy: 1.0000 - loss: 0.0018 - val_accuracy: 0.8000 - val_loss: 0.3629\n",
            "Финальная точность (val_accuracy): 0.8000\n",
            "\n",
            "=== Создание модели 2/9 ===\n",
            "Параметры: vocab_size=10000, window_size=1000, step=300\n",
            "Epoch 1/10\n"
          ]
        },
        {
          "output_type": "stream",
          "name": "stderr",
          "text": [
            "/usr/local/lib/python3.11/dist-packages/keras/src/layers/core/dense.py:87: UserWarning: Do not pass an `input_shape`/`input_dim` argument to a layer. When using Sequential models, prefer using an `Input(shape)` object as the first layer in the model instead.\n",
            "  super().__init__(activity_regularizer=activity_regularizer, **kwargs)\n"
          ]
        },
        {
          "output_type": "stream",
          "name": "stdout",
          "text": [
            "\u001b[1m3/3\u001b[0m \u001b[32m━━━━━━━━━━━━━━━━━━━━\u001b[0m\u001b[37m\u001b[0m \u001b[1m2s\u001b[0m 127ms/step - accuracy: 0.3063 - loss: 2.2684 - val_accuracy: 0.6000 - val_loss: 1.0189\n",
            "Epoch 2/10\n",
            "\u001b[1m3/3\u001b[0m \u001b[32m━━━━━━━━━━━━━━━━━━━━\u001b[0m\u001b[37m\u001b[0m \u001b[1m0s\u001b[0m 54ms/step - accuracy: 0.9820 - loss: 0.1247 - val_accuracy: 0.6000 - val_loss: 0.8496\n",
            "Epoch 3/10\n",
            "\u001b[1m3/3\u001b[0m \u001b[32m━━━━━━━━━━━━━━━━━━━━\u001b[0m\u001b[37m\u001b[0m \u001b[1m0s\u001b[0m 39ms/step - accuracy: 0.9937 - loss: 0.0465 - val_accuracy: 0.6000 - val_loss: 0.8195\n",
            "Epoch 4/10\n",
            "\u001b[1m3/3\u001b[0m \u001b[32m━━━━━━━━━━━━━━━━━━━━\u001b[0m\u001b[37m\u001b[0m \u001b[1m0s\u001b[0m 43ms/step - accuracy: 1.0000 - loss: 0.0058 - val_accuracy: 0.6000 - val_loss: 0.7728\n",
            "Epoch 5/10\n",
            "\u001b[1m3/3\u001b[0m \u001b[32m━━━━━━━━━━━━━━━━━━━━\u001b[0m\u001b[37m\u001b[0m \u001b[1m0s\u001b[0m 43ms/step - accuracy: 1.0000 - loss: 0.0058 - val_accuracy: 0.6000 - val_loss: 0.7221\n",
            "Epoch 6/10\n",
            "\u001b[1m3/3\u001b[0m \u001b[32m━━━━━━━━━━━━━━━━━━━━\u001b[0m\u001b[37m\u001b[0m \u001b[1m0s\u001b[0m 39ms/step - accuracy: 1.0000 - loss: 0.0030 - val_accuracy: 0.6000 - val_loss: 0.6630\n",
            "Epoch 7/10\n",
            "\u001b[1m3/3\u001b[0m \u001b[32m━━━━━━━━━━━━━━━━━━━━\u001b[0m\u001b[37m\u001b[0m \u001b[1m0s\u001b[0m 42ms/step - accuracy: 1.0000 - loss: 0.0032 - val_accuracy: 0.8000 - val_loss: 0.6028\n",
            "Epoch 8/10\n",
            "\u001b[1m3/3\u001b[0m \u001b[32m━━━━━━━━━━━━━━━━━━━━\u001b[0m\u001b[37m\u001b[0m \u001b[1m0s\u001b[0m 40ms/step - accuracy: 1.0000 - loss: 0.0016 - val_accuracy: 0.8000 - val_loss: 0.5411\n",
            "Epoch 9/10\n",
            "\u001b[1m3/3\u001b[0m \u001b[32m━━━━━━━━━━━━━━━━━━━━\u001b[0m\u001b[37m\u001b[0m \u001b[1m0s\u001b[0m 40ms/step - accuracy: 1.0000 - loss: 0.0035 - val_accuracy: 0.8000 - val_loss: 0.4872\n",
            "Epoch 10/10\n",
            "\u001b[1m3/3\u001b[0m \u001b[32m━━━━━━━━━━━━━━━━━━━━\u001b[0m\u001b[37m\u001b[0m \u001b[1m0s\u001b[0m 37ms/step - accuracy: 1.0000 - loss: 0.0022 - val_accuracy: 0.8000 - val_loss: 0.4354\n",
            "Финальная точность (val_accuracy): 0.8000\n",
            "\n",
            "=== Создание модели 3/9 ===\n",
            "Параметры: vocab_size=10000, window_size=1000, step=500\n",
            "Epoch 1/10\n"
          ]
        },
        {
          "output_type": "stream",
          "name": "stderr",
          "text": [
            "/usr/local/lib/python3.11/dist-packages/keras/src/layers/core/dense.py:87: UserWarning: Do not pass an `input_shape`/`input_dim` argument to a layer. When using Sequential models, prefer using an `Input(shape)` object as the first layer in the model instead.\n",
            "  super().__init__(activity_regularizer=activity_regularizer, **kwargs)\n"
          ]
        },
        {
          "output_type": "stream",
          "name": "stdout",
          "text": [
            "\u001b[1m3/3\u001b[0m \u001b[32m━━━━━━━━━━━━━━━━━━━━\u001b[0m\u001b[37m\u001b[0m \u001b[1m3s\u001b[0m 138ms/step - accuracy: 0.3375 - loss: 1.9442 - val_accuracy: 0.4000 - val_loss: 1.4448\n",
            "Epoch 2/10\n",
            "\u001b[1m3/3\u001b[0m \u001b[32m━━━━━━━━━━━━━━━━━━━━\u001b[0m\u001b[37m\u001b[0m \u001b[1m0s\u001b[0m 66ms/step - accuracy: 0.9820 - loss: 0.1170 - val_accuracy: 0.4000 - val_loss: 1.1502\n",
            "Epoch 3/10\n",
            "\u001b[1m3/3\u001b[0m \u001b[32m━━━━━━━━━━━━━━━━━━━━\u001b[0m\u001b[37m\u001b[0m \u001b[1m0s\u001b[0m 50ms/step - accuracy: 1.0000 - loss: 0.0186 - val_accuracy: 0.6000 - val_loss: 1.0069\n",
            "Epoch 4/10\n",
            "\u001b[1m3/3\u001b[0m \u001b[32m━━━━━━━━━━━━━━━━━━━━\u001b[0m\u001b[37m\u001b[0m \u001b[1m0s\u001b[0m 63ms/step - accuracy: 1.0000 - loss: 0.0081 - val_accuracy: 0.6000 - val_loss: 0.9216\n",
            "Epoch 5/10\n",
            "\u001b[1m3/3\u001b[0m \u001b[32m━━━━━━━━━━━━━━━━━━━━\u001b[0m\u001b[37m\u001b[0m \u001b[1m0s\u001b[0m 62ms/step - accuracy: 1.0000 - loss: 0.0060 - val_accuracy: 0.6000 - val_loss: 0.8630\n",
            "Epoch 6/10\n",
            "\u001b[1m3/3\u001b[0m \u001b[32m━━━━━━━━━━━━━━━━━━━━\u001b[0m\u001b[37m\u001b[0m \u001b[1m0s\u001b[0m 79ms/step - accuracy: 1.0000 - loss: 0.0027 - val_accuracy: 0.8000 - val_loss: 0.8062\n",
            "Epoch 7/10\n",
            "\u001b[1m3/3\u001b[0m \u001b[32m━━━━━━━━━━━━━━━━━━━━\u001b[0m\u001b[37m\u001b[0m \u001b[1m0s\u001b[0m 77ms/step - accuracy: 1.0000 - loss: 0.0041 - val_accuracy: 0.8000 - val_loss: 0.7489\n",
            "Epoch 8/10\n",
            "\u001b[1m3/3\u001b[0m \u001b[32m━━━━━━━━━━━━━━━━━━━━\u001b[0m\u001b[37m\u001b[0m \u001b[1m0s\u001b[0m 50ms/step - accuracy: 1.0000 - loss: 0.0031 - val_accuracy: 0.8000 - val_loss: 0.6903\n",
            "Epoch 9/10\n",
            "\u001b[1m3/3\u001b[0m \u001b[32m━━━━━━━━━━━━━━━━━━━━\u001b[0m\u001b[37m\u001b[0m \u001b[1m0s\u001b[0m 44ms/step - accuracy: 1.0000 - loss: 0.0032 - val_accuracy: 0.8000 - val_loss: 0.6389\n",
            "Epoch 10/10\n",
            "\u001b[1m3/3\u001b[0m \u001b[32m━━━━━━━━━━━━━━━━━━━━\u001b[0m\u001b[37m\u001b[0m \u001b[1m0s\u001b[0m 33ms/step - accuracy: 1.0000 - loss: 0.0018 - val_accuracy: 0.8000 - val_loss: 0.5925\n",
            "Финальная точность (val_accuracy): 0.8000\n",
            "\n",
            "=== Создание модели 4/9 ===\n",
            "Параметры: vocab_size=10000, window_size=2000, step=100\n",
            "Epoch 1/10\n"
          ]
        },
        {
          "output_type": "stream",
          "name": "stderr",
          "text": [
            "/usr/local/lib/python3.11/dist-packages/keras/src/layers/core/dense.py:87: UserWarning: Do not pass an `input_shape`/`input_dim` argument to a layer. When using Sequential models, prefer using an `Input(shape)` object as the first layer in the model instead.\n",
            "  super().__init__(activity_regularizer=activity_regularizer, **kwargs)\n"
          ]
        },
        {
          "output_type": "stream",
          "name": "stdout",
          "text": [
            "\u001b[1m3/3\u001b[0m \u001b[32m━━━━━━━━━━━━━━━━━━━━\u001b[0m\u001b[37m\u001b[0m \u001b[1m2s\u001b[0m 141ms/step - accuracy: 0.4062 - loss: 1.7661 - val_accuracy: 0.6000 - val_loss: 1.1375\n",
            "Epoch 2/10\n",
            "\u001b[1m3/3\u001b[0m \u001b[32m━━━━━━━━━━━━━━━━━━━━\u001b[0m\u001b[37m\u001b[0m \u001b[1m0s\u001b[0m 33ms/step - accuracy: 1.0000 - loss: 0.0883 - val_accuracy: 0.6000 - val_loss: 0.9778\n",
            "Epoch 3/10\n",
            "\u001b[1m3/3\u001b[0m \u001b[32m━━━━━━━━━━━━━━━━━━━━\u001b[0m\u001b[37m\u001b[0m \u001b[1m0s\u001b[0m 41ms/step - accuracy: 1.0000 - loss: 0.0186 - val_accuracy: 0.6000 - val_loss: 0.9152\n",
            "Epoch 4/10\n",
            "\u001b[1m3/3\u001b[0m \u001b[32m━━━━━━━━━━━━━━━━━━━━\u001b[0m\u001b[37m\u001b[0m \u001b[1m0s\u001b[0m 40ms/step - accuracy: 1.0000 - loss: 0.0042 - val_accuracy: 0.6000 - val_loss: 0.8597\n",
            "Epoch 5/10\n",
            "\u001b[1m3/3\u001b[0m \u001b[32m━━━━━━━━━━━━━━━━━━━━\u001b[0m\u001b[37m\u001b[0m \u001b[1m0s\u001b[0m 45ms/step - accuracy: 1.0000 - loss: 0.0054 - val_accuracy: 0.6000 - val_loss: 0.8053\n",
            "Epoch 6/10\n",
            "\u001b[1m3/3\u001b[0m \u001b[32m━━━━━━━━━━━━━━━━━━━━\u001b[0m\u001b[37m\u001b[0m \u001b[1m0s\u001b[0m 48ms/step - accuracy: 1.0000 - loss: 0.0036 - val_accuracy: 0.6000 - val_loss: 0.7544\n",
            "Epoch 7/10\n",
            "\u001b[1m3/3\u001b[0m \u001b[32m━━━━━━━━━━━━━━━━━━━━\u001b[0m\u001b[37m\u001b[0m \u001b[1m0s\u001b[0m 49ms/step - accuracy: 1.0000 - loss: 0.0039 - val_accuracy: 0.6000 - val_loss: 0.7055\n",
            "Epoch 8/10\n",
            "\u001b[1m3/3\u001b[0m \u001b[32m━━━━━━━━━━━━━━━━━━━━\u001b[0m\u001b[37m\u001b[0m \u001b[1m0s\u001b[0m 68ms/step - accuracy: 1.0000 - loss: 0.0019 - val_accuracy: 0.8000 - val_loss: 0.6588\n",
            "Epoch 9/10\n",
            "\u001b[1m3/3\u001b[0m \u001b[32m━━━━━━━━━━━━━━━━━━━━\u001b[0m\u001b[37m\u001b[0m \u001b[1m0s\u001b[0m 44ms/step - accuracy: 1.0000 - loss: 0.0033 - val_accuracy: 0.8000 - val_loss: 0.6146\n",
            "Epoch 10/10\n",
            "\u001b[1m3/3\u001b[0m \u001b[32m━━━━━━━━━━━━━━━━━━━━\u001b[0m\u001b[37m\u001b[0m \u001b[1m0s\u001b[0m 45ms/step - accuracy: 1.0000 - loss: 0.0018 - val_accuracy: 0.8000 - val_loss: 0.5677\n",
            "Финальная точность (val_accuracy): 0.8000\n",
            "\n",
            "=== Создание модели 5/9 ===\n",
            "Параметры: vocab_size=10000, window_size=2000, step=300\n",
            "Epoch 1/10\n"
          ]
        },
        {
          "output_type": "stream",
          "name": "stderr",
          "text": [
            "/usr/local/lib/python3.11/dist-packages/keras/src/layers/core/dense.py:87: UserWarning: Do not pass an `input_shape`/`input_dim` argument to a layer. When using Sequential models, prefer using an `Input(shape)` object as the first layer in the model instead.\n",
            "  super().__init__(activity_regularizer=activity_regularizer, **kwargs)\n"
          ]
        },
        {
          "output_type": "stream",
          "name": "stdout",
          "text": [
            "\u001b[1m3/3\u001b[0m \u001b[32m━━━━━━━━━━━━━━━━━━━━\u001b[0m\u001b[37m\u001b[0m \u001b[1m2s\u001b[0m 135ms/step - accuracy: 0.5391 - loss: 1.3173 - val_accuracy: 0.8000 - val_loss: 0.8961\n",
            "Epoch 2/10\n",
            "\u001b[1m3/3\u001b[0m \u001b[32m━━━━━━━━━━━━━━━━━━━━\u001b[0m\u001b[37m\u001b[0m \u001b[1m0s\u001b[0m 38ms/step - accuracy: 0.9820 - loss: 0.0975 - val_accuracy: 0.8000 - val_loss: 0.6473\n",
            "Epoch 3/10\n",
            "\u001b[1m3/3\u001b[0m \u001b[32m━━━━━━━━━━━━━━━━━━━━\u001b[0m\u001b[37m\u001b[0m \u001b[1m0s\u001b[0m 38ms/step - accuracy: 1.0000 - loss: 0.0194 - val_accuracy: 0.8000 - val_loss: 0.5678\n",
            "Epoch 4/10\n",
            "\u001b[1m3/3\u001b[0m \u001b[32m━━━━━━━━━━━━━━━━━━━━\u001b[0m\u001b[37m\u001b[0m \u001b[1m0s\u001b[0m 34ms/step - accuracy: 1.0000 - loss: 0.0210 - val_accuracy: 0.8000 - val_loss: 0.5285\n",
            "Epoch 5/10\n",
            "\u001b[1m3/3\u001b[0m \u001b[32m━━━━━━━━━━━━━━━━━━━━\u001b[0m\u001b[37m\u001b[0m \u001b[1m0s\u001b[0m 34ms/step - accuracy: 1.0000 - loss: 0.0077 - val_accuracy: 0.8000 - val_loss: 0.4977\n",
            "Epoch 6/10\n",
            "\u001b[1m3/3\u001b[0m \u001b[32m━━━━━━━━━━━━━━━━━━━━\u001b[0m\u001b[37m\u001b[0m \u001b[1m0s\u001b[0m 36ms/step - accuracy: 1.0000 - loss: 0.0035 - val_accuracy: 0.8000 - val_loss: 0.4767\n",
            "Epoch 7/10\n",
            "\u001b[1m3/3\u001b[0m \u001b[32m━━━━━━━━━━━━━━━━━━━━\u001b[0m\u001b[37m\u001b[0m \u001b[1m0s\u001b[0m 37ms/step - accuracy: 1.0000 - loss: 0.0033 - val_accuracy: 0.8000 - val_loss: 0.4582\n",
            "Epoch 8/10\n",
            "\u001b[1m3/3\u001b[0m \u001b[32m━━━━━━━━━━━━━━━━━━━━\u001b[0m\u001b[37m\u001b[0m \u001b[1m0s\u001b[0m 38ms/step - accuracy: 1.0000 - loss: 0.0050 - val_accuracy: 0.8000 - val_loss: 0.4421\n",
            "Epoch 9/10\n",
            "\u001b[1m3/3\u001b[0m \u001b[32m━━━━━━━━━━━━━━━━━━━━\u001b[0m\u001b[37m\u001b[0m \u001b[1m0s\u001b[0m 34ms/step - accuracy: 1.0000 - loss: 0.0040 - val_accuracy: 0.8000 - val_loss: 0.4249\n",
            "Epoch 10/10\n",
            "\u001b[1m3/3\u001b[0m \u001b[32m━━━━━━━━━━━━━━━━━━━━\u001b[0m\u001b[37m\u001b[0m \u001b[1m0s\u001b[0m 64ms/step - accuracy: 1.0000 - loss: 0.0042 - val_accuracy: 0.8000 - val_loss: 0.4034\n",
            "Финальная точность (val_accuracy): 0.8000\n",
            "\n",
            "=== Создание модели 6/9 ===\n",
            "Параметры: vocab_size=10000, window_size=2000, step=500\n",
            "Epoch 1/10\n"
          ]
        },
        {
          "output_type": "stream",
          "name": "stderr",
          "text": [
            "/usr/local/lib/python3.11/dist-packages/keras/src/layers/core/dense.py:87: UserWarning: Do not pass an `input_shape`/`input_dim` argument to a layer. When using Sequential models, prefer using an `Input(shape)` object as the first layer in the model instead.\n",
            "  super().__init__(activity_regularizer=activity_regularizer, **kwargs)\n"
          ]
        },
        {
          "output_type": "stream",
          "name": "stdout",
          "text": [
            "\u001b[1m3/3\u001b[0m \u001b[32m━━━━━━━━━━━━━━━━━━━━\u001b[0m\u001b[37m\u001b[0m \u001b[1m3s\u001b[0m 187ms/step - accuracy: 0.3336 - loss: 1.6805 - val_accuracy: 0.6000 - val_loss: 0.9346\n",
            "Epoch 2/10\n",
            "\u001b[1m3/3\u001b[0m \u001b[32m━━━━━━━━━━━━━━━━━━━━\u001b[0m\u001b[37m\u001b[0m \u001b[1m0s\u001b[0m 37ms/step - accuracy: 0.9820 - loss: 0.1083 - val_accuracy: 0.8000 - val_loss: 0.6784\n",
            "Epoch 3/10\n",
            "\u001b[1m3/3\u001b[0m \u001b[32m━━━━━━━━━━━━━━━━━━━━\u001b[0m\u001b[37m\u001b[0m \u001b[1m0s\u001b[0m 35ms/step - accuracy: 1.0000 - loss: 0.0195 - val_accuracy: 0.8000 - val_loss: 0.5876\n",
            "Epoch 4/10\n",
            "\u001b[1m3/3\u001b[0m \u001b[32m━━━━━━━━━━━━━━━━━━━━\u001b[0m\u001b[37m\u001b[0m \u001b[1m0s\u001b[0m 32ms/step - accuracy: 1.0000 - loss: 0.0103 - val_accuracy: 0.8000 - val_loss: 0.5456\n",
            "Epoch 5/10\n",
            "\u001b[1m3/3\u001b[0m \u001b[32m━━━━━━━━━━━━━━━━━━━━\u001b[0m\u001b[37m\u001b[0m \u001b[1m0s\u001b[0m 34ms/step - accuracy: 1.0000 - loss: 0.0083 - val_accuracy: 0.8000 - val_loss: 0.5223\n",
            "Epoch 6/10\n",
            "\u001b[1m3/3\u001b[0m \u001b[32m━━━━━━━━━━━━━━━━━━━━\u001b[0m\u001b[37m\u001b[0m \u001b[1m0s\u001b[0m 34ms/step - accuracy: 1.0000 - loss: 0.0052 - val_accuracy: 0.8000 - val_loss: 0.5067\n",
            "Epoch 7/10\n",
            "\u001b[1m3/3\u001b[0m \u001b[32m━━━━━━━━━━━━━━━━━━━━\u001b[0m\u001b[37m\u001b[0m \u001b[1m0s\u001b[0m 35ms/step - accuracy: 1.0000 - loss: 0.0091 - val_accuracy: 0.8000 - val_loss: 0.4936\n",
            "Epoch 8/10\n",
            "\u001b[1m3/3\u001b[0m \u001b[32m━━━━━━━━━━━━━━━━━━━━\u001b[0m\u001b[37m\u001b[0m \u001b[1m0s\u001b[0m 35ms/step - accuracy: 1.0000 - loss: 0.0036 - val_accuracy: 0.8000 - val_loss: 0.4809\n",
            "Epoch 9/10\n",
            "\u001b[1m3/3\u001b[0m \u001b[32m━━━━━━━━━━━━━━━━━━━━\u001b[0m\u001b[37m\u001b[0m \u001b[1m0s\u001b[0m 36ms/step - accuracy: 1.0000 - loss: 0.0033 - val_accuracy: 0.8000 - val_loss: 0.4685\n",
            "Epoch 10/10\n",
            "\u001b[1m3/3\u001b[0m \u001b[32m━━━━━━━━━━━━━━━━━━━━\u001b[0m\u001b[37m\u001b[0m \u001b[1m0s\u001b[0m 35ms/step - accuracy: 1.0000 - loss: 0.0031 - val_accuracy: 0.8000 - val_loss: 0.4587\n",
            "Финальная точность (val_accuracy): 0.8000\n",
            "\n",
            "=== Создание модели 7/9 ===\n",
            "Параметры: vocab_size=10000, window_size=3000, step=100\n",
            "Epoch 1/10\n"
          ]
        },
        {
          "output_type": "stream",
          "name": "stderr",
          "text": [
            "/usr/local/lib/python3.11/dist-packages/keras/src/layers/core/dense.py:87: UserWarning: Do not pass an `input_shape`/`input_dim` argument to a layer. When using Sequential models, prefer using an `Input(shape)` object as the first layer in the model instead.\n",
            "  super().__init__(activity_regularizer=activity_regularizer, **kwargs)\n"
          ]
        },
        {
          "output_type": "stream",
          "name": "stdout",
          "text": [
            "\u001b[1m3/3\u001b[0m \u001b[32m━━━━━━━━━━━━━━━━━━━━\u001b[0m\u001b[37m\u001b[0m \u001b[1m2s\u001b[0m 150ms/step - accuracy: 0.4773 - loss: 1.5087 - val_accuracy: 0.6000 - val_loss: 1.0658\n",
            "Epoch 2/10\n",
            "\u001b[1m3/3\u001b[0m \u001b[32m━━━━━━━━━━━━━━━━━━━━\u001b[0m\u001b[37m\u001b[0m \u001b[1m0s\u001b[0m 69ms/step - accuracy: 1.0000 - loss: 0.0685 - val_accuracy: 0.6000 - val_loss: 0.8496\n",
            "Epoch 3/10\n",
            "\u001b[1m3/3\u001b[0m \u001b[32m━━━━━━━━━━━━━━━━━━━━\u001b[0m\u001b[37m\u001b[0m \u001b[1m0s\u001b[0m 40ms/step - accuracy: 1.0000 - loss: 0.0164 - val_accuracy: 0.6000 - val_loss: 0.7830\n",
            "Epoch 4/10\n",
            "\u001b[1m3/3\u001b[0m \u001b[32m━━━━━━━━━━━━━━━━━━━━\u001b[0m\u001b[37m\u001b[0m \u001b[1m0s\u001b[0m 40ms/step - accuracy: 1.0000 - loss: 0.0086 - val_accuracy: 0.6000 - val_loss: 0.7459\n",
            "Epoch 5/10\n",
            "\u001b[1m3/3\u001b[0m \u001b[32m━━━━━━━━━━━━━━━━━━━━\u001b[0m\u001b[37m\u001b[0m \u001b[1m0s\u001b[0m 39ms/step - accuracy: 1.0000 - loss: 0.0077 - val_accuracy: 0.6000 - val_loss: 0.7094\n",
            "Epoch 6/10\n",
            "\u001b[1m3/3\u001b[0m \u001b[32m━━━━━━━━━━━━━━━━━━━━\u001b[0m\u001b[37m\u001b[0m \u001b[1m0s\u001b[0m 37ms/step - accuracy: 1.0000 - loss: 0.0092 - val_accuracy: 0.8000 - val_loss: 0.6713\n",
            "Epoch 7/10\n",
            "\u001b[1m3/3\u001b[0m \u001b[32m━━━━━━━━━━━━━━━━━━━━\u001b[0m\u001b[37m\u001b[0m \u001b[1m0s\u001b[0m 40ms/step - accuracy: 1.0000 - loss: 0.0051 - val_accuracy: 0.8000 - val_loss: 0.6286\n",
            "Epoch 8/10\n",
            "\u001b[1m3/3\u001b[0m \u001b[32m━━━━━━━━━━━━━━━━━━━━\u001b[0m\u001b[37m\u001b[0m \u001b[1m0s\u001b[0m 38ms/step - accuracy: 1.0000 - loss: 0.0021 - val_accuracy: 0.8000 - val_loss: 0.5843\n",
            "Epoch 9/10\n",
            "\u001b[1m3/3\u001b[0m \u001b[32m━━━━━━━━━━━━━━━━━━━━\u001b[0m\u001b[37m\u001b[0m \u001b[1m0s\u001b[0m 41ms/step - accuracy: 1.0000 - loss: 0.0029 - val_accuracy: 0.8000 - val_loss: 0.5400\n",
            "Epoch 10/10\n",
            "\u001b[1m3/3\u001b[0m \u001b[32m━━━━━━━━━━━━━━━━━━━━\u001b[0m\u001b[37m\u001b[0m \u001b[1m0s\u001b[0m 47ms/step - accuracy: 1.0000 - loss: 0.0068 - val_accuracy: 0.8000 - val_loss: 0.4914\n",
            "Финальная точность (val_accuracy): 0.8000\n",
            "\n",
            "=== Создание модели 8/9 ===\n",
            "Параметры: vocab_size=10000, window_size=3000, step=300\n",
            "Epoch 1/10\n"
          ]
        },
        {
          "output_type": "stream",
          "name": "stderr",
          "text": [
            "/usr/local/lib/python3.11/dist-packages/keras/src/layers/core/dense.py:87: UserWarning: Do not pass an `input_shape`/`input_dim` argument to a layer. When using Sequential models, prefer using an `Input(shape)` object as the first layer in the model instead.\n",
            "  super().__init__(activity_regularizer=activity_regularizer, **kwargs)\n"
          ]
        },
        {
          "output_type": "stream",
          "name": "stdout",
          "text": [
            "\u001b[1m3/3\u001b[0m \u001b[32m━━━━━━━━━━━━━━━━━━━━\u001b[0m\u001b[37m\u001b[0m \u001b[1m3s\u001b[0m 164ms/step - accuracy: 0.4359 - loss: 1.4218 - val_accuracy: 0.4000 - val_loss: 1.2118\n",
            "Epoch 2/10\n",
            "\u001b[1m3/3\u001b[0m \u001b[32m━━━━━━━━━━━━━━━━━━━━\u001b[0m\u001b[37m\u001b[0m \u001b[1m0s\u001b[0m 40ms/step - accuracy: 0.9898 - loss: 0.0909 - val_accuracy: 0.4000 - val_loss: 1.0258\n",
            "Epoch 3/10\n",
            "\u001b[1m3/3\u001b[0m \u001b[32m━━━━━━━━━━━━━━━━━━━━\u001b[0m\u001b[37m\u001b[0m \u001b[1m0s\u001b[0m 51ms/step - accuracy: 1.0000 - loss: 0.0277 - val_accuracy: 0.4000 - val_loss: 0.9298\n",
            "Epoch 4/10\n",
            "\u001b[1m3/3\u001b[0m \u001b[32m━━━━━━━━━━━━━━━━━━━━\u001b[0m\u001b[37m\u001b[0m \u001b[1m0s\u001b[0m 48ms/step - accuracy: 1.0000 - loss: 0.0098 - val_accuracy: 0.6000 - val_loss: 0.8496\n",
            "Epoch 5/10\n",
            "\u001b[1m3/3\u001b[0m \u001b[32m━━━━━━━━━━━━━━━━━━━━\u001b[0m\u001b[37m\u001b[0m \u001b[1m0s\u001b[0m 77ms/step - accuracy: 1.0000 - loss: 0.0044 - val_accuracy: 0.8000 - val_loss: 0.7768\n",
            "Epoch 6/10\n",
            "\u001b[1m3/3\u001b[0m \u001b[32m━━━━━━━━━━━━━━━━━━━━\u001b[0m\u001b[37m\u001b[0m \u001b[1m0s\u001b[0m 75ms/step - accuracy: 1.0000 - loss: 0.0052 - val_accuracy: 0.8000 - val_loss: 0.7180\n",
            "Epoch 7/10\n",
            "\u001b[1m3/3\u001b[0m \u001b[32m━━━━━━━━━━━━━━━━━━━━\u001b[0m\u001b[37m\u001b[0m \u001b[1m0s\u001b[0m 85ms/step - accuracy: 1.0000 - loss: 0.0079 - val_accuracy: 0.8000 - val_loss: 0.6636\n",
            "Epoch 8/10\n",
            "\u001b[1m3/3\u001b[0m \u001b[32m━━━━━━━━━━━━━━━━━━━━\u001b[0m\u001b[37m\u001b[0m \u001b[1m0s\u001b[0m 59ms/step - accuracy: 1.0000 - loss: 0.0020 - val_accuracy: 0.8000 - val_loss: 0.6178\n",
            "Epoch 9/10\n",
            "\u001b[1m3/3\u001b[0m \u001b[32m━━━━━━━━━━━━━━━━━━━━\u001b[0m\u001b[37m\u001b[0m \u001b[1m0s\u001b[0m 76ms/step - accuracy: 1.0000 - loss: 0.0030 - val_accuracy: 0.8000 - val_loss: 0.5773\n",
            "Epoch 10/10\n",
            "\u001b[1m3/3\u001b[0m \u001b[32m━━━━━━━━━━━━━━━━━━━━\u001b[0m\u001b[37m\u001b[0m \u001b[1m0s\u001b[0m 59ms/step - accuracy: 1.0000 - loss: 0.0014 - val_accuracy: 0.8000 - val_loss: 0.5393\n",
            "Финальная точность (val_accuracy): 0.8000\n",
            "\n",
            "=== Создание модели 9/9 ===\n",
            "Параметры: vocab_size=10000, window_size=3000, step=500\n",
            "Epoch 1/10\n"
          ]
        },
        {
          "output_type": "stream",
          "name": "stderr",
          "text": [
            "/usr/local/lib/python3.11/dist-packages/keras/src/layers/core/dense.py:87: UserWarning: Do not pass an `input_shape`/`input_dim` argument to a layer. When using Sequential models, prefer using an `Input(shape)` object as the first layer in the model instead.\n",
            "  super().__init__(activity_regularizer=activity_regularizer, **kwargs)\n"
          ]
        },
        {
          "output_type": "stream",
          "name": "stdout",
          "text": [
            "\u001b[1m3/3\u001b[0m \u001b[32m━━━━━━━━━━━━━━━━━━━━\u001b[0m\u001b[37m\u001b[0m \u001b[1m2s\u001b[0m 171ms/step - accuracy: 0.4219 - loss: 1.8635 - val_accuracy: 0.4000 - val_loss: 1.1581\n",
            "Epoch 2/10\n",
            "\u001b[1m3/3\u001b[0m \u001b[32m━━━━━━━━━━━━━━━━━━━━\u001b[0m\u001b[37m\u001b[0m \u001b[1m0s\u001b[0m 36ms/step - accuracy: 0.9797 - loss: 0.1065 - val_accuracy: 0.6000 - val_loss: 0.8900\n",
            "Epoch 3/10\n",
            "\u001b[1m3/3\u001b[0m \u001b[32m━━━━━━━━━━━━━━━━━━━━\u001b[0m\u001b[37m\u001b[0m \u001b[1m0s\u001b[0m 41ms/step - accuracy: 1.0000 - loss: 0.0349 - val_accuracy: 0.6000 - val_loss: 0.7798\n",
            "Epoch 4/10\n",
            "\u001b[1m3/3\u001b[0m \u001b[32m━━━━━━━━━━━━━━━━━━━━\u001b[0m\u001b[37m\u001b[0m \u001b[1m0s\u001b[0m 37ms/step - accuracy: 1.0000 - loss: 0.0197 - val_accuracy: 0.6000 - val_loss: 0.7271\n",
            "Epoch 5/10\n",
            "\u001b[1m3/3\u001b[0m \u001b[32m━━━━━━━━━━━━━━━━━━━━\u001b[0m\u001b[37m\u001b[0m \u001b[1m0s\u001b[0m 38ms/step - accuracy: 1.0000 - loss: 0.0138 - val_accuracy: 0.8000 - val_loss: 0.6889\n",
            "Epoch 6/10\n",
            "\u001b[1m3/3\u001b[0m \u001b[32m━━━━━━━━━━━━━━━━━━━━\u001b[0m\u001b[37m\u001b[0m \u001b[1m0s\u001b[0m 39ms/step - accuracy: 1.0000 - loss: 0.0042 - val_accuracy: 0.8000 - val_loss: 0.6556\n",
            "Epoch 7/10\n",
            "\u001b[1m3/3\u001b[0m \u001b[32m━━━━━━━━━━━━━━━━━━━━\u001b[0m\u001b[37m\u001b[0m \u001b[1m0s\u001b[0m 41ms/step - accuracy: 1.0000 - loss: 0.0070 - val_accuracy: 0.8000 - val_loss: 0.6238\n",
            "Epoch 8/10\n",
            "\u001b[1m3/3\u001b[0m \u001b[32m━━━━━━━━━━━━━━━━━━━━\u001b[0m\u001b[37m\u001b[0m \u001b[1m0s\u001b[0m 48ms/step - accuracy: 1.0000 - loss: 0.0035 - val_accuracy: 0.8000 - val_loss: 0.5970\n",
            "Epoch 9/10\n",
            "\u001b[1m3/3\u001b[0m \u001b[32m━━━━━━━━━━━━━━━━━━━━\u001b[0m\u001b[37m\u001b[0m \u001b[1m0s\u001b[0m 44ms/step - accuracy: 1.0000 - loss: 0.0023 - val_accuracy: 0.8000 - val_loss: 0.5709\n",
            "Epoch 10/10\n",
            "\u001b[1m3/3\u001b[0m \u001b[32m━━━━━━━━━━━━━━━━━━━━\u001b[0m\u001b[37m\u001b[0m \u001b[1m0s\u001b[0m 42ms/step - accuracy: 1.0000 - loss: 0.0034 - val_accuracy: 0.8000 - val_loss: 0.5472\n",
            "Финальная точность (val_accuracy): 0.8000\n",
            "\n",
            "=== Создание модели 10/9 ===\n",
            "Параметры: vocab_size=15000, window_size=1000, step=100\n",
            "Epoch 1/10\n"
          ]
        },
        {
          "output_type": "stream",
          "name": "stderr",
          "text": [
            "/usr/local/lib/python3.11/dist-packages/keras/src/layers/core/dense.py:87: UserWarning: Do not pass an `input_shape`/`input_dim` argument to a layer. When using Sequential models, prefer using an `Input(shape)` object as the first layer in the model instead.\n",
            "  super().__init__(activity_regularizer=activity_regularizer, **kwargs)\n"
          ]
        },
        {
          "output_type": "stream",
          "name": "stdout",
          "text": [
            "\u001b[1m3/3\u001b[0m \u001b[32m━━━━━━━━━━━━━━━━━━━━\u001b[0m\u001b[37m\u001b[0m \u001b[1m3s\u001b[0m 162ms/step - accuracy: 0.5188 - loss: 1.4023 - val_accuracy: 0.4000 - val_loss: 1.0526\n",
            "Epoch 2/10\n",
            "\u001b[1m3/3\u001b[0m \u001b[32m━━━━━━━━━━━━━━━━━━━━\u001b[0m\u001b[37m\u001b[0m \u001b[1m0s\u001b[0m 62ms/step - accuracy: 1.0000 - loss: 0.0936 - val_accuracy: 0.6000 - val_loss: 0.9080\n",
            "Epoch 3/10\n",
            "\u001b[1m3/3\u001b[0m \u001b[32m━━━━━━━━━━━━━━━━━━━━\u001b[0m\u001b[37m\u001b[0m \u001b[1m0s\u001b[0m 45ms/step - accuracy: 1.0000 - loss: 0.0272 - val_accuracy: 0.6000 - val_loss: 0.8420\n",
            "Epoch 4/10\n",
            "\u001b[1m3/3\u001b[0m \u001b[32m━━━━━━━━━━━━━━━━━━━━\u001b[0m\u001b[37m\u001b[0m \u001b[1m0s\u001b[0m 35ms/step - accuracy: 1.0000 - loss: 0.0109 - val_accuracy: 0.8000 - val_loss: 0.8024\n",
            "Epoch 5/10\n",
            "\u001b[1m3/3\u001b[0m \u001b[32m━━━━━━━━━━━━━━━━━━━━\u001b[0m\u001b[37m\u001b[0m \u001b[1m0s\u001b[0m 42ms/step - accuracy: 1.0000 - loss: 0.0046 - val_accuracy: 0.8000 - val_loss: 0.7603\n",
            "Epoch 6/10\n",
            "\u001b[1m3/3\u001b[0m \u001b[32m━━━━━━━━━━━━━━━━━━━━\u001b[0m\u001b[37m\u001b[0m \u001b[1m0s\u001b[0m 36ms/step - accuracy: 1.0000 - loss: 0.0041 - val_accuracy: 0.8000 - val_loss: 0.7231\n",
            "Epoch 7/10\n",
            "\u001b[1m3/3\u001b[0m \u001b[32m━━━━━━━━━━━━━━━━━━━━\u001b[0m\u001b[37m\u001b[0m \u001b[1m0s\u001b[0m 39ms/step - accuracy: 1.0000 - loss: 0.0027 - val_accuracy: 0.8000 - val_loss: 0.6825\n",
            "Epoch 8/10\n",
            "\u001b[1m3/3\u001b[0m \u001b[32m━━━━━━━━━━━━━━━━━━━━\u001b[0m\u001b[37m\u001b[0m \u001b[1m0s\u001b[0m 59ms/step - accuracy: 1.0000 - loss: 0.0040 - val_accuracy: 0.8000 - val_loss: 0.6389\n",
            "Epoch 9/10\n",
            "\u001b[1m3/3\u001b[0m \u001b[32m━━━━━━━━━━━━━━━━━━━━\u001b[0m\u001b[37m\u001b[0m \u001b[1m0s\u001b[0m 44ms/step - accuracy: 1.0000 - loss: 0.0018 - val_accuracy: 0.8000 - val_loss: 0.5985\n",
            "Epoch 10/10\n",
            "\u001b[1m3/3\u001b[0m \u001b[32m━━━━━━━━━━━━━━━━━━━━\u001b[0m\u001b[37m\u001b[0m \u001b[1m0s\u001b[0m 39ms/step - accuracy: 1.0000 - loss: 0.0018 - val_accuracy: 0.8000 - val_loss: 0.5581\n",
            "Финальная точность (val_accuracy): 0.8000\n",
            "\n",
            "=== Создание модели 11/9 ===\n",
            "Параметры: vocab_size=15000, window_size=1000, step=300\n",
            "Epoch 1/10\n"
          ]
        },
        {
          "output_type": "stream",
          "name": "stderr",
          "text": [
            "/usr/local/lib/python3.11/dist-packages/keras/src/layers/core/dense.py:87: UserWarning: Do not pass an `input_shape`/`input_dim` argument to a layer. When using Sequential models, prefer using an `Input(shape)` object as the first layer in the model instead.\n",
            "  super().__init__(activity_regularizer=activity_regularizer, **kwargs)\n"
          ]
        },
        {
          "output_type": "stream",
          "name": "stdout",
          "text": [
            "\u001b[1m3/3\u001b[0m \u001b[32m━━━━━━━━━━━━━━━━━━━━\u001b[0m\u001b[37m\u001b[0m \u001b[1m3s\u001b[0m 246ms/step - accuracy: 0.3805 - loss: 1.8946 - val_accuracy: 0.4000 - val_loss: 1.2481\n",
            "Epoch 2/10\n",
            "\u001b[1m3/3\u001b[0m \u001b[32m━━━━━━━━━━━━━━━━━━━━\u001b[0m\u001b[37m\u001b[0m \u001b[1m0s\u001b[0m 59ms/step - accuracy: 0.9937 - loss: 0.1351 - val_accuracy: 0.6000 - val_loss: 0.9884\n",
            "Epoch 3/10\n",
            "\u001b[1m3/3\u001b[0m \u001b[32m━━━━━━━━━━━━━━━━━━━━\u001b[0m\u001b[37m\u001b[0m \u001b[1m0s\u001b[0m 64ms/step - accuracy: 1.0000 - loss: 0.0281 - val_accuracy: 0.6000 - val_loss: 0.8807\n",
            "Epoch 4/10\n",
            "\u001b[1m3/3\u001b[0m \u001b[32m━━━━━━━━━━━━━━━━━━━━\u001b[0m\u001b[37m\u001b[0m \u001b[1m0s\u001b[0m 45ms/step - accuracy: 1.0000 - loss: 0.0113 - val_accuracy: 0.6000 - val_loss: 0.8170\n",
            "Epoch 5/10\n",
            "\u001b[1m3/3\u001b[0m \u001b[32m━━━━━━━━━━━━━━━━━━━━\u001b[0m\u001b[37m\u001b[0m \u001b[1m0s\u001b[0m 42ms/step - accuracy: 1.0000 - loss: 0.0099 - val_accuracy: 0.6000 - val_loss: 0.7749\n",
            "Epoch 6/10\n",
            "\u001b[1m3/3\u001b[0m \u001b[32m━━━━━━━━━━━━━━━━━━━━\u001b[0m\u001b[37m\u001b[0m \u001b[1m0s\u001b[0m 47ms/step - accuracy: 1.0000 - loss: 0.0053 - val_accuracy: 0.6000 - val_loss: 0.7369\n",
            "Epoch 7/10\n",
            "\u001b[1m3/3\u001b[0m \u001b[32m━━━━━━━━━━━━━━━━━━━━\u001b[0m\u001b[37m\u001b[0m \u001b[1m0s\u001b[0m 55ms/step - accuracy: 1.0000 - loss: 0.0030 - val_accuracy: 0.8000 - val_loss: 0.6991\n",
            "Epoch 8/10\n",
            "\u001b[1m3/3\u001b[0m \u001b[32m━━━━━━━━━━━━━━━━━━━━\u001b[0m\u001b[37m\u001b[0m \u001b[1m0s\u001b[0m 45ms/step - accuracy: 1.0000 - loss: 0.0045 - val_accuracy: 0.8000 - val_loss: 0.6639\n",
            "Epoch 9/10\n",
            "\u001b[1m3/3\u001b[0m \u001b[32m━━━━━━━━━━━━━━━━━━━━\u001b[0m\u001b[37m\u001b[0m \u001b[1m0s\u001b[0m 53ms/step - accuracy: 1.0000 - loss: 0.0041 - val_accuracy: 0.8000 - val_loss: 0.6267\n",
            "Epoch 10/10\n",
            "\u001b[1m3/3\u001b[0m \u001b[32m━━━━━━━━━━━━━━━━━━━━\u001b[0m\u001b[37m\u001b[0m \u001b[1m0s\u001b[0m 47ms/step - accuracy: 1.0000 - loss: 0.0039 - val_accuracy: 0.8000 - val_loss: 0.5882\n",
            "Финальная точность (val_accuracy): 0.8000\n",
            "\n",
            "=== Создание модели 12/9 ===\n",
            "Параметры: vocab_size=15000, window_size=1000, step=500\n",
            "Epoch 1/10\n"
          ]
        },
        {
          "output_type": "stream",
          "name": "stderr",
          "text": [
            "/usr/local/lib/python3.11/dist-packages/keras/src/layers/core/dense.py:87: UserWarning: Do not pass an `input_shape`/`input_dim` argument to a layer. When using Sequential models, prefer using an `Input(shape)` object as the first layer in the model instead.\n",
            "  super().__init__(activity_regularizer=activity_regularizer, **kwargs)\n"
          ]
        },
        {
          "output_type": "stream",
          "name": "stdout",
          "text": [
            "\u001b[1m3/3\u001b[0m \u001b[32m━━━━━━━━━━━━━━━━━━━━\u001b[0m\u001b[37m\u001b[0m \u001b[1m3s\u001b[0m 178ms/step - accuracy: 0.4750 - loss: 1.4130 - val_accuracy: 0.4000 - val_loss: 1.5559\n",
            "Epoch 2/10\n",
            "\u001b[1m3/3\u001b[0m \u001b[32m━━━━━━━━━━━━━━━━━━━━\u001b[0m\u001b[37m\u001b[0m \u001b[1m0s\u001b[0m 41ms/step - accuracy: 1.0000 - loss: 0.0865 - val_accuracy: 0.4000 - val_loss: 1.3149\n",
            "Epoch 3/10\n",
            "\u001b[1m3/3\u001b[0m \u001b[32m━━━━━━━━━━━━━━━━━━━━\u001b[0m\u001b[37m\u001b[0m \u001b[1m0s\u001b[0m 41ms/step - accuracy: 1.0000 - loss: 0.0181 - val_accuracy: 0.6000 - val_loss: 1.1590\n",
            "Epoch 4/10\n",
            "\u001b[1m3/3\u001b[0m \u001b[32m━━━━━━━━━━━━━━━━━━━━\u001b[0m\u001b[37m\u001b[0m \u001b[1m0s\u001b[0m 43ms/step - accuracy: 1.0000 - loss: 0.0102 - val_accuracy: 0.6000 - val_loss: 1.0310\n",
            "Epoch 5/10\n",
            "\u001b[1m3/3\u001b[0m \u001b[32m━━━━━━━━━━━━━━━━━━━━\u001b[0m\u001b[37m\u001b[0m \u001b[1m0s\u001b[0m 62ms/step - accuracy: 1.0000 - loss: 0.0048 - val_accuracy: 0.6000 - val_loss: 0.9072\n",
            "Epoch 6/10\n",
            "\u001b[1m3/3\u001b[0m \u001b[32m━━━━━━━━━━━━━━━━━━━━\u001b[0m\u001b[37m\u001b[0m \u001b[1m0s\u001b[0m 64ms/step - accuracy: 1.0000 - loss: 0.0048 - val_accuracy: 0.6000 - val_loss: 0.8017\n",
            "Epoch 7/10\n",
            "\u001b[1m3/3\u001b[0m \u001b[32m━━━━━━━━━━━━━━━━━━━━\u001b[0m\u001b[37m\u001b[0m \u001b[1m0s\u001b[0m 34ms/step - accuracy: 1.0000 - loss: 0.0018 - val_accuracy: 0.6000 - val_loss: 0.7086\n",
            "Epoch 8/10\n",
            "\u001b[1m3/3\u001b[0m \u001b[32m━━━━━━━━━━━━━━━━━━━━\u001b[0m\u001b[37m\u001b[0m \u001b[1m0s\u001b[0m 34ms/step - accuracy: 1.0000 - loss: 0.0033 - val_accuracy: 0.6000 - val_loss: 0.6262\n",
            "Epoch 9/10\n",
            "\u001b[1m3/3\u001b[0m \u001b[32m━━━━━━━━━━━━━━━━━━━━\u001b[0m\u001b[37m\u001b[0m \u001b[1m0s\u001b[0m 39ms/step - accuracy: 1.0000 - loss: 0.0038 - val_accuracy: 0.6000 - val_loss: 0.5479\n",
            "Epoch 10/10\n",
            "\u001b[1m3/3\u001b[0m \u001b[32m━━━━━━━━━━━━━━━━━━━━\u001b[0m\u001b[37m\u001b[0m \u001b[1m0s\u001b[0m 40ms/step - accuracy: 1.0000 - loss: 0.0027 - val_accuracy: 0.8000 - val_loss: 0.4772\n",
            "Финальная точность (val_accuracy): 0.8000\n",
            "\n",
            "=== Создание модели 13/9 ===\n",
            "Параметры: vocab_size=15000, window_size=2000, step=100\n",
            "Epoch 1/10\n"
          ]
        },
        {
          "output_type": "stream",
          "name": "stderr",
          "text": [
            "/usr/local/lib/python3.11/dist-packages/keras/src/layers/core/dense.py:87: UserWarning: Do not pass an `input_shape`/`input_dim` argument to a layer. When using Sequential models, prefer using an `Input(shape)` object as the first layer in the model instead.\n",
            "  super().__init__(activity_regularizer=activity_regularizer, **kwargs)\n"
          ]
        },
        {
          "output_type": "stream",
          "name": "stdout",
          "text": [
            "\u001b[1m3/3\u001b[0m \u001b[32m━━━━━━━━━━━━━━━━━━━━\u001b[0m\u001b[37m\u001b[0m \u001b[1m3s\u001b[0m 189ms/step - accuracy: 0.3383 - loss: 1.8347 - val_accuracy: 0.2000 - val_loss: 1.3815\n",
            "Epoch 2/10\n",
            "\u001b[1m3/3\u001b[0m \u001b[32m━━━━━━━━━━━━━━━━━━━━\u001b[0m\u001b[37m\u001b[0m \u001b[1m0s\u001b[0m 52ms/step - accuracy: 0.9398 - loss: 0.1516 - val_accuracy: 0.4000 - val_loss: 1.0362\n",
            "Epoch 3/10\n",
            "\u001b[1m3/3\u001b[0m \u001b[32m━━━━━━━━━━━━━━━━━━━━\u001b[0m\u001b[37m\u001b[0m \u001b[1m0s\u001b[0m 90ms/step - accuracy: 1.0000 - loss: 0.0238 - val_accuracy: 0.4000 - val_loss: 0.8638\n",
            "Epoch 4/10\n",
            "\u001b[1m3/3\u001b[0m \u001b[32m━━━━━━━━━━━━━━━━━━━━\u001b[0m\u001b[37m\u001b[0m \u001b[1m0s\u001b[0m 72ms/step - accuracy: 1.0000 - loss: 0.0075 - val_accuracy: 0.6000 - val_loss: 0.7696\n",
            "Epoch 5/10\n",
            "\u001b[1m3/3\u001b[0m \u001b[32m━━━━━━━━━━━━━━━━━━━━\u001b[0m\u001b[37m\u001b[0m \u001b[1m0s\u001b[0m 84ms/step - accuracy: 1.0000 - loss: 0.0064 - val_accuracy: 0.8000 - val_loss: 0.7120\n",
            "Epoch 6/10\n",
            "\u001b[1m3/3\u001b[0m \u001b[32m━━━━━━━━━━━━━━━━━━━━\u001b[0m\u001b[37m\u001b[0m \u001b[1m0s\u001b[0m 54ms/step - accuracy: 1.0000 - loss: 0.0032 - val_accuracy: 0.8000 - val_loss: 0.6704\n",
            "Epoch 7/10\n",
            "\u001b[1m3/3\u001b[0m \u001b[32m━━━━━━━━━━━━━━━━━━━━\u001b[0m\u001b[37m\u001b[0m \u001b[1m0s\u001b[0m 62ms/step - accuracy: 1.0000 - loss: 0.0030 - val_accuracy: 0.8000 - val_loss: 0.6382\n",
            "Epoch 8/10\n",
            "\u001b[1m3/3\u001b[0m \u001b[32m━━━━━━━━━━━━━━━━━━━━\u001b[0m\u001b[37m\u001b[0m \u001b[1m0s\u001b[0m 91ms/step - accuracy: 1.0000 - loss: 0.0072 - val_accuracy: 0.8000 - val_loss: 0.6076\n",
            "Epoch 9/10\n",
            "\u001b[1m3/3\u001b[0m \u001b[32m━━━━━━━━━━━━━━━━━━━━\u001b[0m\u001b[37m\u001b[0m \u001b[1m0s\u001b[0m 73ms/step - accuracy: 1.0000 - loss: 0.0033 - val_accuracy: 0.8000 - val_loss: 0.5817\n",
            "Epoch 10/10\n",
            "\u001b[1m3/3\u001b[0m \u001b[32m━━━━━━━━━━━━━━━━━━━━\u001b[0m\u001b[37m\u001b[0m \u001b[1m0s\u001b[0m 57ms/step - accuracy: 1.0000 - loss: 0.0025 - val_accuracy: 0.8000 - val_loss: 0.5596\n",
            "Финальная точность (val_accuracy): 0.8000\n",
            "\n",
            "=== Создание модели 14/9 ===\n",
            "Параметры: vocab_size=15000, window_size=2000, step=300\n",
            "Epoch 1/10\n"
          ]
        },
        {
          "output_type": "stream",
          "name": "stderr",
          "text": [
            "/usr/local/lib/python3.11/dist-packages/keras/src/layers/core/dense.py:87: UserWarning: Do not pass an `input_shape`/`input_dim` argument to a layer. When using Sequential models, prefer using an `Input(shape)` object as the first layer in the model instead.\n",
            "  super().__init__(activity_regularizer=activity_regularizer, **kwargs)\n"
          ]
        },
        {
          "output_type": "stream",
          "name": "stdout",
          "text": [
            "\u001b[1m3/3\u001b[0m \u001b[32m━━━━━━━━━━━━━━━━━━━━\u001b[0m\u001b[37m\u001b[0m \u001b[1m4s\u001b[0m 272ms/step - accuracy: 0.2609 - loss: 2.2565 - val_accuracy: 0.8000 - val_loss: 0.8617\n",
            "Epoch 2/10\n",
            "\u001b[1m3/3\u001b[0m \u001b[32m━━━━━━━━━━━━━━━━━━━━\u001b[0m\u001b[37m\u001b[0m \u001b[1m0s\u001b[0m 78ms/step - accuracy: 1.0000 - loss: 0.1033 - val_accuracy: 0.8000 - val_loss: 0.5957\n",
            "Epoch 3/10\n",
            "\u001b[1m3/3\u001b[0m \u001b[32m━━━━━━━━━━━━━━━━━━━━\u001b[0m\u001b[37m\u001b[0m \u001b[1m0s\u001b[0m 85ms/step - accuracy: 1.0000 - loss: 0.0198 - val_accuracy: 0.8000 - val_loss: 0.5344\n",
            "Epoch 4/10\n",
            "\u001b[1m3/3\u001b[0m \u001b[32m━━━━━━━━━━━━━━━━━━━━\u001b[0m\u001b[37m\u001b[0m \u001b[1m0s\u001b[0m 69ms/step - accuracy: 1.0000 - loss: 0.0115 - val_accuracy: 0.8000 - val_loss: 0.5149\n",
            "Epoch 5/10\n",
            "\u001b[1m3/3\u001b[0m \u001b[32m━━━━━━━━━━━━━━━━━━━━\u001b[0m\u001b[37m\u001b[0m \u001b[1m0s\u001b[0m 73ms/step - accuracy: 1.0000 - loss: 0.0088 - val_accuracy: 0.8000 - val_loss: 0.5057\n",
            "Epoch 6/10\n",
            "\u001b[1m3/3\u001b[0m \u001b[32m━━━━━━━━━━━━━━━━━━━━\u001b[0m\u001b[37m\u001b[0m \u001b[1m0s\u001b[0m 59ms/step - accuracy: 1.0000 - loss: 0.0044 - val_accuracy: 0.8000 - val_loss: 0.4978\n",
            "Epoch 7/10\n",
            "\u001b[1m3/3\u001b[0m \u001b[32m━━━━━━━━━━━━━━━━━━━━\u001b[0m\u001b[37m\u001b[0m \u001b[1m0s\u001b[0m 67ms/step - accuracy: 1.0000 - loss: 0.0059 - val_accuracy: 0.8000 - val_loss: 0.4891\n",
            "Epoch 8/10\n",
            "\u001b[1m3/3\u001b[0m \u001b[32m━━━━━━━━━━━━━━━━━━━━\u001b[0m\u001b[37m\u001b[0m \u001b[1m0s\u001b[0m 39ms/step - accuracy: 1.0000 - loss: 0.0037 - val_accuracy: 0.8000 - val_loss: 0.4795\n",
            "Epoch 9/10\n",
            "\u001b[1m3/3\u001b[0m \u001b[32m━━━━━━━━━━━━━━━━━━━━\u001b[0m\u001b[37m\u001b[0m \u001b[1m0s\u001b[0m 39ms/step - accuracy: 1.0000 - loss: 0.0038 - val_accuracy: 0.8000 - val_loss: 0.4681\n",
            "Epoch 10/10\n",
            "\u001b[1m3/3\u001b[0m \u001b[32m━━━━━━━━━━━━━━━━━━━━\u001b[0m\u001b[37m\u001b[0m \u001b[1m0s\u001b[0m 48ms/step - accuracy: 1.0000 - loss: 0.0036 - val_accuracy: 0.8000 - val_loss: 0.4525\n",
            "Финальная точность (val_accuracy): 0.8000\n",
            "\n",
            "=== Создание модели 15/9 ===\n",
            "Параметры: vocab_size=15000, window_size=2000, step=500\n",
            "Epoch 1/10\n"
          ]
        },
        {
          "output_type": "stream",
          "name": "stderr",
          "text": [
            "/usr/local/lib/python3.11/dist-packages/keras/src/layers/core/dense.py:87: UserWarning: Do not pass an `input_shape`/`input_dim` argument to a layer. When using Sequential models, prefer using an `Input(shape)` object as the first layer in the model instead.\n",
            "  super().__init__(activity_regularizer=activity_regularizer, **kwargs)\n"
          ]
        },
        {
          "output_type": "stream",
          "name": "stdout",
          "text": [
            "\u001b[1m3/3\u001b[0m \u001b[32m━━━━━━━━━━━━━━━━━━━━\u001b[0m\u001b[37m\u001b[0m \u001b[1m4s\u001b[0m 266ms/step - accuracy: 0.4664 - loss: 1.6382 - val_accuracy: 0.6000 - val_loss: 1.0616\n",
            "Epoch 2/10\n",
            "\u001b[1m3/3\u001b[0m \u001b[32m━━━━━━━━━━━━━━━━━━━━\u001b[0m\u001b[37m\u001b[0m \u001b[1m0s\u001b[0m 101ms/step - accuracy: 1.0000 - loss: 0.0882 - val_accuracy: 0.6000 - val_loss: 0.9940\n",
            "Epoch 3/10\n",
            "\u001b[1m3/3\u001b[0m \u001b[32m━━━━━━━━━━━━━━━━━━━━\u001b[0m\u001b[37m\u001b[0m \u001b[1m0s\u001b[0m 78ms/step - accuracy: 1.0000 - loss: 0.0241 - val_accuracy: 0.6000 - val_loss: 0.9737\n",
            "Epoch 4/10\n",
            "\u001b[1m3/3\u001b[0m \u001b[32m━━━━━━━━━━━━━━━━━━━━\u001b[0m\u001b[37m\u001b[0m \u001b[1m0s\u001b[0m 53ms/step - accuracy: 1.0000 - loss: 0.0087 - val_accuracy: 0.6000 - val_loss: 0.9477\n",
            "Epoch 5/10\n",
            "\u001b[1m3/3\u001b[0m \u001b[32m━━━━━━━━━━━━━━━━━━━━\u001b[0m\u001b[37m\u001b[0m \u001b[1m0s\u001b[0m 44ms/step - accuracy: 0.9937 - loss: 0.0314 - val_accuracy: 0.6000 - val_loss: 0.9139\n",
            "Epoch 6/10\n",
            "\u001b[1m3/3\u001b[0m \u001b[32m━━━━━━━━━━━━━━━━━━━━\u001b[0m\u001b[37m\u001b[0m \u001b[1m0s\u001b[0m 60ms/step - accuracy: 1.0000 - loss: 0.0060 - val_accuracy: 0.6000 - val_loss: 0.8720\n",
            "Epoch 7/10\n",
            "\u001b[1m3/3\u001b[0m \u001b[32m━━━━━━━━━━━━━━━━━━━━\u001b[0m\u001b[37m\u001b[0m \u001b[1m0s\u001b[0m 50ms/step - accuracy: 1.0000 - loss: 0.0046 - val_accuracy: 0.6000 - val_loss: 0.8241\n",
            "Epoch 8/10\n",
            "\u001b[1m3/3\u001b[0m \u001b[32m━━━━━━━━━━━━━━━━━━━━\u001b[0m\u001b[37m\u001b[0m \u001b[1m0s\u001b[0m 73ms/step - accuracy: 1.0000 - loss: 0.0044 - val_accuracy: 0.6000 - val_loss: 0.7785\n",
            "Epoch 9/10\n",
            "\u001b[1m3/3\u001b[0m \u001b[32m━━━━━━━━━━━━━━━━━━━━\u001b[0m\u001b[37m\u001b[0m \u001b[1m0s\u001b[0m 67ms/step - accuracy: 1.0000 - loss: 0.0145 - val_accuracy: 0.6000 - val_loss: 0.7269\n",
            "Epoch 10/10\n",
            "\u001b[1m3/3\u001b[0m \u001b[32m━━━━━━━━━━━━━━━━━━━━\u001b[0m\u001b[37m\u001b[0m \u001b[1m0s\u001b[0m 54ms/step - accuracy: 1.0000 - loss: 0.0039 - val_accuracy: 0.6000 - val_loss: 0.6737\n",
            "Финальная точность (val_accuracy): 0.6000\n",
            "\n",
            "=== Создание модели 16/9 ===\n",
            "Параметры: vocab_size=15000, window_size=3000, step=100\n",
            "Epoch 1/10\n"
          ]
        },
        {
          "output_type": "stream",
          "name": "stderr",
          "text": [
            "/usr/local/lib/python3.11/dist-packages/keras/src/layers/core/dense.py:87: UserWarning: Do not pass an `input_shape`/`input_dim` argument to a layer. When using Sequential models, prefer using an `Input(shape)` object as the first layer in the model instead.\n",
            "  super().__init__(activity_regularizer=activity_regularizer, **kwargs)\n"
          ]
        },
        {
          "output_type": "stream",
          "name": "stdout",
          "text": [
            "\u001b[1m3/3\u001b[0m \u001b[32m━━━━━━━━━━━━━━━━━━━━\u001b[0m\u001b[37m\u001b[0m \u001b[1m3s\u001b[0m 208ms/step - accuracy: 0.3891 - loss: 1.6343 - val_accuracy: 0.4000 - val_loss: 1.1042\n",
            "Epoch 2/10\n",
            "\u001b[1m3/3\u001b[0m \u001b[32m━━━━━━━━━━━━━━━━━━━━\u001b[0m\u001b[37m\u001b[0m \u001b[1m0s\u001b[0m 60ms/step - accuracy: 1.0000 - loss: 0.0714 - val_accuracy: 0.8000 - val_loss: 0.8814\n",
            "Epoch 3/10\n",
            "\u001b[1m3/3\u001b[0m \u001b[32m━━━━━━━━━━━━━━━━━━━━\u001b[0m\u001b[37m\u001b[0m \u001b[1m0s\u001b[0m 38ms/step - accuracy: 1.0000 - loss: 0.0219 - val_accuracy: 0.8000 - val_loss: 0.7717\n",
            "Epoch 4/10\n",
            "\u001b[1m3/3\u001b[0m \u001b[32m━━━━━━━━━━━━━━━━━━━━\u001b[0m\u001b[37m\u001b[0m \u001b[1m0s\u001b[0m 45ms/step - accuracy: 1.0000 - loss: 0.0124 - val_accuracy: 0.8000 - val_loss: 0.7110\n",
            "Epoch 5/10\n",
            "\u001b[1m3/3\u001b[0m \u001b[32m━━━━━━━━━━━━━━━━━━━━\u001b[0m\u001b[37m\u001b[0m \u001b[1m0s\u001b[0m 52ms/step - accuracy: 1.0000 - loss: 0.0047 - val_accuracy: 0.8000 - val_loss: 0.6681\n",
            "Epoch 6/10\n",
            "\u001b[1m3/3\u001b[0m \u001b[32m━━━━━━━━━━━━━━━━━━━━\u001b[0m\u001b[37m\u001b[0m \u001b[1m0s\u001b[0m 48ms/step - accuracy: 1.0000 - loss: 0.0034 - val_accuracy: 0.8000 - val_loss: 0.6294\n",
            "Epoch 7/10\n",
            "\u001b[1m3/3\u001b[0m \u001b[32m━━━━━━━━━━━━━━━━━━━━\u001b[0m\u001b[37m\u001b[0m \u001b[1m0s\u001b[0m 41ms/step - accuracy: 1.0000 - loss: 0.0058 - val_accuracy: 0.8000 - val_loss: 0.5915\n",
            "Epoch 8/10\n",
            "\u001b[1m3/3\u001b[0m \u001b[32m━━━━━━━━━━━━━━━━━━━━\u001b[0m\u001b[37m\u001b[0m \u001b[1m0s\u001b[0m 50ms/step - accuracy: 1.0000 - loss: 0.0031 - val_accuracy: 0.8000 - val_loss: 0.5554\n",
            "Epoch 9/10\n",
            "\u001b[1m3/3\u001b[0m \u001b[32m━━━━━━━━━━━━━━━━━━━━\u001b[0m\u001b[37m\u001b[0m \u001b[1m0s\u001b[0m 42ms/step - accuracy: 1.0000 - loss: 0.0026 - val_accuracy: 0.8000 - val_loss: 0.5194\n",
            "Epoch 10/10\n",
            "\u001b[1m3/3\u001b[0m \u001b[32m━━━━━━━━━━━━━━━━━━━━\u001b[0m\u001b[37m\u001b[0m \u001b[1m0s\u001b[0m 46ms/step - accuracy: 1.0000 - loss: 0.0035 - val_accuracy: 0.8000 - val_loss: 0.4859\n",
            "Финальная точность (val_accuracy): 0.8000\n",
            "\n",
            "=== Создание модели 17/9 ===\n",
            "Параметры: vocab_size=15000, window_size=3000, step=300\n",
            "Epoch 1/10\n"
          ]
        },
        {
          "output_type": "stream",
          "name": "stderr",
          "text": [
            "/usr/local/lib/python3.11/dist-packages/keras/src/layers/core/dense.py:87: UserWarning: Do not pass an `input_shape`/`input_dim` argument to a layer. When using Sequential models, prefer using an `Input(shape)` object as the first layer in the model instead.\n",
            "  super().__init__(activity_regularizer=activity_regularizer, **kwargs)\n"
          ]
        },
        {
          "output_type": "stream",
          "name": "stdout",
          "text": [
            "\u001b[1m3/3\u001b[0m \u001b[32m━━━━━━━━━━━━━━━━━━━━\u001b[0m\u001b[37m\u001b[0m \u001b[1m3s\u001b[0m 164ms/step - accuracy: 0.4219 - loss: 1.9642 - val_accuracy: 0.6000 - val_loss: 1.2426\n",
            "Epoch 2/10\n",
            "\u001b[1m3/3\u001b[0m \u001b[32m━━━━━━━━━━━━━━━━━━━━\u001b[0m\u001b[37m\u001b[0m \u001b[1m0s\u001b[0m 54ms/step - accuracy: 1.0000 - loss: 0.0722 - val_accuracy: 0.8000 - val_loss: 0.9605\n",
            "Epoch 3/10\n",
            "\u001b[1m3/3\u001b[0m \u001b[32m━━━━━━━━━━━━━━━━━━━━\u001b[0m\u001b[37m\u001b[0m \u001b[1m0s\u001b[0m 46ms/step - accuracy: 1.0000 - loss: 0.0257 - val_accuracy: 0.8000 - val_loss: 0.8062\n",
            "Epoch 4/10\n",
            "\u001b[1m3/3\u001b[0m \u001b[32m━━━━━━━━━━━━━━━━━━━━\u001b[0m\u001b[37m\u001b[0m \u001b[1m0s\u001b[0m 58ms/step - accuracy: 1.0000 - loss: 0.0082 - val_accuracy: 0.8000 - val_loss: 0.7101\n",
            "Epoch 5/10\n",
            "\u001b[1m3/3\u001b[0m \u001b[32m━━━━━━━━━━━━━━━━━━━━\u001b[0m\u001b[37m\u001b[0m \u001b[1m0s\u001b[0m 73ms/step - accuracy: 1.0000 - loss: 0.0098 - val_accuracy: 0.8000 - val_loss: 0.6436\n",
            "Epoch 6/10\n",
            "\u001b[1m3/3\u001b[0m \u001b[32m━━━━━━━━━━━━━━━━━━━━\u001b[0m\u001b[37m\u001b[0m \u001b[1m0s\u001b[0m 90ms/step - accuracy: 1.0000 - loss: 0.0066 - val_accuracy: 0.8000 - val_loss: 0.5930\n",
            "Epoch 7/10\n",
            "\u001b[1m3/3\u001b[0m \u001b[32m━━━━━━━━━━━━━━━━━━━━\u001b[0m\u001b[37m\u001b[0m \u001b[1m0s\u001b[0m 57ms/step - accuracy: 1.0000 - loss: 0.0045 - val_accuracy: 0.8000 - val_loss: 0.5513\n",
            "Epoch 8/10\n",
            "\u001b[1m3/3\u001b[0m \u001b[32m━━━━━━━━━━━━━━━━━━━━\u001b[0m\u001b[37m\u001b[0m \u001b[1m0s\u001b[0m 79ms/step - accuracy: 1.0000 - loss: 0.0038 - val_accuracy: 0.8000 - val_loss: 0.5166\n",
            "Epoch 9/10\n",
            "\u001b[1m3/3\u001b[0m \u001b[32m━━━━━━━━━━━━━━━━━━━━\u001b[0m\u001b[37m\u001b[0m \u001b[1m0s\u001b[0m 76ms/step - accuracy: 1.0000 - loss: 0.0027 - val_accuracy: 0.8000 - val_loss: 0.4867\n",
            "Epoch 10/10\n",
            "\u001b[1m3/3\u001b[0m \u001b[32m━━━━━━━━━━━━━━━━━━━━\u001b[0m\u001b[37m\u001b[0m \u001b[1m0s\u001b[0m 92ms/step - accuracy: 1.0000 - loss: 0.0026 - val_accuracy: 0.8000 - val_loss: 0.4615\n",
            "Финальная точность (val_accuracy): 0.8000\n",
            "\n",
            "=== Создание модели 18/9 ===\n",
            "Параметры: vocab_size=15000, window_size=3000, step=500\n",
            "Epoch 1/10\n"
          ]
        },
        {
          "output_type": "stream",
          "name": "stderr",
          "text": [
            "/usr/local/lib/python3.11/dist-packages/keras/src/layers/core/dense.py:87: UserWarning: Do not pass an `input_shape`/`input_dim` argument to a layer. When using Sequential models, prefer using an `Input(shape)` object as the first layer in the model instead.\n",
            "  super().__init__(activity_regularizer=activity_regularizer, **kwargs)\n"
          ]
        },
        {
          "output_type": "stream",
          "name": "stdout",
          "text": [
            "\u001b[1m3/3\u001b[0m \u001b[32m━━━━━━━━━━━━━━━━━━━━\u001b[0m\u001b[37m\u001b[0m \u001b[1m3s\u001b[0m 158ms/step - accuracy: 0.4125 - loss: 1.6383 - val_accuracy: 0.6000 - val_loss: 0.9624\n",
            "Epoch 2/10\n",
            "\u001b[1m3/3\u001b[0m \u001b[32m━━━━━━━━━━━━━━━━━━━━\u001b[0m\u001b[37m\u001b[0m \u001b[1m0s\u001b[0m 46ms/step - accuracy: 1.0000 - loss: 0.0841 - val_accuracy: 0.8000 - val_loss: 0.7480\n",
            "Epoch 3/10\n",
            "\u001b[1m3/3\u001b[0m \u001b[32m━━━━━━━━━━━━━━━━━━━━\u001b[0m\u001b[37m\u001b[0m \u001b[1m0s\u001b[0m 41ms/step - accuracy: 1.0000 - loss: 0.0378 - val_accuracy: 0.8000 - val_loss: 0.6402\n",
            "Epoch 4/10\n",
            "\u001b[1m3/3\u001b[0m \u001b[32m━━━━━━━━━━━━━━━━━━━━\u001b[0m\u001b[37m\u001b[0m \u001b[1m0s\u001b[0m 53ms/step - accuracy: 1.0000 - loss: 0.0098 - val_accuracy: 0.8000 - val_loss: 0.5715\n",
            "Epoch 5/10\n",
            "\u001b[1m3/3\u001b[0m \u001b[32m━━━━━━━━━━━━━━━━━━━━\u001b[0m\u001b[37m\u001b[0m \u001b[1m0s\u001b[0m 54ms/step - accuracy: 1.0000 - loss: 0.0105 - val_accuracy: 0.8000 - val_loss: 0.5258\n",
            "Epoch 6/10\n",
            "\u001b[1m3/3\u001b[0m \u001b[32m━━━━━━━━━━━━━━━━━━━━\u001b[0m\u001b[37m\u001b[0m \u001b[1m0s\u001b[0m 49ms/step - accuracy: 1.0000 - loss: 0.0042 - val_accuracy: 0.8000 - val_loss: 0.4903\n",
            "Epoch 7/10\n",
            "\u001b[1m3/3\u001b[0m \u001b[32m━━━━━━━━━━━━━━━━━━━━\u001b[0m\u001b[37m\u001b[0m \u001b[1m0s\u001b[0m 48ms/step - accuracy: 1.0000 - loss: 0.0051 - val_accuracy: 0.8000 - val_loss: 0.4603\n",
            "Epoch 8/10\n",
            "\u001b[1m3/3\u001b[0m \u001b[32m━━━━━━━━━━━━━━━━━━━━\u001b[0m\u001b[37m\u001b[0m \u001b[1m0s\u001b[0m 58ms/step - accuracy: 1.0000 - loss: 0.0035 - val_accuracy: 0.8000 - val_loss: 0.4336\n",
            "Epoch 9/10\n",
            "\u001b[1m3/3\u001b[0m \u001b[32m━━━━━━━━━━━━━━━━━━━━\u001b[0m\u001b[37m\u001b[0m \u001b[1m0s\u001b[0m 71ms/step - accuracy: 1.0000 - loss: 0.0120 - val_accuracy: 0.8000 - val_loss: 0.4046\n",
            "Epoch 10/10\n",
            "\u001b[1m3/3\u001b[0m \u001b[32m━━━━━━━━━━━━━━━━━━━━\u001b[0m\u001b[37m\u001b[0m \u001b[1m0s\u001b[0m 60ms/step - accuracy: 1.0000 - loss: 0.0026 - val_accuracy: 0.8000 - val_loss: 0.3665\n",
            "Финальная точность (val_accuracy): 0.8000\n",
            "\n",
            "=== Создание модели 19/9 ===\n",
            "Параметры: vocab_size=20000, window_size=1000, step=100\n",
            "Epoch 1/10\n"
          ]
        },
        {
          "output_type": "stream",
          "name": "stderr",
          "text": [
            "/usr/local/lib/python3.11/dist-packages/keras/src/layers/core/dense.py:87: UserWarning: Do not pass an `input_shape`/`input_dim` argument to a layer. When using Sequential models, prefer using an `Input(shape)` object as the first layer in the model instead.\n",
            "  super().__init__(activity_regularizer=activity_regularizer, **kwargs)\n"
          ]
        },
        {
          "output_type": "stream",
          "name": "stdout",
          "text": [
            "\u001b[1m3/3\u001b[0m \u001b[32m━━━━━━━━━━━━━━━━━━━━\u001b[0m\u001b[37m\u001b[0m \u001b[1m3s\u001b[0m 165ms/step - accuracy: 0.4461 - loss: 1.6505 - val_accuracy: 1.0000 - val_loss: 0.5949\n",
            "Epoch 2/10\n",
            "\u001b[1m3/3\u001b[0m \u001b[32m━━━━━━━━━━━━━━━━━━━━\u001b[0m\u001b[37m\u001b[0m \u001b[1m0s\u001b[0m 49ms/step - accuracy: 1.0000 - loss: 0.0696 - val_accuracy: 1.0000 - val_loss: 0.3755\n",
            "Epoch 3/10\n",
            "\u001b[1m3/3\u001b[0m \u001b[32m━━━━━━━━━━━━━━━━━━━━\u001b[0m\u001b[37m\u001b[0m \u001b[1m0s\u001b[0m 65ms/step - accuracy: 1.0000 - loss: 0.0178 - val_accuracy: 1.0000 - val_loss: 0.3311\n",
            "Epoch 4/10\n",
            "\u001b[1m3/3\u001b[0m \u001b[32m━━━━━━━━━━━━━━━━━━━━\u001b[0m\u001b[37m\u001b[0m \u001b[1m0s\u001b[0m 36ms/step - accuracy: 1.0000 - loss: 0.0126 - val_accuracy: 1.0000 - val_loss: 0.3175\n",
            "Epoch 5/10\n",
            "\u001b[1m3/3\u001b[0m \u001b[32m━━━━━━━━━━━━━━━━━━━━\u001b[0m\u001b[37m\u001b[0m \u001b[1m0s\u001b[0m 37ms/step - accuracy: 1.0000 - loss: 0.0044 - val_accuracy: 1.0000 - val_loss: 0.3057\n",
            "Epoch 6/10\n",
            "\u001b[1m3/3\u001b[0m \u001b[32m━━━━━━━━━━━━━━━━━━━━\u001b[0m\u001b[37m\u001b[0m \u001b[1m0s\u001b[0m 33ms/step - accuracy: 1.0000 - loss: 0.0032 - val_accuracy: 1.0000 - val_loss: 0.2946\n",
            "Epoch 7/10\n",
            "\u001b[1m3/3\u001b[0m \u001b[32m━━━━━━━━━━━━━━━━━━━━\u001b[0m\u001b[37m\u001b[0m \u001b[1m0s\u001b[0m 38ms/step - accuracy: 1.0000 - loss: 0.0065 - val_accuracy: 1.0000 - val_loss: 0.2820\n",
            "Epoch 8/10\n",
            "\u001b[1m3/3\u001b[0m \u001b[32m━━━━━━━━━━━━━━━━━━━━\u001b[0m\u001b[37m\u001b[0m \u001b[1m0s\u001b[0m 34ms/step - accuracy: 1.0000 - loss: 0.0059 - val_accuracy: 1.0000 - val_loss: 0.2643\n",
            "Epoch 9/10\n",
            "\u001b[1m3/3\u001b[0m \u001b[32m━━━━━━━━━━━━━━━━━━━━\u001b[0m\u001b[37m\u001b[0m \u001b[1m0s\u001b[0m 43ms/step - accuracy: 1.0000 - loss: 0.0015 - val_accuracy: 1.0000 - val_loss: 0.2490\n",
            "Epoch 10/10\n",
            "\u001b[1m3/3\u001b[0m \u001b[32m━━━━━━━━━━━━━━━━━━━━\u001b[0m\u001b[37m\u001b[0m \u001b[1m0s\u001b[0m 43ms/step - accuracy: 1.0000 - loss: 0.0022 - val_accuracy: 1.0000 - val_loss: 0.2338\n",
            "Финальная точность (val_accuracy): 1.0000\n",
            "\n",
            "=== Создание модели 20/9 ===\n",
            "Параметры: vocab_size=20000, window_size=1000, step=300\n",
            "Epoch 1/10\n"
          ]
        },
        {
          "output_type": "stream",
          "name": "stderr",
          "text": [
            "/usr/local/lib/python3.11/dist-packages/keras/src/layers/core/dense.py:87: UserWarning: Do not pass an `input_shape`/`input_dim` argument to a layer. When using Sequential models, prefer using an `Input(shape)` object as the first layer in the model instead.\n",
            "  super().__init__(activity_regularizer=activity_regularizer, **kwargs)\n"
          ]
        },
        {
          "output_type": "stream",
          "name": "stdout",
          "text": [
            "\u001b[1m3/3\u001b[0m \u001b[32m━━━━━━━━━━━━━━━━━━━━\u001b[0m\u001b[37m\u001b[0m \u001b[1m5s\u001b[0m 847ms/step - accuracy: 0.4969 - loss: 1.5408 - val_accuracy: 0.4000 - val_loss: 1.1229\n",
            "Epoch 2/10\n",
            "\u001b[1m3/3\u001b[0m \u001b[32m━━━━━━━━━━━━━━━━━━━━\u001b[0m\u001b[37m\u001b[0m \u001b[1m0s\u001b[0m 71ms/step - accuracy: 1.0000 - loss: 0.0670 - val_accuracy: 0.6000 - val_loss: 0.8489\n",
            "Epoch 3/10\n",
            "\u001b[1m3/3\u001b[0m \u001b[32m━━━━━━━━━━━━━━━━━━━━\u001b[0m\u001b[37m\u001b[0m \u001b[1m0s\u001b[0m 63ms/step - accuracy: 1.0000 - loss: 0.0196 - val_accuracy: 0.8000 - val_loss: 0.7006\n",
            "Epoch 4/10\n",
            "\u001b[1m3/3\u001b[0m \u001b[32m━━━━━━━━━━━━━━━━━━━━\u001b[0m\u001b[37m\u001b[0m \u001b[1m0s\u001b[0m 51ms/step - accuracy: 1.0000 - loss: 0.0162 - val_accuracy: 0.8000 - val_loss: 0.6287\n",
            "Epoch 5/10\n",
            "\u001b[1m3/3\u001b[0m \u001b[32m━━━━━━━━━━━━━━━━━━━━\u001b[0m\u001b[37m\u001b[0m \u001b[1m0s\u001b[0m 49ms/step - accuracy: 1.0000 - loss: 0.0189 - val_accuracy: 0.8000 - val_loss: 0.5908\n",
            "Epoch 6/10\n",
            "\u001b[1m3/3\u001b[0m \u001b[32m━━━━━━━━━━━━━━━━━━━━\u001b[0m\u001b[37m\u001b[0m \u001b[1m0s\u001b[0m 39ms/step - accuracy: 1.0000 - loss: 0.0064 - val_accuracy: 0.8000 - val_loss: 0.5677\n",
            "Epoch 7/10\n",
            "\u001b[1m3/3\u001b[0m \u001b[32m━━━━━━━━━━━━━━━━━━━━\u001b[0m\u001b[37m\u001b[0m \u001b[1m0s\u001b[0m 56ms/step - accuracy: 1.0000 - loss: 0.0127 - val_accuracy: 0.8000 - val_loss: 0.5490\n",
            "Epoch 8/10\n",
            "\u001b[1m3/3\u001b[0m \u001b[32m━━━━━━━━━━━━━━━━━━━━\u001b[0m\u001b[37m\u001b[0m \u001b[1m0s\u001b[0m 46ms/step - accuracy: 1.0000 - loss: 0.0014 - val_accuracy: 0.8000 - val_loss: 0.5297\n",
            "Epoch 9/10\n",
            "\u001b[1m3/3\u001b[0m \u001b[32m━━━━━━━━━━━━━━━━━━━━\u001b[0m\u001b[37m\u001b[0m \u001b[1m0s\u001b[0m 41ms/step - accuracy: 1.0000 - loss: 0.0023 - val_accuracy: 0.8000 - val_loss: 0.5062\n",
            "Epoch 10/10\n",
            "\u001b[1m3/3\u001b[0m \u001b[32m━━━━━━━━━━━━━━━━━━━━\u001b[0m\u001b[37m\u001b[0m \u001b[1m0s\u001b[0m 43ms/step - accuracy: 1.0000 - loss: 0.0012 - val_accuracy: 0.8000 - val_loss: 0.4812\n",
            "Финальная точность (val_accuracy): 0.8000\n",
            "\n",
            "=== Создание модели 21/9 ===\n",
            "Параметры: vocab_size=20000, window_size=1000, step=500\n",
            "Epoch 1/10\n"
          ]
        },
        {
          "output_type": "stream",
          "name": "stderr",
          "text": [
            "/usr/local/lib/python3.11/dist-packages/keras/src/layers/core/dense.py:87: UserWarning: Do not pass an `input_shape`/`input_dim` argument to a layer. When using Sequential models, prefer using an `Input(shape)` object as the first layer in the model instead.\n",
            "  super().__init__(activity_regularizer=activity_regularizer, **kwargs)\n"
          ]
        },
        {
          "output_type": "stream",
          "name": "stdout",
          "text": [
            "\u001b[1m3/3\u001b[0m \u001b[32m━━━━━━━━━━━━━━━━━━━━\u001b[0m\u001b[37m\u001b[0m \u001b[1m3s\u001b[0m 164ms/step - accuracy: 0.3492 - loss: 1.8049 - val_accuracy: 0.6000 - val_loss: 1.1384\n",
            "Epoch 2/10\n",
            "\u001b[1m3/3\u001b[0m \u001b[32m━━━━━━━━━━━━━━━━━━━━\u001b[0m\u001b[37m\u001b[0m \u001b[1m0s\u001b[0m 44ms/step - accuracy: 1.0000 - loss: 0.0756 - val_accuracy: 0.6000 - val_loss: 1.0056\n",
            "Epoch 3/10\n",
            "\u001b[1m3/3\u001b[0m \u001b[32m━━━━━━━━━━━━━━━━━━━━\u001b[0m\u001b[37m\u001b[0m \u001b[1m0s\u001b[0m 37ms/step - accuracy: 1.0000 - loss: 0.0310 - val_accuracy: 0.6000 - val_loss: 0.9648\n",
            "Epoch 4/10\n",
            "\u001b[1m3/3\u001b[0m \u001b[32m━━━━━━━━━━━━━━━━━━━━\u001b[0m\u001b[37m\u001b[0m \u001b[1m0s\u001b[0m 57ms/step - accuracy: 1.0000 - loss: 0.0101 - val_accuracy: 0.8000 - val_loss: 0.9252\n",
            "Epoch 5/10\n",
            "\u001b[1m3/3\u001b[0m \u001b[32m━━━━━━━━━━━━━━━━━━━━\u001b[0m\u001b[37m\u001b[0m \u001b[1m0s\u001b[0m 44ms/step - accuracy: 1.0000 - loss: 0.0083 - val_accuracy: 0.8000 - val_loss: 0.8806\n",
            "Epoch 6/10\n",
            "\u001b[1m3/3\u001b[0m \u001b[32m━━━━━━━━━━━━━━━━━━━━\u001b[0m\u001b[37m\u001b[0m \u001b[1m0s\u001b[0m 37ms/step - accuracy: 1.0000 - loss: 0.0059 - val_accuracy: 0.8000 - val_loss: 0.8363\n",
            "Epoch 7/10\n",
            "\u001b[1m3/3\u001b[0m \u001b[32m━━━━━━━━━━━━━━━━━━━━\u001b[0m\u001b[37m\u001b[0m \u001b[1m0s\u001b[0m 53ms/step - accuracy: 1.0000 - loss: 0.0048 - val_accuracy: 0.8000 - val_loss: 0.7826\n",
            "Epoch 8/10\n",
            "\u001b[1m3/3\u001b[0m \u001b[32m━━━━━━━━━━━━━━━━━━━━\u001b[0m\u001b[37m\u001b[0m \u001b[1m0s\u001b[0m 47ms/step - accuracy: 1.0000 - loss: 0.0041 - val_accuracy: 0.8000 - val_loss: 0.7265\n",
            "Epoch 9/10\n",
            "\u001b[1m3/3\u001b[0m \u001b[32m━━━━━━━━━━━━━━━━━━━━\u001b[0m\u001b[37m\u001b[0m \u001b[1m0s\u001b[0m 42ms/step - accuracy: 1.0000 - loss: 0.0040 - val_accuracy: 0.8000 - val_loss: 0.6712\n",
            "Epoch 10/10\n",
            "\u001b[1m3/3\u001b[0m \u001b[32m━━━━━━━━━━━━━━━━━━━━\u001b[0m\u001b[37m\u001b[0m \u001b[1m0s\u001b[0m 42ms/step - accuracy: 1.0000 - loss: 0.0025 - val_accuracy: 0.8000 - val_loss: 0.6148\n",
            "Финальная точность (val_accuracy): 0.8000\n",
            "\n",
            "=== Создание модели 22/9 ===\n",
            "Параметры: vocab_size=20000, window_size=2000, step=100\n",
            "Epoch 1/10\n"
          ]
        },
        {
          "output_type": "stream",
          "name": "stderr",
          "text": [
            "/usr/local/lib/python3.11/dist-packages/keras/src/layers/core/dense.py:87: UserWarning: Do not pass an `input_shape`/`input_dim` argument to a layer. When using Sequential models, prefer using an `Input(shape)` object as the first layer in the model instead.\n",
            "  super().__init__(activity_regularizer=activity_regularizer, **kwargs)\n"
          ]
        },
        {
          "output_type": "stream",
          "name": "stdout",
          "text": [
            "\u001b[1m3/3\u001b[0m \u001b[32m━━━━━━━━━━━━━━━━━━━━\u001b[0m\u001b[37m\u001b[0m \u001b[1m3s\u001b[0m 268ms/step - accuracy: 0.4977 - loss: 1.5546 - val_accuracy: 0.8000 - val_loss: 1.0459\n",
            "Epoch 2/10\n",
            "\u001b[1m3/3\u001b[0m \u001b[32m━━━━━━━━━━━━━━━━━━━━\u001b[0m\u001b[37m\u001b[0m \u001b[1m0s\u001b[0m 77ms/step - accuracy: 0.9820 - loss: 0.0818 - val_accuracy: 0.8000 - val_loss: 0.8194\n",
            "Epoch 3/10\n",
            "\u001b[1m3/3\u001b[0m \u001b[32m━━━━━━━━━━━━━━━━━━━━\u001b[0m\u001b[37m\u001b[0m \u001b[1m0s\u001b[0m 74ms/step - accuracy: 1.0000 - loss: 0.0173 - val_accuracy: 0.6000 - val_loss: 0.7314\n",
            "Epoch 4/10\n",
            "\u001b[1m3/3\u001b[0m \u001b[32m━━━━━━━━━━━━━━━━━━━━\u001b[0m\u001b[37m\u001b[0m \u001b[1m0s\u001b[0m 46ms/step - accuracy: 1.0000 - loss: 0.0106 - val_accuracy: 0.6000 - val_loss: 0.6696\n",
            "Epoch 5/10\n",
            "\u001b[1m3/3\u001b[0m \u001b[32m━━━━━━━━━━━━━━━━━━━━\u001b[0m\u001b[37m\u001b[0m \u001b[1m0s\u001b[0m 56ms/step - accuracy: 1.0000 - loss: 0.0061 - val_accuracy: 0.8000 - val_loss: 0.6215\n",
            "Epoch 6/10\n",
            "\u001b[1m3/3\u001b[0m \u001b[32m━━━━━━━━━━━━━━━━━━━━\u001b[0m\u001b[37m\u001b[0m \u001b[1m0s\u001b[0m 49ms/step - accuracy: 1.0000 - loss: 0.0027 - val_accuracy: 0.8000 - val_loss: 0.5795\n",
            "Epoch 7/10\n",
            "\u001b[1m3/3\u001b[0m \u001b[32m━━━━━━━━━━━━━━━━━━━━\u001b[0m\u001b[37m\u001b[0m \u001b[1m0s\u001b[0m 35ms/step - accuracy: 1.0000 - loss: 0.0020 - val_accuracy: 0.8000 - val_loss: 0.5441\n",
            "Epoch 8/10\n",
            "\u001b[1m3/3\u001b[0m \u001b[32m━━━━━━━━━━━━━━━━━━━━\u001b[0m\u001b[37m\u001b[0m \u001b[1m0s\u001b[0m 40ms/step - accuracy: 1.0000 - loss: 0.0015 - val_accuracy: 0.8000 - val_loss: 0.5137\n",
            "Epoch 9/10\n",
            "\u001b[1m3/3\u001b[0m \u001b[32m━━━━━━━━━━━━━━━━━━━━\u001b[0m\u001b[37m\u001b[0m \u001b[1m0s\u001b[0m 44ms/step - accuracy: 1.0000 - loss: 0.0014 - val_accuracy: 0.8000 - val_loss: 0.4814\n",
            "Epoch 10/10\n",
            "\u001b[1m3/3\u001b[0m \u001b[32m━━━━━━━━━━━━━━━━━━━━\u001b[0m\u001b[37m\u001b[0m \u001b[1m0s\u001b[0m 39ms/step - accuracy: 1.0000 - loss: 0.0021 - val_accuracy: 0.8000 - val_loss: 0.4490\n",
            "Финальная точность (val_accuracy): 0.8000\n",
            "\n",
            "=== Создание модели 23/9 ===\n",
            "Параметры: vocab_size=20000, window_size=2000, step=300\n",
            "Epoch 1/10\n"
          ]
        },
        {
          "output_type": "stream",
          "name": "stderr",
          "text": [
            "/usr/local/lib/python3.11/dist-packages/keras/src/layers/core/dense.py:87: UserWarning: Do not pass an `input_shape`/`input_dim` argument to a layer. When using Sequential models, prefer using an `Input(shape)` object as the first layer in the model instead.\n",
            "  super().__init__(activity_regularizer=activity_regularizer, **kwargs)\n"
          ]
        },
        {
          "output_type": "stream",
          "name": "stdout",
          "text": [
            "\u001b[1m3/3\u001b[0m \u001b[32m━━━━━━━━━━━━━━━━━━━━\u001b[0m\u001b[37m\u001b[0m \u001b[1m3s\u001b[0m 160ms/step - accuracy: 0.4070 - loss: 1.8214 - val_accuracy: 0.4000 - val_loss: 1.2702\n",
            "Epoch 2/10\n",
            "\u001b[1m3/3\u001b[0m \u001b[32m━━━━━━━━━━━━━━━━━━━━\u001b[0m\u001b[37m\u001b[0m \u001b[1m0s\u001b[0m 39ms/step - accuracy: 1.0000 - loss: 0.1068 - val_accuracy: 0.6000 - val_loss: 1.0447\n",
            "Epoch 3/10\n",
            "\u001b[1m3/3\u001b[0m \u001b[32m━━━━━━━━━━━━━━━━━━━━\u001b[0m\u001b[37m\u001b[0m \u001b[1m0s\u001b[0m 40ms/step - accuracy: 1.0000 - loss: 0.0239 - val_accuracy: 0.6000 - val_loss: 0.9152\n",
            "Epoch 4/10\n",
            "\u001b[1m3/3\u001b[0m \u001b[32m━━━━━━━━━━━━━━━━━━━━\u001b[0m\u001b[37m\u001b[0m \u001b[1m0s\u001b[0m 46ms/step - accuracy: 1.0000 - loss: 0.0065 - val_accuracy: 0.6000 - val_loss: 0.8389\n",
            "Epoch 5/10\n",
            "\u001b[1m3/3\u001b[0m \u001b[32m━━━━━━━━━━━━━━━━━━━━\u001b[0m\u001b[37m\u001b[0m \u001b[1m0s\u001b[0m 35ms/step - accuracy: 1.0000 - loss: 0.0039 - val_accuracy: 0.6000 - val_loss: 0.7738\n",
            "Epoch 6/10\n",
            "\u001b[1m3/3\u001b[0m \u001b[32m━━━━━━━━━━━━━━━━━━━━\u001b[0m\u001b[37m\u001b[0m \u001b[1m0s\u001b[0m 39ms/step - accuracy: 1.0000 - loss: 0.0036 - val_accuracy: 0.6000 - val_loss: 0.7176\n",
            "Epoch 7/10\n",
            "\u001b[1m3/3\u001b[0m \u001b[32m━━━━━━━━━━━━━━━━━━━━\u001b[0m\u001b[37m\u001b[0m \u001b[1m0s\u001b[0m 50ms/step - accuracy: 1.0000 - loss: 0.0028 - val_accuracy: 0.6000 - val_loss: 0.6701\n",
            "Epoch 8/10\n",
            "\u001b[1m3/3\u001b[0m \u001b[32m━━━━━━━━━━━━━━━━━━━━\u001b[0m\u001b[37m\u001b[0m \u001b[1m0s\u001b[0m 49ms/step - accuracy: 1.0000 - loss: 0.0023 - val_accuracy: 0.8000 - val_loss: 0.6300\n",
            "Epoch 9/10\n",
            "\u001b[1m3/3\u001b[0m \u001b[32m━━━━━━━━━━━━━━━━━━━━\u001b[0m\u001b[37m\u001b[0m \u001b[1m0s\u001b[0m 60ms/step - accuracy: 1.0000 - loss: 0.0051 - val_accuracy: 0.8000 - val_loss: 0.5925\n",
            "Epoch 10/10\n",
            "\u001b[1m3/3\u001b[0m \u001b[32m━━━━━━━━━━━━━━━━━━━━\u001b[0m\u001b[37m\u001b[0m \u001b[1m0s\u001b[0m 54ms/step - accuracy: 1.0000 - loss: 0.0048 - val_accuracy: 0.8000 - val_loss: 0.5576\n",
            "Финальная точность (val_accuracy): 0.8000\n",
            "\n",
            "=== Создание модели 24/9 ===\n",
            "Параметры: vocab_size=20000, window_size=2000, step=500\n",
            "Epoch 1/10\n"
          ]
        },
        {
          "output_type": "stream",
          "name": "stderr",
          "text": [
            "/usr/local/lib/python3.11/dist-packages/keras/src/layers/core/dense.py:87: UserWarning: Do not pass an `input_shape`/`input_dim` argument to a layer. When using Sequential models, prefer using an `Input(shape)` object as the first layer in the model instead.\n",
            "  super().__init__(activity_regularizer=activity_regularizer, **kwargs)\n"
          ]
        },
        {
          "output_type": "stream",
          "name": "stdout",
          "text": [
            "\u001b[1m3/3\u001b[0m \u001b[32m━━━━━━━━━━━━━━━━━━━━\u001b[0m\u001b[37m\u001b[0m \u001b[1m3s\u001b[0m 162ms/step - accuracy: 0.4570 - loss: 1.7907 - val_accuracy: 0.6000 - val_loss: 1.1188\n",
            "Epoch 2/10\n",
            "\u001b[1m3/3\u001b[0m \u001b[32m━━━━━━━━━━━━━━━━━━━━\u001b[0m\u001b[37m\u001b[0m \u001b[1m0s\u001b[0m 47ms/step - accuracy: 0.9820 - loss: 0.1045 - val_accuracy: 0.6000 - val_loss: 0.9784\n",
            "Epoch 3/10\n",
            "\u001b[1m3/3\u001b[0m \u001b[32m━━━━━━━━━━━━━━━━━━━━\u001b[0m\u001b[37m\u001b[0m \u001b[1m0s\u001b[0m 50ms/step - accuracy: 1.0000 - loss: 0.0245 - val_accuracy: 0.6000 - val_loss: 0.9389\n",
            "Epoch 4/10\n",
            "\u001b[1m3/3\u001b[0m \u001b[32m━━━━━━━━━━━━━━━━━━━━\u001b[0m\u001b[37m\u001b[0m \u001b[1m0s\u001b[0m 65ms/step - accuracy: 1.0000 - loss: 0.0279 - val_accuracy: 0.6000 - val_loss: 0.9101\n",
            "Epoch 5/10\n",
            "\u001b[1m3/3\u001b[0m \u001b[32m━━━━━━━━━━━━━━━━━━━━\u001b[0m\u001b[37m\u001b[0m \u001b[1m0s\u001b[0m 38ms/step - accuracy: 1.0000 - loss: 0.0044 - val_accuracy: 0.6000 - val_loss: 0.8650\n",
            "Epoch 6/10\n",
            "\u001b[1m3/3\u001b[0m \u001b[32m━━━━━━━━━━━━━━━━━━━━\u001b[0m\u001b[37m\u001b[0m \u001b[1m0s\u001b[0m 38ms/step - accuracy: 1.0000 - loss: 0.0047 - val_accuracy: 0.6000 - val_loss: 0.8166\n",
            "Epoch 7/10\n",
            "\u001b[1m3/3\u001b[0m \u001b[32m━━━━━━━━━━━━━━━━━━━━\u001b[0m\u001b[37m\u001b[0m \u001b[1m0s\u001b[0m 43ms/step - accuracy: 1.0000 - loss: 0.0053 - val_accuracy: 0.6000 - val_loss: 0.7590\n",
            "Epoch 8/10\n",
            "\u001b[1m3/3\u001b[0m \u001b[32m━━━━━━━━━━━━━━━━━━━━\u001b[0m\u001b[37m\u001b[0m \u001b[1m0s\u001b[0m 38ms/step - accuracy: 1.0000 - loss: 0.0022 - val_accuracy: 0.6000 - val_loss: 0.7005\n",
            "Epoch 9/10\n",
            "\u001b[1m3/3\u001b[0m \u001b[32m━━━━━━━━━━━━━━━━━━━━\u001b[0m\u001b[37m\u001b[0m \u001b[1m0s\u001b[0m 45ms/step - accuracy: 1.0000 - loss: 0.0014 - val_accuracy: 0.8000 - val_loss: 0.6423\n",
            "Epoch 10/10\n",
            "\u001b[1m3/3\u001b[0m \u001b[32m━━━━━━━━━━━━━━━━━━━━\u001b[0m\u001b[37m\u001b[0m \u001b[1m0s\u001b[0m 44ms/step - accuracy: 1.0000 - loss: 0.0024 - val_accuracy: 0.8000 - val_loss: 0.5813\n",
            "Финальная точность (val_accuracy): 0.8000\n",
            "\n",
            "=== Создание модели 25/9 ===\n",
            "Параметры: vocab_size=20000, window_size=3000, step=100\n",
            "Epoch 1/10\n"
          ]
        },
        {
          "output_type": "stream",
          "name": "stderr",
          "text": [
            "/usr/local/lib/python3.11/dist-packages/keras/src/layers/core/dense.py:87: UserWarning: Do not pass an `input_shape`/`input_dim` argument to a layer. When using Sequential models, prefer using an `Input(shape)` object as the first layer in the model instead.\n",
            "  super().__init__(activity_regularizer=activity_regularizer, **kwargs)\n"
          ]
        },
        {
          "output_type": "stream",
          "name": "stdout",
          "text": [
            "\u001b[1m3/3\u001b[0m \u001b[32m━━━━━━━━━━━━━━━━━━━━\u001b[0m\u001b[37m\u001b[0m \u001b[1m3s\u001b[0m 187ms/step - accuracy: 0.3039 - loss: 1.8277 - val_accuracy: 0.8000 - val_loss: 1.0190\n",
            "Epoch 2/10\n",
            "\u001b[1m3/3\u001b[0m \u001b[32m━━━━━━━━━━━━━━━━━━━━\u001b[0m\u001b[37m\u001b[0m \u001b[1m0s\u001b[0m 55ms/step - accuracy: 0.9641 - loss: 0.1866 - val_accuracy: 0.8000 - val_loss: 0.7642\n",
            "Epoch 3/10\n",
            "\u001b[1m3/3\u001b[0m \u001b[32m━━━━━━━━━━━━━━━━━━━━\u001b[0m\u001b[37m\u001b[0m \u001b[1m0s\u001b[0m 74ms/step - accuracy: 1.0000 - loss: 0.0278 - val_accuracy: 0.8000 - val_loss: 0.6785\n",
            "Epoch 4/10\n",
            "\u001b[1m3/3\u001b[0m \u001b[32m━━━━━━━━━━━━━━━━━━━━\u001b[0m\u001b[37m\u001b[0m \u001b[1m0s\u001b[0m 55ms/step - accuracy: 1.0000 - loss: 0.0100 - val_accuracy: 0.8000 - val_loss: 0.6314\n",
            "Epoch 5/10\n",
            "\u001b[1m3/3\u001b[0m \u001b[32m━━━━━━━━━━━━━━━━━━━━\u001b[0m\u001b[37m\u001b[0m \u001b[1m0s\u001b[0m 53ms/step - accuracy: 1.0000 - loss: 0.0070 - val_accuracy: 0.8000 - val_loss: 0.5977\n",
            "Epoch 6/10\n",
            "\u001b[1m3/3\u001b[0m \u001b[32m━━━━━━━━━━━━━━━━━━━━\u001b[0m\u001b[37m\u001b[0m \u001b[1m0s\u001b[0m 42ms/step - accuracy: 1.0000 - loss: 0.0063 - val_accuracy: 0.8000 - val_loss: 0.5692\n",
            "Epoch 7/10\n",
            "\u001b[1m3/3\u001b[0m \u001b[32m━━━━━━━━━━━━━━━━━━━━\u001b[0m\u001b[37m\u001b[0m \u001b[1m0s\u001b[0m 43ms/step - accuracy: 1.0000 - loss: 0.0028 - val_accuracy: 0.8000 - val_loss: 0.5445\n",
            "Epoch 8/10\n",
            "\u001b[1m3/3\u001b[0m \u001b[32m━━━━━━━━━━━━━━━━━━━━\u001b[0m\u001b[37m\u001b[0m \u001b[1m0s\u001b[0m 43ms/step - accuracy: 1.0000 - loss: 0.0085 - val_accuracy: 0.8000 - val_loss: 0.5245\n",
            "Epoch 9/10\n",
            "\u001b[1m3/3\u001b[0m \u001b[32m━━━━━━━━━━━━━━━━━━━━\u001b[0m\u001b[37m\u001b[0m \u001b[1m0s\u001b[0m 41ms/step - accuracy: 1.0000 - loss: 0.0019 - val_accuracy: 0.8000 - val_loss: 0.5048\n",
            "Epoch 10/10\n",
            "\u001b[1m3/3\u001b[0m \u001b[32m━━━━━━━━━━━━━━━━━━━━\u001b[0m\u001b[37m\u001b[0m \u001b[1m0s\u001b[0m 40ms/step - accuracy: 1.0000 - loss: 0.0014 - val_accuracy: 0.8000 - val_loss: 0.4894\n",
            "Финальная точность (val_accuracy): 0.8000\n",
            "\n",
            "=== Создание модели 26/9 ===\n",
            "Параметры: vocab_size=20000, window_size=3000, step=300\n",
            "Epoch 1/10\n"
          ]
        },
        {
          "output_type": "stream",
          "name": "stderr",
          "text": [
            "/usr/local/lib/python3.11/dist-packages/keras/src/layers/core/dense.py:87: UserWarning: Do not pass an `input_shape`/`input_dim` argument to a layer. When using Sequential models, prefer using an `Input(shape)` object as the first layer in the model instead.\n",
            "  super().__init__(activity_regularizer=activity_regularizer, **kwargs)\n"
          ]
        },
        {
          "output_type": "stream",
          "name": "stdout",
          "text": [
            "\u001b[1m3/3\u001b[0m \u001b[32m━━━━━━━━━━━━━━━━━━━━\u001b[0m\u001b[37m\u001b[0m \u001b[1m3s\u001b[0m 167ms/step - accuracy: 0.4391 - loss: 1.5612 - val_accuracy: 0.6000 - val_loss: 0.9705\n",
            "Epoch 2/10\n",
            "\u001b[1m3/3\u001b[0m \u001b[32m━━━━━━━━━━━━━━━━━━━━\u001b[0m\u001b[37m\u001b[0m \u001b[1m0s\u001b[0m 62ms/step - accuracy: 1.0000 - loss: 0.0696 - val_accuracy: 0.6000 - val_loss: 0.8022\n",
            "Epoch 3/10\n",
            "\u001b[1m3/3\u001b[0m \u001b[32m━━━━━━━━━━━━━━━━━━━━\u001b[0m\u001b[37m\u001b[0m \u001b[1m0s\u001b[0m 83ms/step - accuracy: 1.0000 - loss: 0.0174 - val_accuracy: 0.6000 - val_loss: 0.7163\n",
            "Epoch 4/10\n",
            "\u001b[1m3/3\u001b[0m \u001b[32m━━━━━━━━━━━━━━━━━━━━\u001b[0m\u001b[37m\u001b[0m \u001b[1m0s\u001b[0m 43ms/step - accuracy: 1.0000 - loss: 0.0049 - val_accuracy: 0.6000 - val_loss: 0.6526\n",
            "Epoch 5/10\n",
            "\u001b[1m3/3\u001b[0m \u001b[32m━━━━━━━━━━━━━━━━━━━━\u001b[0m\u001b[37m\u001b[0m \u001b[1m0s\u001b[0m 53ms/step - accuracy: 1.0000 - loss: 0.0059 - val_accuracy: 0.6000 - val_loss: 0.6023\n",
            "Epoch 6/10\n",
            "\u001b[1m3/3\u001b[0m \u001b[32m━━━━━━━━━━━━━━━━━━━━\u001b[0m\u001b[37m\u001b[0m \u001b[1m0s\u001b[0m 44ms/step - accuracy: 1.0000 - loss: 0.0033 - val_accuracy: 0.8000 - val_loss: 0.5530\n",
            "Epoch 7/10\n",
            "\u001b[1m3/3\u001b[0m \u001b[32m━━━━━━━━━━━━━━━━━━━━\u001b[0m\u001b[37m\u001b[0m \u001b[1m0s\u001b[0m 42ms/step - accuracy: 1.0000 - loss: 0.0016 - val_accuracy: 0.8000 - val_loss: 0.5074\n",
            "Epoch 8/10\n",
            "\u001b[1m3/3\u001b[0m \u001b[32m━━━━━━━━━━━━━━━━━━━━\u001b[0m\u001b[37m\u001b[0m \u001b[1m0s\u001b[0m 55ms/step - accuracy: 1.0000 - loss: 0.0011 - val_accuracy: 0.8000 - val_loss: 0.4657\n",
            "Epoch 9/10\n",
            "\u001b[1m3/3\u001b[0m \u001b[32m━━━━━━━━━━━━━━━━━━━━\u001b[0m\u001b[37m\u001b[0m \u001b[1m0s\u001b[0m 71ms/step - accuracy: 1.0000 - loss: 0.0019 - val_accuracy: 0.8000 - val_loss: 0.4271\n",
            "Epoch 10/10\n",
            "\u001b[1m3/3\u001b[0m \u001b[32m━━━━━━━━━━━━━━━━━━━━\u001b[0m\u001b[37m\u001b[0m \u001b[1m0s\u001b[0m 60ms/step - accuracy: 1.0000 - loss: 0.0030 - val_accuracy: 1.0000 - val_loss: 0.3933\n",
            "Финальная точность (val_accuracy): 1.0000\n",
            "\n",
            "=== Создание модели 27/9 ===\n",
            "Параметры: vocab_size=20000, window_size=3000, step=500\n",
            "Epoch 1/10\n"
          ]
        },
        {
          "output_type": "stream",
          "name": "stderr",
          "text": [
            "/usr/local/lib/python3.11/dist-packages/keras/src/layers/core/dense.py:87: UserWarning: Do not pass an `input_shape`/`input_dim` argument to a layer. When using Sequential models, prefer using an `Input(shape)` object as the first layer in the model instead.\n",
            "  super().__init__(activity_regularizer=activity_regularizer, **kwargs)\n"
          ]
        },
        {
          "output_type": "stream",
          "name": "stdout",
          "text": [
            "\u001b[1m3/3\u001b[0m \u001b[32m━━━━━━━━━━━━━━━━━━━━\u001b[0m\u001b[37m\u001b[0m \u001b[1m4s\u001b[0m 260ms/step - accuracy: 0.4305 - loss: 1.7577 - val_accuracy: 0.8000 - val_loss: 1.0810\n",
            "Epoch 2/10\n",
            "\u001b[1m3/3\u001b[0m \u001b[32m━━━━━━━━━━━━━━━━━━━━\u001b[0m\u001b[37m\u001b[0m \u001b[1m0s\u001b[0m 46ms/step - accuracy: 0.9719 - loss: 0.1260 - val_accuracy: 0.8000 - val_loss: 0.8529\n",
            "Epoch 3/10\n",
            "\u001b[1m3/3\u001b[0m \u001b[32m━━━━━━━━━━━━━━━━━━━━\u001b[0m\u001b[37m\u001b[0m \u001b[1m0s\u001b[0m 54ms/step - accuracy: 1.0000 - loss: 0.0319 - val_accuracy: 0.8000 - val_loss: 0.7326\n",
            "Epoch 4/10\n",
            "\u001b[1m3/3\u001b[0m \u001b[32m━━━━━━━━━━━━━━━━━━━━\u001b[0m\u001b[37m\u001b[0m \u001b[1m0s\u001b[0m 60ms/step - accuracy: 1.0000 - loss: 0.0119 - val_accuracy: 0.8000 - val_loss: 0.6580\n",
            "Epoch 5/10\n",
            "\u001b[1m3/3\u001b[0m \u001b[32m━━━━━━━━━━━━━━━━━━━━\u001b[0m\u001b[37m\u001b[0m \u001b[1m0s\u001b[0m 42ms/step - accuracy: 1.0000 - loss: 0.0075 - val_accuracy: 0.8000 - val_loss: 0.6022\n",
            "Epoch 6/10\n",
            "\u001b[1m3/3\u001b[0m \u001b[32m━━━━━━━━━━━━━━━━━━━━\u001b[0m\u001b[37m\u001b[0m \u001b[1m0s\u001b[0m 58ms/step - accuracy: 1.0000 - loss: 0.0035 - val_accuracy: 0.8000 - val_loss: 0.5565\n",
            "Epoch 7/10\n",
            "\u001b[1m3/3\u001b[0m \u001b[32m━━━━━━━━━━━━━━━━━━━━\u001b[0m\u001b[37m\u001b[0m \u001b[1m0s\u001b[0m 59ms/step - accuracy: 1.0000 - loss: 0.0081 - val_accuracy: 0.8000 - val_loss: 0.5196\n",
            "Epoch 8/10\n",
            "\u001b[1m3/3\u001b[0m \u001b[32m━━━━━━━━━━━━━━━━━━━━\u001b[0m\u001b[37m\u001b[0m \u001b[1m0s\u001b[0m 63ms/step - accuracy: 1.0000 - loss: 0.0026 - val_accuracy: 0.8000 - val_loss: 0.4839\n",
            "Epoch 9/10\n",
            "\u001b[1m3/3\u001b[0m \u001b[32m━━━━━━━━━━━━━━━━━━━━\u001b[0m\u001b[37m\u001b[0m \u001b[1m0s\u001b[0m 48ms/step - accuracy: 1.0000 - loss: 0.0049 - val_accuracy: 0.8000 - val_loss: 0.4481\n",
            "Epoch 10/10\n",
            "\u001b[1m3/3\u001b[0m \u001b[32m━━━━━━━━━━━━━━━━━━━━\u001b[0m\u001b[37m\u001b[0m \u001b[1m0s\u001b[0m 49ms/step - accuracy: 1.0000 - loss: 0.0019 - val_accuracy: 0.8000 - val_loss: 0.4170\n",
            "Финальная точность (val_accuracy): 0.8000\n"
          ]
        }
      ]
    },
    {
      "cell_type": "code",
      "source": [
        "# Вывод результатов\n",
        "print(\"\\n=== РЕЗУЛЬТАТЫ ВСЕХ МОДЕЛЕЙ ===\")\n",
        "results_df = pd.DataFrame(results)\n",
        "print(results_df.sort_values('val_accuracy', ascending=False))\n",
        "\n",
        "# Нахождение лучшей модели\n",
        "best_model = results_df.loc[results_df['val_accuracy'].idxmax()]\n",
        "print(f\"\\n=== ЛУЧШАЯ МОДЕЛЬ ===\")\n",
        "print(f\"Модель №{best_model['model_number']}\")\n",
        "print(f\"Параметры: vocab_size={best_model['vocab_size']}, \"\n",
        "      f\"window_size={best_model['window_size']}, step={best_model['step']}\")\n",
        "print(f\"Точность: {best_model['val_accuracy']:.4f}\")"
      ],
      "metadata": {
        "id": "1ExuMeV93pM9",
        "colab": {
          "base_uri": "https://localhost:8080/"
        },
        "outputId": "d1290e5c-48a5-450f-b061-c01483ae10d2"
      },
      "execution_count": 20,
      "outputs": [
        {
          "output_type": "stream",
          "name": "stdout",
          "text": [
            "\n",
            "=== РЕЗУЛЬТАТЫ ВСЕХ МОДЕЛЕЙ ===\n",
            "    model_number  vocab_size  window_size  step  val_accuracy\n",
            "18            19       20000         1000   100           1.0\n",
            "25            26       20000         3000   300           1.0\n",
            "0              1       10000         1000   100           0.8\n",
            "3              4       10000         2000   100           0.8\n",
            "4              5       10000         2000   300           0.8\n",
            "5              6       10000         2000   500           0.8\n",
            "6              7       10000         3000   100           0.8\n",
            "7              8       10000         3000   300           0.8\n",
            "8              9       10000         3000   500           0.8\n",
            "1              2       10000         1000   300           0.8\n",
            "2              3       10000         1000   500           0.8\n",
            "10            11       15000         1000   300           0.8\n",
            "9             10       15000         1000   100           0.8\n",
            "13            14       15000         2000   300           0.8\n",
            "11            12       15000         1000   500           0.8\n",
            "16            17       15000         3000   300           0.8\n",
            "15            16       15000         3000   100           0.8\n",
            "17            18       15000         3000   500           0.8\n",
            "12            13       15000         2000   100           0.8\n",
            "22            23       20000         2000   300           0.8\n",
            "19            20       20000         1000   300           0.8\n",
            "21            22       20000         2000   100           0.8\n",
            "20            21       20000         1000   500           0.8\n",
            "24            25       20000         3000   100           0.8\n",
            "23            24       20000         2000   500           0.8\n",
            "26            27       20000         3000   500           0.8\n",
            "14            15       15000         2000   500           0.6\n",
            "\n",
            "=== ЛУЧШАЯ МОДЕЛЬ ===\n",
            "Модель №19.0\n",
            "Параметры: vocab_size=20000.0, window_size=1000.0, step=100.0\n",
            "Точность: 1.0000\n"
          ]
        }
      ]
    },
    {
      "cell_type": "markdown",
      "source": [
        "# Задание 2. Решение задачи регрессии с помощью нейронных сетей.\n",
        "\n",
        "На основе подготовленной для нейросети таблицы данных с HeadHunter создайте 6 архитектур нейросетей, поэкспериментируйте с гиперпараметрами.\n",
        "\n",
        "Результаты в конце проанализируйте.\n",
        "\n",
        "Перед началом выполнения, пожалуйста, запустите раздел \"Подготовка\"."
      ],
      "metadata": {
        "id": "eq-A7RbOqSEw"
      }
    },
    {
      "cell_type": "markdown",
      "metadata": {
        "id": "zjsDkd2D_-cj"
      },
      "source": [
        "## Подготовка"
      ]
    },
    {
      "cell_type": "code",
      "metadata": {
        "id": "EOjQlKFqKLXw"
      },
      "source": [
        "# Работа с массивами данных\n",
        "import numpy as np\n",
        "\n",
        "# Работа с табличными данными\n",
        "import pandas as pd\n",
        "\n",
        "# Функции-утилиты для работы с категориальными данными\n",
        "from tensorflow.keras import utils\n",
        "\n",
        "# Класс для конструирования последовательной модели нейронной сети\n",
        "from tensorflow.keras.models import Sequential, Model\n",
        "\n",
        "# Основные слои\n",
        "from tensorflow.keras.layers import Dense, Dropout, SpatialDropout1D, BatchNormalization, Embedding, Flatten, Activation, Input, concatenate\n",
        "from tensorflow.keras.layers import SimpleRNN, GRU, LSTM, Bidirectional, Conv1D, MaxPooling1D, GlobalMaxPooling1D\n",
        "\n",
        "# Оптимизаторы\n",
        "from tensorflow.keras.optimizers import Adam, Adadelta, SGD, Adagrad, RMSprop\n",
        "\n",
        "# Токенизатор для преобразование текстов в последовательности\n",
        "from tensorflow.keras.preprocessing.text import Tokenizer\n",
        "\n",
        "# Масштабирование данных\n",
        "from sklearn.preprocessing import StandardScaler\n",
        "\n",
        "# Загрузка датасетов из облака google\n",
        "import gdown\n",
        "\n",
        "# Регулярные выражения\n",
        "import re\n",
        "\n",
        "# Отрисовка графиков\n",
        "import matplotlib.pyplot as plt\n",
        "\n",
        "# Метрики для расчета ошибок\n",
        "from sklearn.metrics import mean_squared_error, mean_absolute_error\n",
        "\n",
        "%matplotlib inline"
      ],
      "execution_count": null,
      "outputs": []
    },
    {
      "cell_type": "code",
      "metadata": {
        "colab": {
          "base_uri": "https://localhost:8080/",
          "height": 335
        },
        "id": "6ZWqBAzwB8JK",
        "outputId": "074b0eec-7c23-4a15-9d54-e009609482ac"
      },
      "source": [
        "# скачиваем базу\n",
        "gdown.download('https://storage.yandexcloud.net/aiueducation/Content/base/l10/hh_fixed.csv', None, quiet=True)\n",
        "\n",
        "# Чтение файла базы данных\n",
        "df = pd.read_csv('hh_fixed.csv', index_col=0)\n",
        "\n",
        "# Вывод количества резюме и числа признаков\n",
        "print(df.shape)\n",
        "\n",
        "df.head(3)"
      ],
      "execution_count": null,
      "outputs": [
        {
          "output_type": "stream",
          "name": "stdout",
          "text": [
            "(62967, 12)\n"
          ]
        },
        {
          "output_type": "execute_result",
          "data": {
            "text/plain": [
              "                               Пол, возраст           ЗП  \\\n",
              "0   Мужчина ,  29 лет , родился 16 мая 1989   40000 руб.   \n",
              "1   Мужчина ,  38 лет , родился 25 мая 1980   40000 руб.   \n",
              "2  Мужчина ,  35 лет , родился 14 июня 1983  300000 руб.   \n",
              "\n",
              "                           Ищет работу на должность:  \\\n",
              "0  Специалист по поддержке чата(support team) дом...   \n",
              "1                            Системный администратор   \n",
              "2                DevOps TeamLead / DevOps архитектор   \n",
              "\n",
              "                                               Город         Занятость  \\\n",
              "0  Новороссийск , готов к переезду (Анапа, Геленд...  полная занятость   \n",
              "1  Новосибирск ,  м. Березовая роща , не готов к ...  полная занятость   \n",
              "2  Москва , готов к переезду , готов к редким ком...  полная занятость   \n",
              "\n",
              "        График           Опыт (двойное нажатие для полной версии)  \\\n",
              "0  полный день  Опыт работы 3 года 9 месяцев  Специалист по по...   \n",
              "1  полный день  Опыт работы 11 лет 11 месяцев  Системный админ...   \n",
              "2  полный день  Опыт работы 12 лет 11 месяцев  DevOps TeamLead...   \n",
              "\n",
              "   Последенее/нынешнее место работы  \\\n",
              "0                  ООО \"Гольфстрим\"   \n",
              "1  ООО «Завод модульных технологий»   \n",
              "2                    Банк ВТБ (ПАО)   \n",
              "\n",
              "                       Последеняя/нынешняя должность  \\\n",
              "0                               Генеральный директор   \n",
              "1                            Системный администратор   \n",
              "2  Начальник отдела методологии разработки (DevOp...   \n",
              "\n",
              "                                   Образование и ВУЗ Обновление резюме  \\\n",
              "0  Высшее образование 2011  Международный юридиче...  26.04.2019 08:04   \n",
              "1  Высшее образование 2002 Новосибирский государс...  26.04.2019 04:30   \n",
              "2  DevOps TeamLead / DevOps архитектор 300 000 ру...  09.04.2019 14:40   \n",
              "\n",
              "         Авто  \n",
              "0  Не указано  \n",
              "1  Не указано  \n",
              "2  Не указано  "
            ],
            "text/html": [
              "\n",
              "  <div id=\"df-8742b7f3-e3e3-469e-8d87-0081c3784169\" class=\"colab-df-container\">\n",
              "    <div>\n",
              "<style scoped>\n",
              "    .dataframe tbody tr th:only-of-type {\n",
              "        vertical-align: middle;\n",
              "    }\n",
              "\n",
              "    .dataframe tbody tr th {\n",
              "        vertical-align: top;\n",
              "    }\n",
              "\n",
              "    .dataframe thead th {\n",
              "        text-align: right;\n",
              "    }\n",
              "</style>\n",
              "<table border=\"1\" class=\"dataframe\">\n",
              "  <thead>\n",
              "    <tr style=\"text-align: right;\">\n",
              "      <th></th>\n",
              "      <th>Пол, возраст</th>\n",
              "      <th>ЗП</th>\n",
              "      <th>Ищет работу на должность:</th>\n",
              "      <th>Город</th>\n",
              "      <th>Занятость</th>\n",
              "      <th>График</th>\n",
              "      <th>Опыт (двойное нажатие для полной версии)</th>\n",
              "      <th>Последенее/нынешнее место работы</th>\n",
              "      <th>Последеняя/нынешняя должность</th>\n",
              "      <th>Образование и ВУЗ</th>\n",
              "      <th>Обновление резюме</th>\n",
              "      <th>Авто</th>\n",
              "    </tr>\n",
              "  </thead>\n",
              "  <tbody>\n",
              "    <tr>\n",
              "      <th>0</th>\n",
              "      <td>Мужчина ,  29 лет , родился 16 мая 1989</td>\n",
              "      <td>40000 руб.</td>\n",
              "      <td>Специалист по поддержке чата(support team) дом...</td>\n",
              "      <td>Новороссийск , готов к переезду (Анапа, Геленд...</td>\n",
              "      <td>полная занятость</td>\n",
              "      <td>полный день</td>\n",
              "      <td>Опыт работы 3 года 9 месяцев  Специалист по по...</td>\n",
              "      <td>ООО \"Гольфстрим\"</td>\n",
              "      <td>Генеральный директор</td>\n",
              "      <td>Высшее образование 2011  Международный юридиче...</td>\n",
              "      <td>26.04.2019 08:04</td>\n",
              "      <td>Не указано</td>\n",
              "    </tr>\n",
              "    <tr>\n",
              "      <th>1</th>\n",
              "      <td>Мужчина ,  38 лет , родился 25 мая 1980</td>\n",
              "      <td>40000 руб.</td>\n",
              "      <td>Системный администратор</td>\n",
              "      <td>Новосибирск ,  м. Березовая роща , не готов к ...</td>\n",
              "      <td>полная занятость</td>\n",
              "      <td>полный день</td>\n",
              "      <td>Опыт работы 11 лет 11 месяцев  Системный админ...</td>\n",
              "      <td>ООО «Завод модульных технологий»</td>\n",
              "      <td>Системный администратор</td>\n",
              "      <td>Высшее образование 2002 Новосибирский государс...</td>\n",
              "      <td>26.04.2019 04:30</td>\n",
              "      <td>Не указано</td>\n",
              "    </tr>\n",
              "    <tr>\n",
              "      <th>2</th>\n",
              "      <td>Мужчина ,  35 лет , родился 14 июня 1983</td>\n",
              "      <td>300000 руб.</td>\n",
              "      <td>DevOps TeamLead / DevOps архитектор</td>\n",
              "      <td>Москва , готов к переезду , готов к редким ком...</td>\n",
              "      <td>полная занятость</td>\n",
              "      <td>полный день</td>\n",
              "      <td>Опыт работы 12 лет 11 месяцев  DevOps TeamLead...</td>\n",
              "      <td>Банк ВТБ (ПАО)</td>\n",
              "      <td>Начальник отдела методологии разработки (DevOp...</td>\n",
              "      <td>DevOps TeamLead / DevOps архитектор 300 000 ру...</td>\n",
              "      <td>09.04.2019 14:40</td>\n",
              "      <td>Не указано</td>\n",
              "    </tr>\n",
              "  </tbody>\n",
              "</table>\n",
              "</div>\n",
              "    <div class=\"colab-df-buttons\">\n",
              "\n",
              "  <div class=\"colab-df-container\">\n",
              "    <button class=\"colab-df-convert\" onclick=\"convertToInteractive('df-8742b7f3-e3e3-469e-8d87-0081c3784169')\"\n",
              "            title=\"Convert this dataframe to an interactive table.\"\n",
              "            style=\"display:none;\">\n",
              "\n",
              "  <svg xmlns=\"http://www.w3.org/2000/svg\" height=\"24px\" viewBox=\"0 -960 960 960\">\n",
              "    <path d=\"M120-120v-720h720v720H120Zm60-500h600v-160H180v160Zm220 220h160v-160H400v160Zm0 220h160v-160H400v160ZM180-400h160v-160H180v160Zm440 0h160v-160H620v160ZM180-180h160v-160H180v160Zm440 0h160v-160H620v160Z\"/>\n",
              "  </svg>\n",
              "    </button>\n",
              "\n",
              "  <style>\n",
              "    .colab-df-container {\n",
              "      display:flex;\n",
              "      gap: 12px;\n",
              "    }\n",
              "\n",
              "    .colab-df-convert {\n",
              "      background-color: #E8F0FE;\n",
              "      border: none;\n",
              "      border-radius: 50%;\n",
              "      cursor: pointer;\n",
              "      display: none;\n",
              "      fill: #1967D2;\n",
              "      height: 32px;\n",
              "      padding: 0 0 0 0;\n",
              "      width: 32px;\n",
              "    }\n",
              "\n",
              "    .colab-df-convert:hover {\n",
              "      background-color: #E2EBFA;\n",
              "      box-shadow: 0px 1px 2px rgba(60, 64, 67, 0.3), 0px 1px 3px 1px rgba(60, 64, 67, 0.15);\n",
              "      fill: #174EA6;\n",
              "    }\n",
              "\n",
              "    .colab-df-buttons div {\n",
              "      margin-bottom: 4px;\n",
              "    }\n",
              "\n",
              "    [theme=dark] .colab-df-convert {\n",
              "      background-color: #3B4455;\n",
              "      fill: #D2E3FC;\n",
              "    }\n",
              "\n",
              "    [theme=dark] .colab-df-convert:hover {\n",
              "      background-color: #434B5C;\n",
              "      box-shadow: 0px 1px 3px 1px rgba(0, 0, 0, 0.15);\n",
              "      filter: drop-shadow(0px 1px 2px rgba(0, 0, 0, 0.3));\n",
              "      fill: #FFFFFF;\n",
              "    }\n",
              "  </style>\n",
              "\n",
              "    <script>\n",
              "      const buttonEl =\n",
              "        document.querySelector('#df-8742b7f3-e3e3-469e-8d87-0081c3784169 button.colab-df-convert');\n",
              "      buttonEl.style.display =\n",
              "        google.colab.kernel.accessAllowed ? 'block' : 'none';\n",
              "\n",
              "      async function convertToInteractive(key) {\n",
              "        const element = document.querySelector('#df-8742b7f3-e3e3-469e-8d87-0081c3784169');\n",
              "        const dataTable =\n",
              "          await google.colab.kernel.invokeFunction('convertToInteractive',\n",
              "                                                    [key], {});\n",
              "        if (!dataTable) return;\n",
              "\n",
              "        const docLinkHtml = 'Like what you see? Visit the ' +\n",
              "          '<a target=\"_blank\" href=https://colab.research.google.com/notebooks/data_table.ipynb>data table notebook</a>'\n",
              "          + ' to learn more about interactive tables.';\n",
              "        element.innerHTML = '';\n",
              "        dataTable['output_type'] = 'display_data';\n",
              "        await google.colab.output.renderOutput(dataTable, element);\n",
              "        const docLink = document.createElement('div');\n",
              "        docLink.innerHTML = docLinkHtml;\n",
              "        element.appendChild(docLink);\n",
              "      }\n",
              "    </script>\n",
              "  </div>\n",
              "\n",
              "\n",
              "<div id=\"df-343b5c4f-a5de-4e98-941f-056fd65882ed\">\n",
              "  <button class=\"colab-df-quickchart\" onclick=\"quickchart('df-343b5c4f-a5de-4e98-941f-056fd65882ed')\"\n",
              "            title=\"Suggest charts.\"\n",
              "            style=\"display:none;\">\n",
              "\n",
              "<svg xmlns=\"http://www.w3.org/2000/svg\" height=\"24px\"viewBox=\"0 0 24 24\"\n",
              "     width=\"24px\">\n",
              "    <g>\n",
              "        <path d=\"M19 3H5c-1.1 0-2 .9-2 2v14c0 1.1.9 2 2 2h14c1.1 0 2-.9 2-2V5c0-1.1-.9-2-2-2zM9 17H7v-7h2v7zm4 0h-2V7h2v10zm4 0h-2v-4h2v4z\"/>\n",
              "    </g>\n",
              "</svg>\n",
              "  </button>\n",
              "\n",
              "<style>\n",
              "  .colab-df-quickchart {\n",
              "      --bg-color: #E8F0FE;\n",
              "      --fill-color: #1967D2;\n",
              "      --hover-bg-color: #E2EBFA;\n",
              "      --hover-fill-color: #174EA6;\n",
              "      --disabled-fill-color: #AAA;\n",
              "      --disabled-bg-color: #DDD;\n",
              "  }\n",
              "\n",
              "  [theme=dark] .colab-df-quickchart {\n",
              "      --bg-color: #3B4455;\n",
              "      --fill-color: #D2E3FC;\n",
              "      --hover-bg-color: #434B5C;\n",
              "      --hover-fill-color: #FFFFFF;\n",
              "      --disabled-bg-color: #3B4455;\n",
              "      --disabled-fill-color: #666;\n",
              "  }\n",
              "\n",
              "  .colab-df-quickchart {\n",
              "    background-color: var(--bg-color);\n",
              "    border: none;\n",
              "    border-radius: 50%;\n",
              "    cursor: pointer;\n",
              "    display: none;\n",
              "    fill: var(--fill-color);\n",
              "    height: 32px;\n",
              "    padding: 0;\n",
              "    width: 32px;\n",
              "  }\n",
              "\n",
              "  .colab-df-quickchart:hover {\n",
              "    background-color: var(--hover-bg-color);\n",
              "    box-shadow: 0 1px 2px rgba(60, 64, 67, 0.3), 0 1px 3px 1px rgba(60, 64, 67, 0.15);\n",
              "    fill: var(--button-hover-fill-color);\n",
              "  }\n",
              "\n",
              "  .colab-df-quickchart-complete:disabled,\n",
              "  .colab-df-quickchart-complete:disabled:hover {\n",
              "    background-color: var(--disabled-bg-color);\n",
              "    fill: var(--disabled-fill-color);\n",
              "    box-shadow: none;\n",
              "  }\n",
              "\n",
              "  .colab-df-spinner {\n",
              "    border: 2px solid var(--fill-color);\n",
              "    border-color: transparent;\n",
              "    border-bottom-color: var(--fill-color);\n",
              "    animation:\n",
              "      spin 1s steps(1) infinite;\n",
              "  }\n",
              "\n",
              "  @keyframes spin {\n",
              "    0% {\n",
              "      border-color: transparent;\n",
              "      border-bottom-color: var(--fill-color);\n",
              "      border-left-color: var(--fill-color);\n",
              "    }\n",
              "    20% {\n",
              "      border-color: transparent;\n",
              "      border-left-color: var(--fill-color);\n",
              "      border-top-color: var(--fill-color);\n",
              "    }\n",
              "    30% {\n",
              "      border-color: transparent;\n",
              "      border-left-color: var(--fill-color);\n",
              "      border-top-color: var(--fill-color);\n",
              "      border-right-color: var(--fill-color);\n",
              "    }\n",
              "    40% {\n",
              "      border-color: transparent;\n",
              "      border-right-color: var(--fill-color);\n",
              "      border-top-color: var(--fill-color);\n",
              "    }\n",
              "    60% {\n",
              "      border-color: transparent;\n",
              "      border-right-color: var(--fill-color);\n",
              "    }\n",
              "    80% {\n",
              "      border-color: transparent;\n",
              "      border-right-color: var(--fill-color);\n",
              "      border-bottom-color: var(--fill-color);\n",
              "    }\n",
              "    90% {\n",
              "      border-color: transparent;\n",
              "      border-bottom-color: var(--fill-color);\n",
              "    }\n",
              "  }\n",
              "</style>\n",
              "\n",
              "  <script>\n",
              "    async function quickchart(key) {\n",
              "      const quickchartButtonEl =\n",
              "        document.querySelector('#' + key + ' button');\n",
              "      quickchartButtonEl.disabled = true;  // To prevent multiple clicks.\n",
              "      quickchartButtonEl.classList.add('colab-df-spinner');\n",
              "      try {\n",
              "        const charts = await google.colab.kernel.invokeFunction(\n",
              "            'suggestCharts', [key], {});\n",
              "      } catch (error) {\n",
              "        console.error('Error during call to suggestCharts:', error);\n",
              "      }\n",
              "      quickchartButtonEl.classList.remove('colab-df-spinner');\n",
              "      quickchartButtonEl.classList.add('colab-df-quickchart-complete');\n",
              "    }\n",
              "    (() => {\n",
              "      let quickchartButtonEl =\n",
              "        document.querySelector('#df-343b5c4f-a5de-4e98-941f-056fd65882ed button');\n",
              "      quickchartButtonEl.style.display =\n",
              "        google.colab.kernel.accessAllowed ? 'block' : 'none';\n",
              "    })();\n",
              "  </script>\n",
              "</div>\n",
              "    </div>\n",
              "  </div>\n"
            ]
          },
          "metadata": {},
          "execution_count": 2
        }
      ]
    },
    {
      "cell_type": "code",
      "metadata": {
        "id": "34V0BDMg9bku"
      },
      "source": [
        "# Настройка номеров столбцов\n",
        "\n",
        "COL_SEX_AGE     = df.columns.get_loc('Пол, возраст')\n",
        "COL_SALARY      = df.columns.get_loc('ЗП')\n",
        "COL_POS_SEEK    = df.columns.get_loc('Ищет работу на должность:')\n",
        "COL_POS_PREV    = df.columns.get_loc('Последеняя/нынешняя должность')\n",
        "COL_CITY        = df.columns.get_loc('Город')\n",
        "COL_EMPL        = df.columns.get_loc('Занятость')\n",
        "COL_SCHED       = df.columns.get_loc('График')\n",
        "COL_EXP         = df.columns.get_loc('Опыт (двойное нажатие для полной версии)')\n",
        "COL_EDU         = df.columns.get_loc('Образование и ВУЗ')\n",
        "COL_UPDATED     = df.columns.get_loc('Обновление резюме')"
      ],
      "execution_count": null,
      "outputs": []
    },
    {
      "cell_type": "code",
      "metadata": {
        "id": "ZttFUMQLC5ed"
      },
      "source": [
        "# Замена концов строк на пробелы, удаление символа с кодом 0xA0\n",
        "# обрезка краевых пробелов, приведение к нижнему регистру\n",
        "\n",
        "def purify(x):\n",
        "    if isinstance(x, str):                # Если значение - строка:\n",
        "        x = x.replace('\\n', ' ').replace('\\xa0', '').strip().lower()\n",
        "    return x"
      ],
      "execution_count": null,
      "outputs": []
    },
    {
      "cell_type": "code",
      "metadata": {
        "id": "tem1bwgj1ITN"
      },
      "source": [
        "# Выделение подстроки вида ДД.ММ.ГГГГ и возвращение значения года\n",
        "\n",
        "def extract_year(x):\n",
        "    try:\n",
        "        return int(re.search(r'\\d\\d.\\d\\d.(\\d{4})', x)[1])   # Ожидается строка вида 'dd.mm.yyyy ...'\n",
        "\n",
        "    except (IndexError, TypeError, ValueError):\n",
        "        return 0"
      ],
      "execution_count": null,
      "outputs": []
    },
    {
      "cell_type": "code",
      "metadata": {
        "id": "DFq-_gswjtQy"
      },
      "source": [
        "### Параметрические данные для функций разбора ###\n",
        "\n",
        "# Курсы валют для зарплат\n",
        "currency_rate = {'usd'    : 65.,\n",
        "                 'kzt'    : 0.17,\n",
        "                 'грн'    : 2.6,\n",
        "                 'белруб' : 30.5,\n",
        "                 'eur'    : 70.,\n",
        "                 'kgs'    : 0.9,\n",
        "                 'сум'    : 0.007,\n",
        "                 'azn'    : 37.5\n",
        "                }\n",
        "\n",
        "# Списки и словари для разбиения на классы\n",
        "# Для ускорения работы добавлен счетчик классов, который будет вычислен ниже\n",
        "\n",
        "# Список порогов возраста\n",
        "age_class = [0, [18, 23, 28, 33, 38, 43, 48, 53, 58, 63]]\n",
        "\n",
        "# Список порогов опыта работы в месяцах\n",
        "experience_class = [0, [7, 13, 25, 37, 61, 97, 121, 157, 193, 241]]\n",
        "\n",
        "# Классы городов\n",
        "city_class = [0,\n",
        "              {'москва'          : 0,\n",
        "               'санкт-петербург' : 1,\n",
        "               'новосибирск'     : 2,\n",
        "               'екатеринбург'    : 2,\n",
        "               'нижний новгород' : 2,\n",
        "               'казань'          : 2,\n",
        "               'челябинск'       : 2,\n",
        "               'омск'            : 2,\n",
        "               'самара'          : 2,\n",
        "               'ростов-на-дону'  : 2,\n",
        "               'уфа'             : 2,\n",
        "               'красноярск'      : 2,\n",
        "               'пермь'           : 2,\n",
        "               'воронеж'         : 2,\n",
        "               'волгоград'       : 2,\n",
        "               'прочие города'   : 3\n",
        "              }]\n",
        "\n",
        "# Классы занятости\n",
        "employment_class = [0,\n",
        "                    {'стажировка'          : 0,\n",
        "                     'частичная занятость' : 1,\n",
        "                     'проектная работа'    : 2,\n",
        "                     'полная занятость'    : 3\n",
        "                    }]\n",
        "\n",
        "# Классы графика работы\n",
        "schedule_class = [0,\n",
        "                  {'гибкий график'         : 0,\n",
        "                   'полный день'           : 1,\n",
        "                   'сменный график'        : 2,\n",
        "                   'удаленная работа'      : 3\n",
        "                  }]\n",
        "\n",
        "# Классы образования\n",
        "education_class = [0,\n",
        "                   {'высшее образование'   : 0,\n",
        "                    'higher education'     : 0,\n",
        "                    'среднее специальное'  : 1,\n",
        "                    'неоконченное высшее'  : 2,\n",
        "                    'среднее образование'  : 3\n",
        "                   }]\n"
      ],
      "execution_count": null,
      "outputs": []
    },
    {
      "cell_type": "code",
      "metadata": {
        "id": "pDUQlvhRjtWG"
      },
      "source": [
        "# Вычисление счетчиков для данных разбиения\n",
        "\n",
        "for class_desc in [age_class,\n",
        "                   experience_class,\n",
        "                   city_class,\n",
        "                   employment_class,\n",
        "                   schedule_class,\n",
        "                   education_class]:\n",
        "    if isinstance(class_desc[1], list):\n",
        "        class_desc[0] = len(class_desc[1]) + 1\n",
        "    else:\n",
        "        class_desc[0] = max(class_desc[1].values()) + 1"
      ],
      "execution_count": null,
      "outputs": []
    },
    {
      "cell_type": "code",
      "metadata": {
        "id": "MZwdS84MGS7D"
      },
      "source": [
        " # Получение one hot encoding представления значения класса\n",
        "\n",
        " def int_to_ohe(arg, class_list):\n",
        "\n",
        "    # Определение размерности выходного вектора\n",
        "    num_classes = class_list[0]\n",
        "\n",
        "    # Поиск верного интервала для входного значения\n",
        "    for i in range(num_classes - 1):\n",
        "        if arg < class_list[1][i]:\n",
        "            cls = i                       # Интервал найден - назначение класса\n",
        "            break\n",
        "    else:                                 # Внимание: for/else\n",
        "        cls = num_classes - 1             # Интервал не найден - последний класс\n",
        "\n",
        "    # Возврат в виде one hot encoding-вектора\n",
        "    return utils.to_categorical(cls, num_classes)"
      ],
      "execution_count": null,
      "outputs": []
    },
    {
      "cell_type": "code",
      "metadata": {
        "id": "LlFhkM0RAbsr"
      },
      "source": [
        "# Общая функция преобразования строки к multi-вектору\n",
        "# На входе данные и словарь сопоставления подстрок классам\n",
        "\n",
        "def str_to_multi(arg, class_dict):\n",
        "    # Определение размерности выходного вектора\n",
        "    num_classes = class_dict[0]\n",
        "\n",
        "    # Создание нулевого вектора\n",
        "    result = np.zeros(num_classes)\n",
        "\n",
        "    # Поиск значения в словаре и, если найдено,\n",
        "    # выставление 1. на нужной позиции\n",
        "    for value, cls in class_dict[1].items():\n",
        "        if value in arg:\n",
        "            result[cls] = 1.\n",
        "\n",
        "    return result"
      ],
      "execution_count": null,
      "outputs": []
    },
    {
      "cell_type": "code",
      "metadata": {
        "id": "6ijWpsP8C89r"
      },
      "source": [
        "# Разбор значений пола, возраста\n",
        "\n",
        "base_update_year = 2019\n",
        "\n",
        "def extract_sex_age_years(arg):\n",
        "    # Ожидается, что значение содержит \"мужчина\" или \"женщина\"\n",
        "    # Если \"мужчина\" - результат 1., иначе 0.\n",
        "    sex = 1. if 'муж' in arg else 0.\n",
        "\n",
        "    try:\n",
        "        # Выделение года и вычисление возраста\n",
        "        years = base_update_year - int(re.search(r'\\d{4}', arg)[0])\n",
        "\n",
        "    except (IndexError, TypeError, ValueError):\n",
        "        # В случае ошибки год равен 0\n",
        "        years = 0\n",
        "\n",
        "    return sex, years"
      ],
      "execution_count": null,
      "outputs": []
    },
    {
      "cell_type": "code",
      "metadata": {
        "id": "ybrMkaYXFNl6"
      },
      "source": [
        "# Преобразование значения возраста в one hot encoding\n",
        "\n",
        "def age_years_to_ohe(arg):\n",
        "    return int_to_ohe(arg, age_class)"
      ],
      "execution_count": null,
      "outputs": []
    },
    {
      "cell_type": "code",
      "metadata": {
        "id": "j3Vhf8Y4GHFJ"
      },
      "source": [
        "# Преобразование данных об опыте работы в one hot encoding\n",
        "\n",
        "def experience_months_to_ohe(arg):\n",
        "    return int_to_ohe(arg, experience_class)"
      ],
      "execution_count": null,
      "outputs": []
    },
    {
      "cell_type": "code",
      "metadata": {
        "id": "lAlv_61TFW-4"
      },
      "source": [
        "# Разбор значения зарплаты\n",
        "\n",
        "def extract_salary(arg):\n",
        "    try:\n",
        "        # Выделение числа и преобразование к float\n",
        "        value = float(re.search(r'\\d+', arg)[0])\n",
        "\n",
        "        # Поиск символа валюты в строке, и, если найдено,\n",
        "        # приведение к рублю по курсу валюты\n",
        "        for currency, rate in currency_rate.items():\n",
        "            if currency in arg:\n",
        "                value *= rate\n",
        "                break\n",
        "\n",
        "    except TypeError:\n",
        "        # Если не получилось выделить число - вернуть 0\n",
        "        value = 0.\n",
        "\n",
        "    return value / 1000.                  # В тысячах рублей"
      ],
      "execution_count": null,
      "outputs": []
    },
    {
      "cell_type": "code",
      "metadata": {
        "id": "7rXOxq9lFXY3"
      },
      "source": [
        "# Разбор данных о городe и преобразование в one hot encoding\n",
        "\n",
        "def extract_city_to_ohe(arg):\n",
        "    # Определение размерности выходного вектора\n",
        "    num_classes = city_class[0]\n",
        "\n",
        "    # Разбивка на слова\n",
        "    split_array = re.split(r'[ ,.:()?!]', arg)\n",
        "\n",
        "    # Поиск города в строке и присвоение ему класса\n",
        "    for word in split_array:\n",
        "        city_cls = city_class[1].get(word, -1)\n",
        "        if city_cls >= 0:\n",
        "            break\n",
        "    else:                                 # Внимание: for/else\n",
        "        # Город не в city_class - значит его класс \"прочие города\"\n",
        "        city_cls = num_classes - 1\n",
        "\n",
        "    # Возврат в виде one hot encoding-вектора\n",
        "    return utils.to_categorical(city_cls, num_classes)"
      ],
      "execution_count": null,
      "outputs": []
    },
    {
      "cell_type": "code",
      "metadata": {
        "id": "z5t3F4U5FXt-"
      },
      "source": [
        "# Разбор данных о желаемой занятости и преобразование в multi\n",
        "\n",
        "def extract_employment_to_multi(arg):\n",
        "    return str_to_multi(arg, employment_class)"
      ],
      "execution_count": null,
      "outputs": []
    },
    {
      "cell_type": "code",
      "metadata": {
        "id": "DWYotxpvFmwq"
      },
      "source": [
        "# Разбор данных о желаемом графике работы и преобразование в multi\n",
        "\n",
        "def extract_schedule_to_multi(arg):\n",
        "    return str_to_multi(arg, schedule_class)"
      ],
      "execution_count": null,
      "outputs": []
    },
    {
      "cell_type": "code",
      "metadata": {
        "id": "aJH1dMJBFnJs"
      },
      "source": [
        "# Разбор данных об образовании и преобразование в multi\n",
        "\n",
        "def extract_education_to_multi(arg):\n",
        "    result = str_to_multi(arg, education_class)\n",
        "\n",
        "    # Поправка: неоконченное высшее не может быть одновременно с высшим\n",
        "    if result[2] > 0.:\n",
        "        result[0] = 0.\n",
        "\n",
        "    return result"
      ],
      "execution_count": null,
      "outputs": []
    },
    {
      "cell_type": "code",
      "metadata": {
        "id": "-Gw-a0kDFne1"
      },
      "source": [
        "# Разбор данных об опыте работы - результат в месяцах\n",
        "\n",
        "def extract_experience_months(arg):\n",
        "    try:\n",
        "        # Выделение количества лет, преобразование в int\n",
        "        years = int(re.search(r'(\\d+)\\s+(год.?|лет)', arg)[1])\n",
        "\n",
        "    except (IndexError, TypeError, ValueError):\n",
        "        # Неудача - количество лет равно 0\n",
        "        years = 0\n",
        "\n",
        "    try:\n",
        "        # Выделение количества месяцев, преобразование в int\n",
        "        months = int(re.search(r'(\\d+)\\s+месяц', arg)[1])\n",
        "\n",
        "    except (IndexError, TypeError, ValueError):\n",
        "        # Неудача - количество месяцев равно 0\n",
        "        months = 0\n",
        "\n",
        "    # Возврат результата в месяцах\n",
        "    return years * 12 + months"
      ],
      "execution_count": null,
      "outputs": []
    },
    {
      "cell_type": "markdown",
      "metadata": {
        "id": "9MFFc7hcYg29"
      },
      "source": [
        "Функции подготовки выборок"
      ]
    },
    {
      "cell_type": "code",
      "metadata": {
        "id": "b0jq85WTahIA"
      },
      "source": [
        "def extract_row_data(row):\n",
        "\n",
        "    # Извлечение и преобразование данных\n",
        "    sex, age = extract_sex_age_years(row[COL_SEX_AGE])      # Пол, возраст\n",
        "    sex_vec = np.array([sex])                               # Пол в виде вектора\n",
        "    age_ohe = age_years_to_ohe(age)                         # Возраст в one hot encoding\n",
        "    city_ohe = extract_city_to_ohe(row[COL_CITY])           # Город\n",
        "    empl_multi = extract_employment_to_multi(row[COL_EMPL]) # Тип занятости\n",
        "    sсhed_multi = extract_schedule_to_multi(row[COL_SCHED]) # График работы\n",
        "    edu_multi = extract_education_to_multi(row[COL_EDU])    # Образование\n",
        "    exp_months = extract_experience_months(row[COL_EXP])    # Опыт работы в месяцах\n",
        "    exp_ohe = experience_months_to_ohe(exp_months)          # Опыт работы в one hot encoding\n",
        "    salary = extract_salary(row[COL_SALARY])                # Зарплата в тысячах рублей\n",
        "    salary_vec = np.array([salary])                         # Зарплата в виде вектора\n",
        "\n",
        "    # Объединение всех входных данных в один общий вектор\n",
        "    x_data = np.hstack([sex_vec,\n",
        "                        age_ohe,\n",
        "                        city_ohe,\n",
        "                        empl_multi,\n",
        "                        sсhed_multi,\n",
        "                        edu_multi,\n",
        "                        exp_ohe])\n",
        "\n",
        "    # Возврат входных данных и выходных (зарплаты)\n",
        "    return x_data, salary_vec\n",
        "\n",
        "\n",
        "# Создание общей выборки\n",
        "def construct_train_data(row_list):\n",
        "    x_data = []\n",
        "    y_data = []\n",
        "\n",
        "    for row in row_list:\n",
        "        x, y = extract_row_data(row)\n",
        "        if y[0] > 0:                      # Данные добавляются, только если есть зарплата\n",
        "            x_data.append(x)\n",
        "            y_data.append(y)\n",
        "\n",
        "    return np.array(x_data), np.array(y_data)"
      ],
      "execution_count": null,
      "outputs": []
    },
    {
      "cell_type": "code",
      "metadata": {
        "id": "fK9zVrEuMF4I"
      },
      "source": [
        "# Формирование выборки из загруженного набора данных\n",
        "x_train_01, y_train = construct_train_data(df.values)"
      ],
      "execution_count": null,
      "outputs": []
    },
    {
      "cell_type": "code",
      "metadata": {
        "colab": {
          "base_uri": "https://localhost:8080/"
        },
        "id": "neCPfE6DMnfu",
        "outputId": "ac6c1023-5c12-4b5d-96dd-07800b195964"
      },
      "source": [
        "# Форма наборов параметров и зарплат\n",
        "print(x_train_01.shape)\n",
        "print(y_train.shape)\n",
        "\n",
        "# Пример обработанных данных\n",
        "n = 0\n",
        "print(x_train_01[n])\n",
        "print(y_train[n])"
      ],
      "execution_count": null,
      "outputs": [
        {
          "output_type": "stream",
          "name": "stdout",
          "text": [
            "(62967, 39)\n",
            "(62967, 1)\n",
            "[0. 0. 0. 0. 1. 0. 0. 0. 0. 0. 0. 0. 0. 0. 0. 1. 0. 0. 0. 1. 0. 1. 0. 0.\n",
            " 0. 0. 0. 0. 0. 0. 0. 0. 1. 0. 0. 0. 0. 0. 0.]\n",
            "[40.]\n"
          ]
        }
      ]
    },
    {
      "cell_type": "markdown",
      "metadata": {
        "id": "jXQP_ALWdTdI"
      },
      "source": [
        "Функция отрисовки графика истории обучения"
      ]
    },
    {
      "cell_type": "code",
      "metadata": {
        "id": "Kb-Lu5fPdGoh"
      },
      "source": [
        "def plot_history(history):\n",
        "    plt.plot(history.history['mae'],\n",
        "            label='Средняя абсолютная ошибка на обучающем наборе')\n",
        "    plt.plot(history.history['val_mae'],\n",
        "            label='Средняя абсолютная ошибка на проверочном наборе')\n",
        "    plt.xlabel('Эпоха обучения')\n",
        "    plt.ylabel('Средняя абсолютная ошибка')\n",
        "    plt.legend()\n",
        "    plt.show()"
      ],
      "execution_count": null,
      "outputs": []
    },
    {
      "cell_type": "code",
      "metadata": {
        "id": "Lw5dKpafB7pT"
      },
      "source": [
        "# Ваше решение"
      ],
      "execution_count": null,
      "outputs": []
    }
  ]
}